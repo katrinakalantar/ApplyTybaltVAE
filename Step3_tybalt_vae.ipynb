{
 "cells": [
  {
   "cell_type": "markdown",
   "metadata": {},
   "source": [
    "# Variational Autoencoder for pan-cancer gene expression\n",
    "\n",
    "**Gregory Way 2017**\n",
    "\n",
    "This script trains and outputs results for a [variational autoencoder (VAE)](https://arxiv.org/abs/1312.6114)\n",
    "applied to gene expression data across 33 different cancer-types from The Cancer Genome Atlas (TCGA).\n",
    "\n",
    "A VAE aproximates the data generating function for the cancer data and learns the lower dimensional manifold a tumor occupies in gene expression space. By compressing the gene expression space into lower dimensional space, the VAE would, ideally, learn biological principles, such as cancer hallmark pathway activations, that help explain how tumors are similar and different. The VAE is also a generative model with a latent space that can be interpolated to observe transitions between cancer states.\n",
    "\n",
    "The particular model trained in this notebook consists of gene expression input (5000 most variably expressed genes by median absolute deviation) compressed down into two length 100 vectors (mean and variance encoded spaces) which are made deterministic through the reparameterization trick of sampling an epsilon vector from the uniform distribution. The encoded layer is then decoded back to original 5000 dimensions through a single reconstruction layer. I included a layer of batch normalization in the encoding step to prevent dead nodes. The encoding scheme also uses relu activation while the decoder uses a sigmoid activation to enforce positive activations. All weights are glorot uniform initialized. \n",
    "\n",
    "Another trick used here to encourage manifold learning is _warm start_ as discussed in [Sonderby et al. 2016](https://arxiv.org/abs/1602.02282). With warm starts, we add a parameter _beta_, which controls the contribution of the KL divergence loss in the total VAE loss (reconstruction + (beta * KL)). In this setting, the model begins training deterministically as a vanilla autoencoder (_beta_ = 0) and slowly ramps up after each epoch linearly until _beta_ = 1. After a parameter sweep, we observed that kappa has little influence in training, therefore, we set  _kappa_ = 1, which is a full VAE.\n",
    "\n",
    "Much of this script is inspired by the [keras variational_autoencoder.py example](https://github.com/fchollet/keras/blob/master/examples/variational_autoencoder.py)"
   ]
  },
  {
   "cell_type": "code",
   "execution_count": 88,
   "metadata": {},
   "outputs": [],
   "source": [
    "import os\n",
    "import numpy as np\n",
    "import pandas as pd\n",
    "import matplotlib.pyplot as plt\n",
    "import seaborn as sns\n",
    "\n",
    "import tensorflow as tf\n",
    "from keras.layers import Input, Dense, Lambda, Layer, Activation\n",
    "from keras.layers.normalization import BatchNormalization\n",
    "from keras.models import Model\n",
    "from keras import backend as K\n",
    "from keras import metrics, optimizers\n",
    "from keras.callbacks import Callback\n",
    "import keras\n",
    "\n",
    "import pydot\n",
    "import graphviz\n",
    "from keras.utils import plot_model\n",
    "from keras_tqdm import TQDMNotebookCallback\n",
    "from IPython.display import SVG\n",
    "from keras.utils.vis_utils import model_to_dot"
   ]
  },
  {
   "cell_type": "code",
   "execution_count": 89,
   "metadata": {},
   "outputs": [
    {
     "name": "stdout",
     "output_type": "stream",
     "text": [
      "2.1.3\n"
     ]
    },
    {
     "data": {
      "text/plain": [
       "'1.4.0'"
      ]
     },
     "execution_count": 89,
     "metadata": {},
     "output_type": "execute_result"
    }
   ],
   "source": [
    "print(keras.__version__)\n",
    "tf.__version__"
   ]
  },
  {
   "cell_type": "code",
   "execution_count": 90,
   "metadata": {},
   "outputs": [],
   "source": [
    "%matplotlib inline\n",
    "plt.style.use('seaborn-notebook')"
   ]
  },
  {
   "cell_type": "code",
   "execution_count": 91,
   "metadata": {},
   "outputs": [],
   "source": [
    "sns.set(style=\"white\", color_codes=True)\n",
    "sns.set_context(\"paper\", rc={\"font.size\":14,\"axes.titlesize\":15,\"axes.labelsize\":20,\n",
    "                             'xtick.labelsize':14, 'ytick.labelsize':14})"
   ]
  },
  {
   "cell_type": "markdown",
   "metadata": {},
   "source": [
    "## Load Functions and Classes\n",
    "\n",
    "This will facilitate connections between layers and also custom hyperparameters"
   ]
  },
  {
   "cell_type": "code",
   "execution_count": 92,
   "metadata": {},
   "outputs": [],
   "source": [
    "# Function for reparameterization trick to make model differentiable\n",
    "def sampling(args):\n",
    "    \n",
    "    import tensorflow as tf\n",
    "    # Function with args required for Keras Lambda function\n",
    "    z_mean, z_log_var = args\n",
    "\n",
    "    # Draw epsilon of the same shape from a standard normal distribution\n",
    "    epsilon = K.random_normal(shape=tf.shape(z_mean), mean=0.,\n",
    "                              stddev=epsilon_std)\n",
    "    \n",
    "    # The latent vector is non-deterministic and differentiable\n",
    "    # in respect to z_mean and z_log_var\n",
    "    z = z_mean + K.exp(z_log_var / 2) * epsilon\n",
    "    return z\n",
    "\n",
    "\n",
    "class CustomVariationalLayer(Layer):\n",
    "    \"\"\"\n",
    "    Define a custom layer that learns and performs the training\n",
    "    This function is borrowed from:\n",
    "    https://github.com/fchollet/keras/blob/master/examples/variational_autoencoder.py\n",
    "    \"\"\"\n",
    "    def __init__(self, **kwargs):\n",
    "        # https://keras.io/layers/writing-your-own-keras-layers/\n",
    "        self.is_placeholder = True\n",
    "        super(CustomVariationalLayer, self).__init__(**kwargs)\n",
    "\n",
    "    def vae_loss(self, x_input, x_decoded):\n",
    "        reconstruction_loss = original_dim * metrics.binary_crossentropy(x_input, x_decoded)\n",
    "        kl_loss = - 0.5 * K.sum(1 + z_log_var_encoded - K.square(z_mean_encoded) - \n",
    "                                K.exp(z_log_var_encoded), axis=-1)\n",
    "        return K.mean(reconstruction_loss + (K.get_value(beta) * kl_loss))\n",
    "\n",
    "    def call(self, inputs):\n",
    "        x = inputs[0]\n",
    "        x_decoded = inputs[1]\n",
    "        loss = self.vae_loss(x, x_decoded)\n",
    "        self.add_loss(loss, inputs=inputs)\n",
    "        # We won't actually use the output.\n",
    "        return x"
   ]
  },
  {
   "cell_type": "markdown",
   "metadata": {},
   "source": [
    "### Implementing Warm-up as described in Sonderby et al. LVAE\n",
    "\n",
    "This is modified code from https://github.com/fchollet/keras/issues/2595"
   ]
  },
  {
   "cell_type": "code",
   "execution_count": 93,
   "metadata": {},
   "outputs": [],
   "source": [
    "class WarmUpCallback(Callback):\n",
    "    def __init__(self, beta, kappa):\n",
    "        self.beta = beta\n",
    "        self.kappa = kappa\n",
    "    # Behavior on each epoch\n",
    "    def on_epoch_end(self, epoch, logs={}):\n",
    "        if K.get_value(self.beta) <= 1:\n",
    "            K.set_value(self.beta, K.get_value(self.beta) + self.kappa)"
   ]
  },
  {
   "cell_type": "code",
   "execution_count": 94,
   "metadata": {},
   "outputs": [],
   "source": [
    "np.random.seed(123)"
   ]
  },
  {
   "cell_type": "markdown",
   "metadata": {},
   "source": [
    "## Load Gene Expression Data"
   ]
  },
  {
   "cell_type": "code",
   "execution_count": 95,
   "metadata": {},
   "outputs": [
    {
     "name": "stdout",
     "output_type": "stream",
     "text": [
      "(1143, 5000)\n"
     ]
    },
    {
     "data": {
      "text/html": [
       "<div>\n",
       "<style scoped>\n",
       "    .dataframe tbody tr th:only-of-type {\n",
       "        vertical-align: middle;\n",
       "    }\n",
       "\n",
       "    .dataframe tbody tr th {\n",
       "        vertical-align: top;\n",
       "    }\n",
       "\n",
       "    .dataframe thead th {\n",
       "        text-align: right;\n",
       "    }\n",
       "</style>\n",
       "<table border=\"1\" class=\"dataframe\">\n",
       "  <thead>\n",
       "    <tr style=\"text-align: right;\">\n",
       "      <th></th>\n",
       "      <th>11244</th>\n",
       "      <th>1868215</th>\n",
       "      <th>ENSG00000229807.9</th>\n",
       "      <th>586</th>\n",
       "      <th>Uncategorized</th>\n",
       "      <th>12059</th>\n",
       "      <th>12058</th>\n",
       "      <th>1903414</th>\n",
       "      <th>ENSG00000067048.16</th>\n",
       "      <th>ENSG00000202198.1</th>\n",
       "      <th>...</th>\n",
       "      <th>ENSG00000042317.16</th>\n",
       "      <th>ENSG00000117215.14</th>\n",
       "      <th>ENSG00000149179.13</th>\n",
       "      <th>ENSG00000018699.11</th>\n",
       "      <th>ENSG00000112742.9</th>\n",
       "      <th>ENSG00000116649.9</th>\n",
       "      <th>ENSG00000119227.7</th>\n",
       "      <th>ENSG00000141698.16</th>\n",
       "      <th>ENSG00000103811.15</th>\n",
       "      <th>ENSG00000100234.11</th>\n",
       "    </tr>\n",
       "  </thead>\n",
       "  <tbody>\n",
       "    <tr>\n",
       "      <th>CHRF_RNA_0001_S1</th>\n",
       "      <td>0.0</td>\n",
       "      <td>0.0</td>\n",
       "      <td>0.476274</td>\n",
       "      <td>0.014692</td>\n",
       "      <td>0.623816</td>\n",
       "      <td>0.0</td>\n",
       "      <td>0.005011</td>\n",
       "      <td>0.018620</td>\n",
       "      <td>0.423272</td>\n",
       "      <td>0.396269</td>\n",
       "      <td>...</td>\n",
       "      <td>0.684292</td>\n",
       "      <td>0.804572</td>\n",
       "      <td>0.837691</td>\n",
       "      <td>0.733657</td>\n",
       "      <td>0.676144</td>\n",
       "      <td>0.705043</td>\n",
       "      <td>0.758952</td>\n",
       "      <td>0.719158</td>\n",
       "      <td>0.688606</td>\n",
       "      <td>0.763630</td>\n",
       "    </tr>\n",
       "    <tr>\n",
       "      <th>CHRF_RNA_0002_S2</th>\n",
       "      <td>0.0</td>\n",
       "      <td>0.0</td>\n",
       "      <td>0.436772</td>\n",
       "      <td>0.002053</td>\n",
       "      <td>0.461708</td>\n",
       "      <td>0.0</td>\n",
       "      <td>0.000000</td>\n",
       "      <td>0.005042</td>\n",
       "      <td>0.437189</td>\n",
       "      <td>0.348781</td>\n",
       "      <td>...</td>\n",
       "      <td>0.846956</td>\n",
       "      <td>0.506130</td>\n",
       "      <td>0.674280</td>\n",
       "      <td>0.905055</td>\n",
       "      <td>0.977248</td>\n",
       "      <td>0.512239</td>\n",
       "      <td>0.543441</td>\n",
       "      <td>0.519312</td>\n",
       "      <td>0.547809</td>\n",
       "      <td>0.582460</td>\n",
       "    </tr>\n",
       "    <tr>\n",
       "      <th>CHRF_RNA_0003_S3</th>\n",
       "      <td>0.0</td>\n",
       "      <td>0.0</td>\n",
       "      <td>0.316257</td>\n",
       "      <td>0.000000</td>\n",
       "      <td>0.611845</td>\n",
       "      <td>0.0</td>\n",
       "      <td>0.000000</td>\n",
       "      <td>0.010596</td>\n",
       "      <td>0.285203</td>\n",
       "      <td>0.231835</td>\n",
       "      <td>...</td>\n",
       "      <td>0.622641</td>\n",
       "      <td>0.623238</td>\n",
       "      <td>0.611058</td>\n",
       "      <td>0.662186</td>\n",
       "      <td>0.694747</td>\n",
       "      <td>0.592031</td>\n",
       "      <td>0.609300</td>\n",
       "      <td>0.536964</td>\n",
       "      <td>0.569926</td>\n",
       "      <td>0.668549</td>\n",
       "    </tr>\n",
       "    <tr>\n",
       "      <th>CHRF_RNA_0004_S4</th>\n",
       "      <td>0.0</td>\n",
       "      <td>0.0</td>\n",
       "      <td>0.316257</td>\n",
       "      <td>0.000000</td>\n",
       "      <td>0.805082</td>\n",
       "      <td>0.0</td>\n",
       "      <td>0.000000</td>\n",
       "      <td>0.018711</td>\n",
       "      <td>0.285203</td>\n",
       "      <td>0.193021</td>\n",
       "      <td>...</td>\n",
       "      <td>0.515906</td>\n",
       "      <td>0.328762</td>\n",
       "      <td>0.585463</td>\n",
       "      <td>0.562587</td>\n",
       "      <td>0.445714</td>\n",
       "      <td>0.401458</td>\n",
       "      <td>0.219386</td>\n",
       "      <td>0.499695</td>\n",
       "      <td>0.457387</td>\n",
       "      <td>0.416697</td>\n",
       "    </tr>\n",
       "    <tr>\n",
       "      <th>CHRF_RNA_0005_S5</th>\n",
       "      <td>0.0</td>\n",
       "      <td>0.0</td>\n",
       "      <td>0.325707</td>\n",
       "      <td>0.000000</td>\n",
       "      <td>0.661640</td>\n",
       "      <td>0.0</td>\n",
       "      <td>0.000000</td>\n",
       "      <td>0.007817</td>\n",
       "      <td>0.122157</td>\n",
       "      <td>0.368051</td>\n",
       "      <td>...</td>\n",
       "      <td>0.492910</td>\n",
       "      <td>0.497464</td>\n",
       "      <td>0.528855</td>\n",
       "      <td>0.676977</td>\n",
       "      <td>0.660858</td>\n",
       "      <td>0.334246</td>\n",
       "      <td>0.307947</td>\n",
       "      <td>0.465452</td>\n",
       "      <td>0.414416</td>\n",
       "      <td>0.531683</td>\n",
       "    </tr>\n",
       "  </tbody>\n",
       "</table>\n",
       "<p>5 rows × 5000 columns</p>\n",
       "</div>"
      ],
      "text/plain": [
       "                  11244  1868215  ENSG00000229807.9       586  Uncategorized  \\\n",
       "CHRF_RNA_0001_S1    0.0      0.0           0.476274  0.014692       0.623816   \n",
       "CHRF_RNA_0002_S2    0.0      0.0           0.436772  0.002053       0.461708   \n",
       "CHRF_RNA_0003_S3    0.0      0.0           0.316257  0.000000       0.611845   \n",
       "CHRF_RNA_0004_S4    0.0      0.0           0.316257  0.000000       0.805082   \n",
       "CHRF_RNA_0005_S5    0.0      0.0           0.325707  0.000000       0.661640   \n",
       "\n",
       "                  12059     12058   1903414  ENSG00000067048.16  \\\n",
       "CHRF_RNA_0001_S1    0.0  0.005011  0.018620            0.423272   \n",
       "CHRF_RNA_0002_S2    0.0  0.000000  0.005042            0.437189   \n",
       "CHRF_RNA_0003_S3    0.0  0.000000  0.010596            0.285203   \n",
       "CHRF_RNA_0004_S4    0.0  0.000000  0.018711            0.285203   \n",
       "CHRF_RNA_0005_S5    0.0  0.000000  0.007817            0.122157   \n",
       "\n",
       "                  ENSG00000202198.1         ...          ENSG00000042317.16  \\\n",
       "CHRF_RNA_0001_S1           0.396269         ...                    0.684292   \n",
       "CHRF_RNA_0002_S2           0.348781         ...                    0.846956   \n",
       "CHRF_RNA_0003_S3           0.231835         ...                    0.622641   \n",
       "CHRF_RNA_0004_S4           0.193021         ...                    0.515906   \n",
       "CHRF_RNA_0005_S5           0.368051         ...                    0.492910   \n",
       "\n",
       "                  ENSG00000117215.14  ENSG00000149179.13  ENSG00000018699.11  \\\n",
       "CHRF_RNA_0001_S1            0.804572            0.837691            0.733657   \n",
       "CHRF_RNA_0002_S2            0.506130            0.674280            0.905055   \n",
       "CHRF_RNA_0003_S3            0.623238            0.611058            0.662186   \n",
       "CHRF_RNA_0004_S4            0.328762            0.585463            0.562587   \n",
       "CHRF_RNA_0005_S5            0.497464            0.528855            0.676977   \n",
       "\n",
       "                  ENSG00000112742.9  ENSG00000116649.9  ENSG00000119227.7  \\\n",
       "CHRF_RNA_0001_S1           0.676144           0.705043           0.758952   \n",
       "CHRF_RNA_0002_S2           0.977248           0.512239           0.543441   \n",
       "CHRF_RNA_0003_S3           0.694747           0.592031           0.609300   \n",
       "CHRF_RNA_0004_S4           0.445714           0.401458           0.219386   \n",
       "CHRF_RNA_0005_S5           0.660858           0.334246           0.307947   \n",
       "\n",
       "                  ENSG00000141698.16  ENSG00000103811.15  ENSG00000100234.11  \n",
       "CHRF_RNA_0001_S1            0.719158            0.688606            0.763630  \n",
       "CHRF_RNA_0002_S2            0.519312            0.547809            0.582460  \n",
       "CHRF_RNA_0003_S3            0.536964            0.569926            0.668549  \n",
       "CHRF_RNA_0004_S4            0.499695            0.457387            0.416697  \n",
       "CHRF_RNA_0005_S5            0.465452            0.414416            0.531683  \n",
       "\n",
       "[5 rows x 5000 columns]"
      ]
     },
     "execution_count": 95,
     "metadata": {},
     "output_type": "execute_result"
    }
   ],
   "source": [
    "rnaseq_file = os.path.join('Data2', 'idseq_scaled_zeroone_rnaseq.tsv.gz')\n",
    "rnaseq_df = pd.read_table(rnaseq_file, index_col=0)\n",
    "print(rnaseq_df.shape)\n",
    "rnaseq_df.head(5)"
   ]
  },
  {
   "cell_type": "code",
   "execution_count": 96,
   "metadata": {},
   "outputs": [],
   "source": [
    "# Split 10% test set randomly\n",
    "test_set_percent = 0.1\n",
    "rnaseq_test_df = rnaseq_df.sample(frac=test_set_percent)\n",
    "rnaseq_train_df = rnaseq_df.drop(rnaseq_test_df.index)\n",
    "#train_set_percent =  1 # 0.02  # new\n",
    "#rnaseq_train_df = rnaseq_train_df.sample(frac=train_set_percent)  # new"
   ]
  },
  {
   "cell_type": "code",
   "execution_count": 97,
   "metadata": {},
   "outputs": [
    {
     "data": {
      "text/plain": [
       "'metadata = pd.read_csv(\"./data/raw/TCGA-PANCAN-HiSeq-801x20531_labels.csv\", index_col = 0)\\nmetadata_train = metadata.loc[list(rnaseq_train_df.index)]\\nprint(metadata_train.shape)\\nprint(rnaseq_train_df.shape)\\nprint(rnaseq_test_df.shape)'"
      ]
     },
     "execution_count": 97,
     "metadata": {},
     "output_type": "execute_result"
    }
   ],
   "source": [
    "'''metadata = pd.read_csv(\"./data/raw/TCGA-PANCAN-HiSeq-801x20531_labels.csv\", index_col = 0)\n",
    "metadata_train = metadata.loc[list(rnaseq_train_df.index)]\n",
    "print(metadata_train.shape)\n",
    "print(rnaseq_train_df.shape)\n",
    "print(rnaseq_test_df.shape)'''"
   ]
  },
  {
   "cell_type": "markdown",
   "metadata": {},
   "source": [
    "## Initialize variables and hyperparameters"
   ]
  },
  {
   "cell_type": "code",
   "execution_count": 98,
   "metadata": {},
   "outputs": [],
   "source": [
    "# Set hyper parameters\n",
    "original_dim = rnaseq_df.shape[1]\n",
    "latent_dim = 50\n",
    "\n",
    "batch_size = 50\n",
    "epochs = 100\n",
    "learning_rate = 0.0005\n",
    "\n",
    "epsilon_std = 1.0\n",
    "beta = K.variable(0)\n",
    "kappa = 1"
   ]
  },
  {
   "cell_type": "markdown",
   "metadata": {},
   "source": [
    "## Encoder"
   ]
  },
  {
   "cell_type": "code",
   "execution_count": 99,
   "metadata": {},
   "outputs": [],
   "source": [
    "# Input place holder for RNAseq data with specific input size\n",
    "rnaseq_input = Input(shape=(original_dim, ))\n",
    "\n",
    "# Input layer is compressed into a mean and log variance vector of size `latent_dim`\n",
    "# Each layer is initialized with glorot uniform weights and each step (dense connections,\n",
    "# batch norm, and relu activation) are funneled separately\n",
    "# Each vector of length `latent_dim` are connected to the rnaseq input tensor\n",
    "z_mean_dense_linear = Dense(latent_dim, kernel_initializer='glorot_uniform')(rnaseq_input)\n",
    "z_mean_dense_batchnorm = BatchNormalization()(z_mean_dense_linear)\n",
    "z_mean_encoded = Activation('relu')(z_mean_dense_batchnorm)\n",
    "\n",
    "z_log_var_dense_linear = Dense(latent_dim, kernel_initializer='glorot_uniform')(rnaseq_input)\n",
    "z_log_var_dense_batchnorm = BatchNormalization()(z_log_var_dense_linear)\n",
    "z_log_var_encoded = Activation('relu')(z_log_var_dense_batchnorm)\n",
    "\n",
    "# return the encoded and randomly sampled z vector\n",
    "# Takes two keras layers as input to the custom sampling function layer with a `latent_dim` output\n",
    "z = Lambda(sampling, output_shape=(latent_dim, ))([z_mean_encoded, z_log_var_encoded])"
   ]
  },
  {
   "cell_type": "markdown",
   "metadata": {},
   "source": [
    "## Decoder"
   ]
  },
  {
   "cell_type": "code",
   "execution_count": 100,
   "metadata": {},
   "outputs": [],
   "source": [
    "# The decoding layer is much simpler with a single layer and sigmoid activation\n",
    "decoder_to_reconstruct = Dense(original_dim, kernel_initializer='glorot_uniform', activation='sigmoid')\n",
    "rnaseq_reconstruct = decoder_to_reconstruct(z)"
   ]
  },
  {
   "cell_type": "markdown",
   "metadata": {},
   "source": [
    "## Connect the encoder and decoder to make the VAE\n",
    "\n",
    "The `CustomVariationalLayer()` includes the VAE loss function (reconstruction + (beta * KL)), which is what will drive our model to learn an interpretable representation of gene expression space.\n",
    "\n",
    "The VAE is compiled with an Adam optimizer and built-in custom loss function. The `loss_weights` parameter ensures beta is updated at each epoch end callback"
   ]
  },
  {
   "cell_type": "code",
   "execution_count": 101,
   "metadata": {},
   "outputs": [
    {
     "name": "stdout",
     "output_type": "stream",
     "text": [
      "__________________________________________________________________________________________________\n",
      "Layer (type)                    Output Shape         Param #     Connected to                     \n",
      "==================================================================================================\n",
      "input_7 (InputLayer)            (None, 5000)         0                                            \n",
      "__________________________________________________________________________________________________\n",
      "dense_10 (Dense)                (None, 50)           250050      input_7[0][0]                    \n",
      "__________________________________________________________________________________________________\n",
      "dense_11 (Dense)                (None, 50)           250050      input_7[0][0]                    \n",
      "__________________________________________________________________________________________________\n",
      "batch_normalization_7 (BatchNor (None, 50)           200         dense_10[0][0]                   \n",
      "__________________________________________________________________________________________________\n",
      "batch_normalization_8 (BatchNor (None, 50)           200         dense_11[0][0]                   \n",
      "__________________________________________________________________________________________________\n",
      "activation_7 (Activation)       (None, 50)           0           batch_normalization_7[0][0]      \n",
      "__________________________________________________________________________________________________\n",
      "activation_8 (Activation)       (None, 50)           0           batch_normalization_8[0][0]      \n",
      "__________________________________________________________________________________________________\n",
      "lambda_4 (Lambda)               (None, 50)           0           activation_7[0][0]               \n",
      "                                                                 activation_8[0][0]               \n",
      "__________________________________________________________________________________________________\n",
      "dense_12 (Dense)                (None, 5000)         255000      lambda_4[0][0]                   \n",
      "__________________________________________________________________________________________________\n",
      "custom_variational_layer_4 (Cus [(None, 5000), (None 0           input_7[0][0]                    \n",
      "                                                                 dense_12[0][0]                   \n",
      "==================================================================================================\n",
      "Total params: 755,500\n",
      "Trainable params: 755,300\n",
      "Non-trainable params: 200\n",
      "__________________________________________________________________________________________________\n"
     ]
    },
    {
     "name": "stderr",
     "output_type": "stream",
     "text": [
      "/data/katrina/anaconda3/envs/tybalt/lib/python3.5/site-packages/ipykernel/__main__.py:4: UserWarning: Output \"custom_variational_layer_4\" missing from loss dictionary. We assume this was done on purpose, and we will not be expecting any data to be passed to \"custom_variational_layer_4\" during training.\n"
     ]
    }
   ],
   "source": [
    "adam = optimizers.Adam(lr=learning_rate)\n",
    "vae_layer = CustomVariationalLayer()([rnaseq_input, rnaseq_reconstruct])\n",
    "vae = Model(rnaseq_input, vae_layer)\n",
    "vae.compile(optimizer=adam, loss=None, loss_weights=[beta])\n",
    "\n",
    "vae.summary()"
   ]
  },
  {
   "cell_type": "code",
   "execution_count": 102,
   "metadata": {},
   "outputs": [
    {
     "data": {
      "image/svg+xml": [
       "<svg height=\"483pt\" viewBox=\"0.00 0.00 669.50 483.00\" width=\"670pt\" xmlns=\"http://www.w3.org/2000/svg\" xmlns:xlink=\"http://www.w3.org/1999/xlink\">\n",
       "<g class=\"graph\" id=\"graph0\" transform=\"scale(1 1) rotate(0) translate(4 479)\">\n",
       "<title>G</title>\n",
       "<polygon fill=\"white\" points=\"-4,4 -4,-479 665.5,-479 665.5,4 -4,4\" stroke=\"none\"/>\n",
       "<!-- 140231162627912 -->\n",
       "<g class=\"node\" id=\"node1\"><title>140231162627912</title>\n",
       "<polygon fill=\"none\" points=\"345.5,-438.5 345.5,-474.5 470.5,-474.5 470.5,-438.5 345.5,-438.5\" stroke=\"black\"/>\n",
       "<text font-family=\"Times,serif\" font-size=\"14.00\" text-anchor=\"middle\" x=\"408\" y=\"-452.8\">input_7: InputLayer</text>\n",
       "</g>\n",
       "<!-- 140231162629648 -->\n",
       "<g class=\"node\" id=\"node2\"><title>140231162629648</title>\n",
       "<polygon fill=\"none\" points=\"151.5,-365.5 151.5,-401.5 260.5,-401.5 260.5,-365.5 151.5,-365.5\" stroke=\"black\"/>\n",
       "<text font-family=\"Times,serif\" font-size=\"14.00\" text-anchor=\"middle\" x=\"206\" y=\"-379.8\">dense_10: Dense</text>\n",
       "</g>\n",
       "<!-- 140231162627912&#45;&gt;140231162629648 -->\n",
       "<g class=\"edge\" id=\"edge1\"><title>140231162627912-&gt;140231162629648</title>\n",
       "<path d=\"M359.616,-438.494C330.969,-428.425 294.487,-415.602 264.264,-404.979\" fill=\"none\" stroke=\"black\"/>\n",
       "<polygon fill=\"black\" points=\"265.284,-401.628 254.689,-401.614 262.963,-408.232 265.284,-401.628\" stroke=\"black\"/>\n",
       "</g>\n",
       "<!-- 140231162628192 -->\n",
       "<g class=\"node\" id=\"node3\"><title>140231162628192</title>\n",
       "<polygon fill=\"none\" points=\"353.5,-365.5 353.5,-401.5 462.5,-401.5 462.5,-365.5 353.5,-365.5\" stroke=\"black\"/>\n",
       "<text font-family=\"Times,serif\" font-size=\"14.00\" text-anchor=\"middle\" x=\"408\" y=\"-379.8\">dense_11: Dense</text>\n",
       "</g>\n",
       "<!-- 140231162627912&#45;&gt;140231162628192 -->\n",
       "<g class=\"edge\" id=\"edge2\"><title>140231162627912-&gt;140231162628192</title>\n",
       "<path d=\"M408,-438.313C408,-430.289 408,-420.547 408,-411.569\" fill=\"none\" stroke=\"black\"/>\n",
       "<polygon fill=\"black\" points=\"411.5,-411.529 408,-401.529 404.5,-411.529 411.5,-411.529\" stroke=\"black\"/>\n",
       "</g>\n",
       "<!-- 140231156802224 -->\n",
       "<g class=\"node\" id=\"node10\"><title>140231156802224</title>\n",
       "<polygon fill=\"none\" points=\"350.5,-0.5 350.5,-36.5 661.5,-36.5 661.5,-0.5 350.5,-0.5\" stroke=\"black\"/>\n",
       "<text font-family=\"Times,serif\" font-size=\"14.00\" text-anchor=\"middle\" x=\"506\" y=\"-14.8\">custom_variational_layer_4: CustomVariationalLayer</text>\n",
       "</g>\n",
       "<!-- 140231162627912&#45;&gt;140231156802224 -->\n",
       "<g class=\"edge\" id=\"edge10\"><title>140231162627912-&gt;140231156802224</title>\n",
       "<path d=\"M450.757,-438.449C497.549,-416.635 566,-374.037 566,-311.5 566,-311.5 566,-311.5 566,-163.5 566,-119.458 541.789,-73.2636 524.127,-45.4229\" fill=\"none\" stroke=\"black\"/>\n",
       "<polygon fill=\"black\" points=\"526.834,-43.1683 518.432,-36.7144 520.976,-46.9994 526.834,-43.1683\" stroke=\"black\"/>\n",
       "</g>\n",
       "<!-- 140231162627240 -->\n",
       "<g class=\"node\" id=\"node4\"><title>140231162627240</title>\n",
       "<polygon fill=\"none\" points=\"0,-292.5 0,-328.5 260,-328.5 260,-292.5 0,-292.5\" stroke=\"black\"/>\n",
       "<text font-family=\"Times,serif\" font-size=\"14.00\" text-anchor=\"middle\" x=\"130\" y=\"-306.8\">batch_normalization_7: BatchNormalization</text>\n",
       "</g>\n",
       "<!-- 140231162629648&#45;&gt;140231162627240 -->\n",
       "<g class=\"edge\" id=\"edge3\"><title>140231162629648-&gt;140231162627240</title>\n",
       "<path d=\"M187.603,-365.313C177.987,-356.33 166.066,-345.193 155.568,-335.386\" fill=\"none\" stroke=\"black\"/>\n",
       "<polygon fill=\"black\" points=\"157.925,-332.798 148.228,-328.529 153.146,-337.913 157.925,-332.798\" stroke=\"black\"/>\n",
       "</g>\n",
       "<!-- 140231162629088 -->\n",
       "<g class=\"node\" id=\"node5\"><title>140231162629088</title>\n",
       "<polygon fill=\"none\" points=\"278,-292.5 278,-328.5 538,-328.5 538,-292.5 278,-292.5\" stroke=\"black\"/>\n",
       "<text font-family=\"Times,serif\" font-size=\"14.00\" text-anchor=\"middle\" x=\"408\" y=\"-306.8\">batch_normalization_8: BatchNormalization</text>\n",
       "</g>\n",
       "<!-- 140231162628192&#45;&gt;140231162629088 -->\n",
       "<g class=\"edge\" id=\"edge4\"><title>140231162628192-&gt;140231162629088</title>\n",
       "<path d=\"M408,-365.313C408,-357.289 408,-347.547 408,-338.569\" fill=\"none\" stroke=\"black\"/>\n",
       "<polygon fill=\"black\" points=\"411.5,-338.529 408,-328.529 404.5,-338.529 411.5,-338.529\" stroke=\"black\"/>\n",
       "</g>\n",
       "<!-- 140231162627184 -->\n",
       "<g class=\"node\" id=\"node6\"><title>140231162627184</title>\n",
       "<polygon fill=\"none\" points=\"112,-219.5 112,-255.5 260,-255.5 260,-219.5 112,-219.5\" stroke=\"black\"/>\n",
       "<text font-family=\"Times,serif\" font-size=\"14.00\" text-anchor=\"middle\" x=\"186\" y=\"-233.8\">activation_7: Activation</text>\n",
       "</g>\n",
       "<!-- 140231162627240&#45;&gt;140231162627184 -->\n",
       "<g class=\"edge\" id=\"edge5\"><title>140231162627240-&gt;140231162627184</title>\n",
       "<path d=\"M143.556,-292.313C150.366,-283.679 158.745,-273.055 166.255,-263.534\" fill=\"none\" stroke=\"black\"/>\n",
       "<polygon fill=\"black\" points=\"169.124,-265.548 172.569,-255.529 163.628,-261.213 169.124,-265.548\" stroke=\"black\"/>\n",
       "</g>\n",
       "<!-- 140231159672728 -->\n",
       "<g class=\"node\" id=\"node7\"><title>140231159672728</title>\n",
       "<polygon fill=\"none\" points=\"334,-219.5 334,-255.5 482,-255.5 482,-219.5 334,-219.5\" stroke=\"black\"/>\n",
       "<text font-family=\"Times,serif\" font-size=\"14.00\" text-anchor=\"middle\" x=\"408\" y=\"-233.8\">activation_8: Activation</text>\n",
       "</g>\n",
       "<!-- 140231162629088&#45;&gt;140231159672728 -->\n",
       "<g class=\"edge\" id=\"edge6\"><title>140231162629088-&gt;140231159672728</title>\n",
       "<path d=\"M408,-292.313C408,-284.289 408,-274.547 408,-265.569\" fill=\"none\" stroke=\"black\"/>\n",
       "<polygon fill=\"black\" points=\"411.5,-265.529 408,-255.529 404.5,-265.529 411.5,-265.529\" stroke=\"black\"/>\n",
       "</g>\n",
       "<!-- 140231159672504 -->\n",
       "<g class=\"node\" id=\"node8\"><title>140231159672504</title>\n",
       "<polygon fill=\"none\" points=\"346.5,-146.5 346.5,-182.5 469.5,-182.5 469.5,-146.5 346.5,-146.5\" stroke=\"black\"/>\n",
       "<text font-family=\"Times,serif\" font-size=\"14.00\" text-anchor=\"middle\" x=\"408\" y=\"-160.8\">lambda_4: Lambda</text>\n",
       "</g>\n",
       "<!-- 140231162627184&#45;&gt;140231159672504 -->\n",
       "<g class=\"edge\" id=\"edge7\"><title>140231162627184-&gt;140231159672504</title>\n",
       "<path d=\"M239.175,-219.494C270.931,-209.338 311.447,-196.379 344.828,-185.704\" fill=\"none\" stroke=\"black\"/>\n",
       "<polygon fill=\"black\" points=\"346.031,-188.994 354.49,-182.614 343.899,-182.326 346.031,-188.994\" stroke=\"black\"/>\n",
       "</g>\n",
       "<!-- 140231159672728&#45;&gt;140231159672504 -->\n",
       "<g class=\"edge\" id=\"edge8\"><title>140231159672728-&gt;140231159672504</title>\n",
       "<path d=\"M408,-219.313C408,-211.289 408,-201.547 408,-192.569\" fill=\"none\" stroke=\"black\"/>\n",
       "<polygon fill=\"black\" points=\"411.5,-192.529 408,-182.529 404.5,-192.529 411.5,-192.529\" stroke=\"black\"/>\n",
       "</g>\n",
       "<!-- 140231163951760 -->\n",
       "<g class=\"node\" id=\"node9\"><title>140231163951760</title>\n",
       "<polygon fill=\"none\" points=\"391.5,-73.5 391.5,-109.5 500.5,-109.5 500.5,-73.5 391.5,-73.5\" stroke=\"black\"/>\n",
       "<text font-family=\"Times,serif\" font-size=\"14.00\" text-anchor=\"middle\" x=\"446\" y=\"-87.8\">dense_12: Dense</text>\n",
       "</g>\n",
       "<!-- 140231159672504&#45;&gt;140231163951760 -->\n",
       "<g class=\"edge\" id=\"edge9\"><title>140231159672504-&gt;140231163951760</title>\n",
       "<path d=\"M417.199,-146.313C421.68,-137.941 427.162,-127.697 432.137,-118.403\" fill=\"none\" stroke=\"black\"/>\n",
       "<polygon fill=\"black\" points=\"435.253,-119.997 436.886,-109.529 429.081,-116.694 435.253,-119.997\" stroke=\"black\"/>\n",
       "</g>\n",
       "<!-- 140231163951760&#45;&gt;140231156802224 -->\n",
       "<g class=\"edge\" id=\"edge11\"><title>140231163951760-&gt;140231156802224</title>\n",
       "<path d=\"M460.524,-73.3129C467.894,-64.5918 476.98,-53.8402 485.088,-44.2459\" fill=\"none\" stroke=\"black\"/>\n",
       "<polygon fill=\"black\" points=\"487.828,-46.4259 491.609,-36.5288 482.482,-41.9077 487.828,-46.4259\" stroke=\"black\"/>\n",
       "</g>\n",
       "</g>\n",
       "</svg>"
      ],
      "text/plain": [
       "<IPython.core.display.SVG object>"
      ]
     },
     "execution_count": 102,
     "metadata": {},
     "output_type": "execute_result"
    }
   ],
   "source": [
    "# Visualize the connections of the custom VAE model\n",
    "output_model_file = os.path.join('figures', 'onehidden_vae_architecture.png')\n",
    "plot_model(vae, to_file=output_model_file)\n",
    "\n",
    "SVG(model_to_dot(vae).create(prog='dot', format='svg'))"
   ]
  },
  {
   "cell_type": "markdown",
   "metadata": {},
   "source": [
    "## Train the model\n",
    "\n",
    "The training data is shuffled after every epoch and 10% of the data is heldout for calculating validation loss."
   ]
  },
  {
   "cell_type": "code",
   "execution_count": 103,
   "metadata": {
    "scrolled": true
   },
   "outputs": [
    {
     "name": "stderr",
     "output_type": "stream",
     "text": [
      "Widget Javascript not detected.  It may not be installed or enabled properly.\n"
     ]
    },
    {
     "data": {
      "application/vnd.jupyter.widget-view+json": {
       "model_id": "2e7aaf1555fd427a80eb8aa8b813ae40"
      }
     },
     "metadata": {},
     "output_type": "display_data"
    },
    {
     "name": "stderr",
     "output_type": "stream",
     "text": [
      "Widget Javascript not detected.  It may not be installed or enabled properly.\n"
     ]
    },
    {
     "data": {
      "application/vnd.jupyter.widget-view+json": {
       "model_id": "79e4ce2468e44d32805f8eb5a119af3d"
      }
     },
     "metadata": {},
     "output_type": "display_data"
    },
    {
     "name": "stderr",
     "output_type": "stream",
     "text": [
      "Widget Javascript not detected.  It may not be installed or enabled properly.\n"
     ]
    },
    {
     "data": {
      "application/vnd.jupyter.widget-view+json": {
       "model_id": "6f29e92440ce4dad988f85b2f64baada"
      }
     },
     "metadata": {},
     "output_type": "display_data"
    },
    {
     "name": "stderr",
     "output_type": "stream",
     "text": [
      "Widget Javascript not detected.  It may not be installed or enabled properly.\n"
     ]
    },
    {
     "data": {
      "application/vnd.jupyter.widget-view+json": {
       "model_id": "795a7e72b6054a33b315479edfc4a86d"
      }
     },
     "metadata": {},
     "output_type": "display_data"
    },
    {
     "name": "stderr",
     "output_type": "stream",
     "text": [
      "Widget Javascript not detected.  It may not be installed or enabled properly.\n"
     ]
    },
    {
     "data": {
      "application/vnd.jupyter.widget-view+json": {
       "model_id": "e579f70b89e644169bb4ad275087c6e5"
      }
     },
     "metadata": {},
     "output_type": "display_data"
    },
    {
     "name": "stderr",
     "output_type": "stream",
     "text": [
      "Widget Javascript not detected.  It may not be installed or enabled properly.\n"
     ]
    },
    {
     "data": {
      "application/vnd.jupyter.widget-view+json": {
       "model_id": "e1de5160984043c8b5bb6a05bd2919cf"
      }
     },
     "metadata": {},
     "output_type": "display_data"
    },
    {
     "name": "stderr",
     "output_type": "stream",
     "text": [
      "Widget Javascript not detected.  It may not be installed or enabled properly.\n"
     ]
    },
    {
     "data": {
      "application/vnd.jupyter.widget-view+json": {
       "model_id": "831349632e0441888e09d05157cc02e4"
      }
     },
     "metadata": {},
     "output_type": "display_data"
    },
    {
     "name": "stderr",
     "output_type": "stream",
     "text": [
      "Widget Javascript not detected.  It may not be installed or enabled properly.\n"
     ]
    },
    {
     "data": {
      "application/vnd.jupyter.widget-view+json": {
       "model_id": "c29766a1fb574948b30a8630a532a1d5"
      }
     },
     "metadata": {},
     "output_type": "display_data"
    },
    {
     "name": "stderr",
     "output_type": "stream",
     "text": [
      "Widget Javascript not detected.  It may not be installed or enabled properly.\n"
     ]
    },
    {
     "data": {
      "application/vnd.jupyter.widget-view+json": {
       "model_id": "250be2c34de346e584470932a05baf47"
      }
     },
     "metadata": {},
     "output_type": "display_data"
    },
    {
     "name": "stderr",
     "output_type": "stream",
     "text": [
      "Widget Javascript not detected.  It may not be installed or enabled properly.\n"
     ]
    },
    {
     "data": {
      "application/vnd.jupyter.widget-view+json": {
       "model_id": "2b9755a65fe3473ca780f4d9cadb8a1c"
      }
     },
     "metadata": {},
     "output_type": "display_data"
    },
    {
     "name": "stderr",
     "output_type": "stream",
     "text": [
      "Widget Javascript not detected.  It may not be installed or enabled properly.\n"
     ]
    },
    {
     "data": {
      "application/vnd.jupyter.widget-view+json": {
       "model_id": "3495155c3d1e43baa9b72db32b036d24"
      }
     },
     "metadata": {},
     "output_type": "display_data"
    },
    {
     "name": "stderr",
     "output_type": "stream",
     "text": [
      "Widget Javascript not detected.  It may not be installed or enabled properly.\n"
     ]
    },
    {
     "data": {
      "application/vnd.jupyter.widget-view+json": {
       "model_id": "246a5b77840c4f0ba6daa1c91d561dad"
      }
     },
     "metadata": {},
     "output_type": "display_data"
    },
    {
     "name": "stderr",
     "output_type": "stream",
     "text": [
      "Widget Javascript not detected.  It may not be installed or enabled properly.\n"
     ]
    },
    {
     "data": {
      "application/vnd.jupyter.widget-view+json": {
       "model_id": "70c02bc0b02d4ece80895ea43867b066"
      }
     },
     "metadata": {},
     "output_type": "display_data"
    },
    {
     "name": "stderr",
     "output_type": "stream",
     "text": [
      "Widget Javascript not detected.  It may not be installed or enabled properly.\n"
     ]
    },
    {
     "data": {
      "application/vnd.jupyter.widget-view+json": {
       "model_id": "93063215dd024c04919c7f30c7228b69"
      }
     },
     "metadata": {},
     "output_type": "display_data"
    },
    {
     "name": "stderr",
     "output_type": "stream",
     "text": [
      "Widget Javascript not detected.  It may not be installed or enabled properly.\n"
     ]
    },
    {
     "data": {
      "application/vnd.jupyter.widget-view+json": {
       "model_id": "062adb1d8f3f400285c4e9186fc56633"
      }
     },
     "metadata": {},
     "output_type": "display_data"
    },
    {
     "name": "stderr",
     "output_type": "stream",
     "text": [
      "Widget Javascript not detected.  It may not be installed or enabled properly.\n"
     ]
    },
    {
     "data": {
      "application/vnd.jupyter.widget-view+json": {
       "model_id": "80a2be3690cd439a9740c2e33be87821"
      }
     },
     "metadata": {},
     "output_type": "display_data"
    },
    {
     "name": "stderr",
     "output_type": "stream",
     "text": [
      "Widget Javascript not detected.  It may not be installed or enabled properly.\n"
     ]
    },
    {
     "data": {
      "application/vnd.jupyter.widget-view+json": {
       "model_id": "53543e1f0fa6472796cbe2a67ad563dc"
      }
     },
     "metadata": {},
     "output_type": "display_data"
    },
    {
     "name": "stderr",
     "output_type": "stream",
     "text": [
      "Widget Javascript not detected.  It may not be installed or enabled properly.\n"
     ]
    },
    {
     "data": {
      "application/vnd.jupyter.widget-view+json": {
       "model_id": "aac8217051b2441388312604d01f011c"
      }
     },
     "metadata": {},
     "output_type": "display_data"
    },
    {
     "name": "stderr",
     "output_type": "stream",
     "text": [
      "Widget Javascript not detected.  It may not be installed or enabled properly.\n"
     ]
    },
    {
     "data": {
      "application/vnd.jupyter.widget-view+json": {
       "model_id": "239b185f217c4e34a3e1951b7ec58737"
      }
     },
     "metadata": {},
     "output_type": "display_data"
    },
    {
     "name": "stderr",
     "output_type": "stream",
     "text": [
      "Widget Javascript not detected.  It may not be installed or enabled properly.\n"
     ]
    },
    {
     "data": {
      "application/vnd.jupyter.widget-view+json": {
       "model_id": "32e88b7f3f314a739467f639f2603e3b"
      }
     },
     "metadata": {},
     "output_type": "display_data"
    },
    {
     "name": "stderr",
     "output_type": "stream",
     "text": [
      "Widget Javascript not detected.  It may not be installed or enabled properly.\n"
     ]
    },
    {
     "data": {
      "application/vnd.jupyter.widget-view+json": {
       "model_id": "e614324f0f93485faa25cdcf99f13f4c"
      }
     },
     "metadata": {},
     "output_type": "display_data"
    },
    {
     "name": "stderr",
     "output_type": "stream",
     "text": [
      "Widget Javascript not detected.  It may not be installed or enabled properly.\n"
     ]
    },
    {
     "data": {
      "application/vnd.jupyter.widget-view+json": {
       "model_id": "2722356c26c24f1897a1e87477b25eb8"
      }
     },
     "metadata": {},
     "output_type": "display_data"
    },
    {
     "name": "stderr",
     "output_type": "stream",
     "text": [
      "Widget Javascript not detected.  It may not be installed or enabled properly.\n"
     ]
    },
    {
     "data": {
      "application/vnd.jupyter.widget-view+json": {
       "model_id": "7f417e8e166948efa5e9e2dfc727ce16"
      }
     },
     "metadata": {},
     "output_type": "display_data"
    },
    {
     "name": "stderr",
     "output_type": "stream",
     "text": [
      "Widget Javascript not detected.  It may not be installed or enabled properly.\n"
     ]
    },
    {
     "data": {
      "application/vnd.jupyter.widget-view+json": {
       "model_id": "2259dd0d7c0f4ce8bc448a8bd2a4c27a"
      }
     },
     "metadata": {},
     "output_type": "display_data"
    },
    {
     "name": "stderr",
     "output_type": "stream",
     "text": [
      "Widget Javascript not detected.  It may not be installed or enabled properly.\n"
     ]
    },
    {
     "data": {
      "application/vnd.jupyter.widget-view+json": {
       "model_id": "46d30358243840d795fa35a8b952aece"
      }
     },
     "metadata": {},
     "output_type": "display_data"
    },
    {
     "name": "stderr",
     "output_type": "stream",
     "text": [
      "Widget Javascript not detected.  It may not be installed or enabled properly.\n"
     ]
    },
    {
     "data": {
      "application/vnd.jupyter.widget-view+json": {
       "model_id": "2e001c5fb3f24bfeb71108234dd245b6"
      }
     },
     "metadata": {},
     "output_type": "display_data"
    },
    {
     "name": "stderr",
     "output_type": "stream",
     "text": [
      "Widget Javascript not detected.  It may not be installed or enabled properly.\n"
     ]
    },
    {
     "data": {
      "application/vnd.jupyter.widget-view+json": {
       "model_id": "639148ad9c9e4683a3c2cf7315d3b411"
      }
     },
     "metadata": {},
     "output_type": "display_data"
    },
    {
     "name": "stderr",
     "output_type": "stream",
     "text": [
      "Widget Javascript not detected.  It may not be installed or enabled properly.\n"
     ]
    },
    {
     "data": {
      "application/vnd.jupyter.widget-view+json": {
       "model_id": "d3d8d08c464041a4b42e4fac35a57406"
      }
     },
     "metadata": {},
     "output_type": "display_data"
    },
    {
     "name": "stderr",
     "output_type": "stream",
     "text": [
      "Widget Javascript not detected.  It may not be installed or enabled properly.\n"
     ]
    },
    {
     "data": {
      "application/vnd.jupyter.widget-view+json": {
       "model_id": "7d6b04fd80fb4fe29cfbb7fb78bdf14e"
      }
     },
     "metadata": {},
     "output_type": "display_data"
    },
    {
     "name": "stderr",
     "output_type": "stream",
     "text": [
      "Widget Javascript not detected.  It may not be installed or enabled properly.\n"
     ]
    },
    {
     "data": {
      "application/vnd.jupyter.widget-view+json": {
       "model_id": "683106c676004c5a82f2bca23b7f8fab"
      }
     },
     "metadata": {},
     "output_type": "display_data"
    },
    {
     "name": "stderr",
     "output_type": "stream",
     "text": [
      "Widget Javascript not detected.  It may not be installed or enabled properly.\n"
     ]
    },
    {
     "data": {
      "application/vnd.jupyter.widget-view+json": {
       "model_id": "0d30d4602c244116b1970987cbf0626a"
      }
     },
     "metadata": {},
     "output_type": "display_data"
    },
    {
     "name": "stderr",
     "output_type": "stream",
     "text": [
      "Widget Javascript not detected.  It may not be installed or enabled properly.\n"
     ]
    },
    {
     "data": {
      "application/vnd.jupyter.widget-view+json": {
       "model_id": "4f1bc24670464d41a3ac3c6f4f3a7f19"
      }
     },
     "metadata": {},
     "output_type": "display_data"
    },
    {
     "name": "stderr",
     "output_type": "stream",
     "text": [
      "Widget Javascript not detected.  It may not be installed or enabled properly.\n"
     ]
    },
    {
     "data": {
      "application/vnd.jupyter.widget-view+json": {
       "model_id": "3b608ff24c2f4fc4886d5cfbaa0288af"
      }
     },
     "metadata": {},
     "output_type": "display_data"
    },
    {
     "name": "stderr",
     "output_type": "stream",
     "text": [
      "Widget Javascript not detected.  It may not be installed or enabled properly.\n"
     ]
    },
    {
     "data": {
      "application/vnd.jupyter.widget-view+json": {
       "model_id": "175fb76c8f14407f9b7c14b63d7d17de"
      }
     },
     "metadata": {},
     "output_type": "display_data"
    },
    {
     "name": "stderr",
     "output_type": "stream",
     "text": [
      "Widget Javascript not detected.  It may not be installed or enabled properly.\n"
     ]
    },
    {
     "data": {
      "application/vnd.jupyter.widget-view+json": {
       "model_id": "8742cbab307b40eea92dbbf359f4a7f9"
      }
     },
     "metadata": {},
     "output_type": "display_data"
    },
    {
     "name": "stderr",
     "output_type": "stream",
     "text": [
      "Widget Javascript not detected.  It may not be installed or enabled properly.\n"
     ]
    },
    {
     "data": {
      "application/vnd.jupyter.widget-view+json": {
       "model_id": "c5707a8ccc58401e9c0999dcee466659"
      }
     },
     "metadata": {},
     "output_type": "display_data"
    },
    {
     "name": "stderr",
     "output_type": "stream",
     "text": [
      "Widget Javascript not detected.  It may not be installed or enabled properly.\n"
     ]
    },
    {
     "data": {
      "application/vnd.jupyter.widget-view+json": {
       "model_id": "883619b019d94ce68c92f480554b7ad6"
      }
     },
     "metadata": {},
     "output_type": "display_data"
    },
    {
     "name": "stderr",
     "output_type": "stream",
     "text": [
      "Widget Javascript not detected.  It may not be installed or enabled properly.\n"
     ]
    },
    {
     "data": {
      "application/vnd.jupyter.widget-view+json": {
       "model_id": "d1d2443e6f514ccf94be93edc5eaed4a"
      }
     },
     "metadata": {},
     "output_type": "display_data"
    },
    {
     "name": "stderr",
     "output_type": "stream",
     "text": [
      "Widget Javascript not detected.  It may not be installed or enabled properly.\n"
     ]
    },
    {
     "data": {
      "application/vnd.jupyter.widget-view+json": {
       "model_id": "07af8004cbcb442bbc064f8f3ef0179a"
      }
     },
     "metadata": {},
     "output_type": "display_data"
    },
    {
     "name": "stderr",
     "output_type": "stream",
     "text": [
      "Widget Javascript not detected.  It may not be installed or enabled properly.\n"
     ]
    },
    {
     "data": {
      "application/vnd.jupyter.widget-view+json": {
       "model_id": "97ed5724be8e48378bacb40266db8cab"
      }
     },
     "metadata": {},
     "output_type": "display_data"
    },
    {
     "name": "stderr",
     "output_type": "stream",
     "text": [
      "Widget Javascript not detected.  It may not be installed or enabled properly.\n"
     ]
    },
    {
     "data": {
      "application/vnd.jupyter.widget-view+json": {
       "model_id": "cdc44da673e54c049ae1b1d7ed4ba806"
      }
     },
     "metadata": {},
     "output_type": "display_data"
    },
    {
     "name": "stderr",
     "output_type": "stream",
     "text": [
      "Widget Javascript not detected.  It may not be installed or enabled properly.\n"
     ]
    },
    {
     "data": {
      "application/vnd.jupyter.widget-view+json": {
       "model_id": "4f207e7d76f147f08f51876be563dd45"
      }
     },
     "metadata": {},
     "output_type": "display_data"
    },
    {
     "name": "stderr",
     "output_type": "stream",
     "text": [
      "Widget Javascript not detected.  It may not be installed or enabled properly.\n"
     ]
    },
    {
     "data": {
      "application/vnd.jupyter.widget-view+json": {
       "model_id": "1983977124b645bfb652bbc5b034f5ac"
      }
     },
     "metadata": {},
     "output_type": "display_data"
    },
    {
     "name": "stderr",
     "output_type": "stream",
     "text": [
      "Widget Javascript not detected.  It may not be installed or enabled properly.\n"
     ]
    },
    {
     "data": {
      "application/vnd.jupyter.widget-view+json": {
       "model_id": "1f68904cc95d4e288ccb2688c11761da"
      }
     },
     "metadata": {},
     "output_type": "display_data"
    },
    {
     "name": "stderr",
     "output_type": "stream",
     "text": [
      "Widget Javascript not detected.  It may not be installed or enabled properly.\n"
     ]
    },
    {
     "data": {
      "application/vnd.jupyter.widget-view+json": {
       "model_id": "833ec56b3da246a886ee649f5ecc787b"
      }
     },
     "metadata": {},
     "output_type": "display_data"
    },
    {
     "name": "stderr",
     "output_type": "stream",
     "text": [
      "Widget Javascript not detected.  It may not be installed or enabled properly.\n"
     ]
    },
    {
     "data": {
      "application/vnd.jupyter.widget-view+json": {
       "model_id": "1799ee55b97a4431bcbc760edf1f0d0d"
      }
     },
     "metadata": {},
     "output_type": "display_data"
    },
    {
     "name": "stderr",
     "output_type": "stream",
     "text": [
      "Widget Javascript not detected.  It may not be installed or enabled properly.\n"
     ]
    },
    {
     "data": {
      "application/vnd.jupyter.widget-view+json": {
       "model_id": "8600311c3cc246d298724d97f73055a7"
      }
     },
     "metadata": {},
     "output_type": "display_data"
    },
    {
     "name": "stderr",
     "output_type": "stream",
     "text": [
      "Widget Javascript not detected.  It may not be installed or enabled properly.\n"
     ]
    },
    {
     "data": {
      "application/vnd.jupyter.widget-view+json": {
       "model_id": "3c8ae8389c78466a84e272e0fbd8f712"
      }
     },
     "metadata": {},
     "output_type": "display_data"
    },
    {
     "name": "stderr",
     "output_type": "stream",
     "text": [
      "Widget Javascript not detected.  It may not be installed or enabled properly.\n"
     ]
    },
    {
     "data": {
      "application/vnd.jupyter.widget-view+json": {
       "model_id": "964ecbd8805b46b1be5d71662d53862d"
      }
     },
     "metadata": {},
     "output_type": "display_data"
    },
    {
     "name": "stderr",
     "output_type": "stream",
     "text": [
      "Widget Javascript not detected.  It may not be installed or enabled properly.\n"
     ]
    },
    {
     "data": {
      "application/vnd.jupyter.widget-view+json": {
       "model_id": "cf0e5ca4598b4a88a27181aa707af4f8"
      }
     },
     "metadata": {},
     "output_type": "display_data"
    },
    {
     "name": "stderr",
     "output_type": "stream",
     "text": [
      "Widget Javascript not detected.  It may not be installed or enabled properly.\n"
     ]
    },
    {
     "data": {
      "application/vnd.jupyter.widget-view+json": {
       "model_id": "bf14161a81f24ba8b36d568ed50934a9"
      }
     },
     "metadata": {},
     "output_type": "display_data"
    },
    {
     "name": "stderr",
     "output_type": "stream",
     "text": [
      "Widget Javascript not detected.  It may not be installed or enabled properly.\n"
     ]
    },
    {
     "data": {
      "application/vnd.jupyter.widget-view+json": {
       "model_id": "07b69bc46d4f4858914c1a35f47d2c1c"
      }
     },
     "metadata": {},
     "output_type": "display_data"
    },
    {
     "name": "stderr",
     "output_type": "stream",
     "text": [
      "Widget Javascript not detected.  It may not be installed or enabled properly.\n"
     ]
    },
    {
     "data": {
      "application/vnd.jupyter.widget-view+json": {
       "model_id": "2487ad1869b044fba40d0b920461d875"
      }
     },
     "metadata": {},
     "output_type": "display_data"
    },
    {
     "name": "stderr",
     "output_type": "stream",
     "text": [
      "Widget Javascript not detected.  It may not be installed or enabled properly.\n"
     ]
    },
    {
     "data": {
      "application/vnd.jupyter.widget-view+json": {
       "model_id": "f704270076194620993c9e9d101a8507"
      }
     },
     "metadata": {},
     "output_type": "display_data"
    },
    {
     "name": "stderr",
     "output_type": "stream",
     "text": [
      "Widget Javascript not detected.  It may not be installed or enabled properly.\n"
     ]
    },
    {
     "data": {
      "application/vnd.jupyter.widget-view+json": {
       "model_id": "fd3658602f2644409e33db75d42c73a0"
      }
     },
     "metadata": {},
     "output_type": "display_data"
    },
    {
     "name": "stderr",
     "output_type": "stream",
     "text": [
      "Widget Javascript not detected.  It may not be installed or enabled properly.\n"
     ]
    },
    {
     "data": {
      "application/vnd.jupyter.widget-view+json": {
       "model_id": "a2459e63d8eb4b55b89971e1568bc2e8"
      }
     },
     "metadata": {},
     "output_type": "display_data"
    },
    {
     "name": "stderr",
     "output_type": "stream",
     "text": [
      "Widget Javascript not detected.  It may not be installed or enabled properly.\n"
     ]
    },
    {
     "data": {
      "application/vnd.jupyter.widget-view+json": {
       "model_id": "2d7d9cc2ebd94abb998853fcda60aa5c"
      }
     },
     "metadata": {},
     "output_type": "display_data"
    },
    {
     "name": "stderr",
     "output_type": "stream",
     "text": [
      "Widget Javascript not detected.  It may not be installed or enabled properly.\n"
     ]
    },
    {
     "data": {
      "application/vnd.jupyter.widget-view+json": {
       "model_id": "7bc2fc5c28484f6d808931638d792533"
      }
     },
     "metadata": {},
     "output_type": "display_data"
    },
    {
     "name": "stderr",
     "output_type": "stream",
     "text": [
      "Widget Javascript not detected.  It may not be installed or enabled properly.\n"
     ]
    },
    {
     "data": {
      "application/vnd.jupyter.widget-view+json": {
       "model_id": "f9294a3c2911474d8df6a6e114f96b09"
      }
     },
     "metadata": {},
     "output_type": "display_data"
    },
    {
     "name": "stderr",
     "output_type": "stream",
     "text": [
      "Widget Javascript not detected.  It may not be installed or enabled properly.\n"
     ]
    },
    {
     "data": {
      "application/vnd.jupyter.widget-view+json": {
       "model_id": "5cc902e970944545884bac9a7e63dfb2"
      }
     },
     "metadata": {},
     "output_type": "display_data"
    },
    {
     "name": "stderr",
     "output_type": "stream",
     "text": [
      "Widget Javascript not detected.  It may not be installed or enabled properly.\n"
     ]
    },
    {
     "data": {
      "application/vnd.jupyter.widget-view+json": {
       "model_id": "4cb038d684544f35acf3bedc3e9cf601"
      }
     },
     "metadata": {},
     "output_type": "display_data"
    },
    {
     "name": "stderr",
     "output_type": "stream",
     "text": [
      "Widget Javascript not detected.  It may not be installed or enabled properly.\n"
     ]
    },
    {
     "data": {
      "application/vnd.jupyter.widget-view+json": {
       "model_id": "d02c8724a10d4bb6b42490a960af0f46"
      }
     },
     "metadata": {},
     "output_type": "display_data"
    },
    {
     "name": "stderr",
     "output_type": "stream",
     "text": [
      "Widget Javascript not detected.  It may not be installed or enabled properly.\n"
     ]
    },
    {
     "data": {
      "application/vnd.jupyter.widget-view+json": {
       "model_id": "e104ab62ff3f4eef81b7192280a6a56f"
      }
     },
     "metadata": {},
     "output_type": "display_data"
    },
    {
     "name": "stderr",
     "output_type": "stream",
     "text": [
      "Widget Javascript not detected.  It may not be installed or enabled properly.\n"
     ]
    },
    {
     "data": {
      "application/vnd.jupyter.widget-view+json": {
       "model_id": "77d51f2535d04a1eb428d98ae878aedc"
      }
     },
     "metadata": {},
     "output_type": "display_data"
    },
    {
     "name": "stderr",
     "output_type": "stream",
     "text": [
      "Widget Javascript not detected.  It may not be installed or enabled properly.\n"
     ]
    },
    {
     "data": {
      "application/vnd.jupyter.widget-view+json": {
       "model_id": "1b5b4ecbdd2941ee99757eab83587665"
      }
     },
     "metadata": {},
     "output_type": "display_data"
    },
    {
     "name": "stderr",
     "output_type": "stream",
     "text": [
      "Widget Javascript not detected.  It may not be installed or enabled properly.\n"
     ]
    },
    {
     "data": {
      "application/vnd.jupyter.widget-view+json": {
       "model_id": "1edcc36b71c94991b05be1c47bb9bab9"
      }
     },
     "metadata": {},
     "output_type": "display_data"
    },
    {
     "name": "stderr",
     "output_type": "stream",
     "text": [
      "Widget Javascript not detected.  It may not be installed or enabled properly.\n"
     ]
    },
    {
     "data": {
      "application/vnd.jupyter.widget-view+json": {
       "model_id": "d29e5cf1c2e74ae697dcaaf501a59ca9"
      }
     },
     "metadata": {},
     "output_type": "display_data"
    },
    {
     "name": "stderr",
     "output_type": "stream",
     "text": [
      "Widget Javascript not detected.  It may not be installed or enabled properly.\n"
     ]
    },
    {
     "data": {
      "application/vnd.jupyter.widget-view+json": {
       "model_id": "56445b11a8ac4fb4b2de57b9cb0d4a7f"
      }
     },
     "metadata": {},
     "output_type": "display_data"
    },
    {
     "name": "stderr",
     "output_type": "stream",
     "text": [
      "Widget Javascript not detected.  It may not be installed or enabled properly.\n"
     ]
    },
    {
     "data": {
      "application/vnd.jupyter.widget-view+json": {
       "model_id": "e0399bfa858e4e0a8b25200bd7fcf8ad"
      }
     },
     "metadata": {},
     "output_type": "display_data"
    },
    {
     "name": "stderr",
     "output_type": "stream",
     "text": [
      "Widget Javascript not detected.  It may not be installed or enabled properly.\n"
     ]
    },
    {
     "data": {
      "application/vnd.jupyter.widget-view+json": {
       "model_id": "849e6aff50fc41dab07258da008f8f50"
      }
     },
     "metadata": {},
     "output_type": "display_data"
    },
    {
     "name": "stderr",
     "output_type": "stream",
     "text": [
      "Widget Javascript not detected.  It may not be installed or enabled properly.\n"
     ]
    },
    {
     "data": {
      "application/vnd.jupyter.widget-view+json": {
       "model_id": "b120d23a53954eaeb3d500ab1019ec10"
      }
     },
     "metadata": {},
     "output_type": "display_data"
    },
    {
     "name": "stderr",
     "output_type": "stream",
     "text": [
      "Widget Javascript not detected.  It may not be installed or enabled properly.\n"
     ]
    },
    {
     "data": {
      "application/vnd.jupyter.widget-view+json": {
       "model_id": "6a8fcd1383f84167a3c7a6bfbdce12a3"
      }
     },
     "metadata": {},
     "output_type": "display_data"
    },
    {
     "name": "stderr",
     "output_type": "stream",
     "text": [
      "Widget Javascript not detected.  It may not be installed or enabled properly.\n"
     ]
    },
    {
     "data": {
      "application/vnd.jupyter.widget-view+json": {
       "model_id": "251cd2cbc3284642b9cfadfe008d0a98"
      }
     },
     "metadata": {},
     "output_type": "display_data"
    },
    {
     "name": "stderr",
     "output_type": "stream",
     "text": [
      "Widget Javascript not detected.  It may not be installed or enabled properly.\n"
     ]
    },
    {
     "data": {
      "application/vnd.jupyter.widget-view+json": {
       "model_id": "5799426abec7493fbaa4d627f1bcb3f3"
      }
     },
     "metadata": {},
     "output_type": "display_data"
    },
    {
     "name": "stderr",
     "output_type": "stream",
     "text": [
      "Widget Javascript not detected.  It may not be installed or enabled properly.\n"
     ]
    },
    {
     "data": {
      "application/vnd.jupyter.widget-view+json": {
       "model_id": "59846c5d5c4247dcbd5b7a18ce709882"
      }
     },
     "metadata": {},
     "output_type": "display_data"
    },
    {
     "name": "stderr",
     "output_type": "stream",
     "text": [
      "Widget Javascript not detected.  It may not be installed or enabled properly.\n"
     ]
    },
    {
     "data": {
      "application/vnd.jupyter.widget-view+json": {
       "model_id": "e412032aae074fc1a2420b2facee4210"
      }
     },
     "metadata": {},
     "output_type": "display_data"
    },
    {
     "name": "stderr",
     "output_type": "stream",
     "text": [
      "Widget Javascript not detected.  It may not be installed or enabled properly.\n"
     ]
    },
    {
     "data": {
      "application/vnd.jupyter.widget-view+json": {
       "model_id": "1c99cef8a5834ff388cf5f52da942cac"
      }
     },
     "metadata": {},
     "output_type": "display_data"
    },
    {
     "name": "stderr",
     "output_type": "stream",
     "text": [
      "Widget Javascript not detected.  It may not be installed or enabled properly.\n"
     ]
    },
    {
     "data": {
      "application/vnd.jupyter.widget-view+json": {
       "model_id": "b7d99483fdaf46bcbc7df1f08481da4e"
      }
     },
     "metadata": {},
     "output_type": "display_data"
    },
    {
     "name": "stderr",
     "output_type": "stream",
     "text": [
      "Widget Javascript not detected.  It may not be installed or enabled properly.\n"
     ]
    },
    {
     "data": {
      "application/vnd.jupyter.widget-view+json": {
       "model_id": "d46f115176974eba989cf930f4bdcbda"
      }
     },
     "metadata": {},
     "output_type": "display_data"
    },
    {
     "name": "stderr",
     "output_type": "stream",
     "text": [
      "Widget Javascript not detected.  It may not be installed or enabled properly.\n"
     ]
    },
    {
     "data": {
      "application/vnd.jupyter.widget-view+json": {
       "model_id": "f25e2a9a5da84d6aa2119fcd86d703a2"
      }
     },
     "metadata": {},
     "output_type": "display_data"
    },
    {
     "name": "stderr",
     "output_type": "stream",
     "text": [
      "Widget Javascript not detected.  It may not be installed or enabled properly.\n"
     ]
    },
    {
     "data": {
      "application/vnd.jupyter.widget-view+json": {
       "model_id": "3b4c82e350a346eda3202bfd4fe89212"
      }
     },
     "metadata": {},
     "output_type": "display_data"
    },
    {
     "name": "stderr",
     "output_type": "stream",
     "text": [
      "Widget Javascript not detected.  It may not be installed or enabled properly.\n"
     ]
    },
    {
     "data": {
      "application/vnd.jupyter.widget-view+json": {
       "model_id": "f89ab2852aa04aaa8793644b83852ae6"
      }
     },
     "metadata": {},
     "output_type": "display_data"
    },
    {
     "name": "stderr",
     "output_type": "stream",
     "text": [
      "Widget Javascript not detected.  It may not be installed or enabled properly.\n"
     ]
    },
    {
     "data": {
      "application/vnd.jupyter.widget-view+json": {
       "model_id": "0d21795a193d41f58edf324237e775ae"
      }
     },
     "metadata": {},
     "output_type": "display_data"
    },
    {
     "name": "stderr",
     "output_type": "stream",
     "text": [
      "Widget Javascript not detected.  It may not be installed or enabled properly.\n"
     ]
    },
    {
     "data": {
      "application/vnd.jupyter.widget-view+json": {
       "model_id": "7f8ce7cdbf8941d7bbc4ea2765fcc217"
      }
     },
     "metadata": {},
     "output_type": "display_data"
    },
    {
     "name": "stderr",
     "output_type": "stream",
     "text": [
      "Widget Javascript not detected.  It may not be installed or enabled properly.\n"
     ]
    },
    {
     "data": {
      "application/vnd.jupyter.widget-view+json": {
       "model_id": "aabff32ffca44f358f6dd4192d631875"
      }
     },
     "metadata": {},
     "output_type": "display_data"
    },
    {
     "name": "stderr",
     "output_type": "stream",
     "text": [
      "Widget Javascript not detected.  It may not be installed or enabled properly.\n"
     ]
    },
    {
     "data": {
      "application/vnd.jupyter.widget-view+json": {
       "model_id": "9385153101e44e2db6592d11c2ee497a"
      }
     },
     "metadata": {},
     "output_type": "display_data"
    },
    {
     "name": "stderr",
     "output_type": "stream",
     "text": [
      "Widget Javascript not detected.  It may not be installed or enabled properly.\n"
     ]
    },
    {
     "data": {
      "application/vnd.jupyter.widget-view+json": {
       "model_id": "5139b4886f564925af4a04b083f19536"
      }
     },
     "metadata": {},
     "output_type": "display_data"
    },
    {
     "name": "stderr",
     "output_type": "stream",
     "text": [
      "Widget Javascript not detected.  It may not be installed or enabled properly.\n"
     ]
    },
    {
     "data": {
      "application/vnd.jupyter.widget-view+json": {
       "model_id": "1f22fa12302f4d05b4fb5c7c015990f1"
      }
     },
     "metadata": {},
     "output_type": "display_data"
    },
    {
     "name": "stderr",
     "output_type": "stream",
     "text": [
      "Widget Javascript not detected.  It may not be installed or enabled properly.\n"
     ]
    },
    {
     "data": {
      "application/vnd.jupyter.widget-view+json": {
       "model_id": "efad2d94d371491ba9d6f4ca67ab61b0"
      }
     },
     "metadata": {},
     "output_type": "display_data"
    },
    {
     "name": "stderr",
     "output_type": "stream",
     "text": [
      "Widget Javascript not detected.  It may not be installed or enabled properly.\n"
     ]
    },
    {
     "data": {
      "application/vnd.jupyter.widget-view+json": {
       "model_id": "5448f278df98494b93239c3273788168"
      }
     },
     "metadata": {},
     "output_type": "display_data"
    },
    {
     "name": "stderr",
     "output_type": "stream",
     "text": [
      "Widget Javascript not detected.  It may not be installed or enabled properly.\n"
     ]
    },
    {
     "data": {
      "application/vnd.jupyter.widget-view+json": {
       "model_id": "0c5edc50b13f4c7399d7874df1d370c2"
      }
     },
     "metadata": {},
     "output_type": "display_data"
    },
    {
     "name": "stderr",
     "output_type": "stream",
     "text": [
      "Widget Javascript not detected.  It may not be installed or enabled properly.\n"
     ]
    },
    {
     "data": {
      "application/vnd.jupyter.widget-view+json": {
       "model_id": "af8bb305b20e4fa293807e101fab38e7"
      }
     },
     "metadata": {},
     "output_type": "display_data"
    },
    {
     "name": "stderr",
     "output_type": "stream",
     "text": [
      "Widget Javascript not detected.  It may not be installed or enabled properly.\n"
     ]
    },
    {
     "data": {
      "application/vnd.jupyter.widget-view+json": {
       "model_id": "01a52ba6ffe449bcad6841f4099a2b74"
      }
     },
     "metadata": {},
     "output_type": "display_data"
    },
    {
     "name": "stderr",
     "output_type": "stream",
     "text": [
      "Widget Javascript not detected.  It may not be installed or enabled properly.\n"
     ]
    },
    {
     "data": {
      "application/vnd.jupyter.widget-view+json": {
       "model_id": "641e10548b824a73801399c2e5d9fef0"
      }
     },
     "metadata": {},
     "output_type": "display_data"
    },
    {
     "name": "stderr",
     "output_type": "stream",
     "text": [
      "Widget Javascript not detected.  It may not be installed or enabled properly.\n"
     ]
    },
    {
     "data": {
      "application/vnd.jupyter.widget-view+json": {
       "model_id": "d7c91f4dfaf2479aacc6707f446160a8"
      }
     },
     "metadata": {},
     "output_type": "display_data"
    },
    {
     "name": "stderr",
     "output_type": "stream",
     "text": [
      "Widget Javascript not detected.  It may not be installed or enabled properly.\n"
     ]
    },
    {
     "data": {
      "application/vnd.jupyter.widget-view+json": {
       "model_id": "8555bd3a1fad440eb12dd6aaa073deae"
      }
     },
     "metadata": {},
     "output_type": "display_data"
    },
    {
     "name": "stderr",
     "output_type": "stream",
     "text": [
      "Widget Javascript not detected.  It may not be installed or enabled properly.\n"
     ]
    },
    {
     "data": {
      "application/vnd.jupyter.widget-view+json": {
       "model_id": "544362f05aa94cab838ace9e9731167a"
      }
     },
     "metadata": {},
     "output_type": "display_data"
    },
    {
     "name": "stderr",
     "output_type": "stream",
     "text": [
      "Widget Javascript not detected.  It may not be installed or enabled properly.\n"
     ]
    },
    {
     "data": {
      "application/vnd.jupyter.widget-view+json": {
       "model_id": "2f9379b98d7a4e4e8cae4f44095c18c7"
      }
     },
     "metadata": {},
     "output_type": "display_data"
    },
    {
     "name": "stderr",
     "output_type": "stream",
     "text": [
      "Widget Javascript not detected.  It may not be installed or enabled properly.\n"
     ]
    },
    {
     "data": {
      "application/vnd.jupyter.widget-view+json": {
       "model_id": "ad1bbe50d11a4aaf9059fb5c4d7747c8"
      }
     },
     "metadata": {},
     "output_type": "display_data"
    },
    {
     "name": "stderr",
     "output_type": "stream",
     "text": [
      "Widget Javascript not detected.  It may not be installed or enabled properly.\n"
     ]
    },
    {
     "data": {
      "application/vnd.jupyter.widget-view+json": {
       "model_id": "194f9b39c0d64ea7835361de9101de50"
      }
     },
     "metadata": {},
     "output_type": "display_data"
    },
    {
     "name": "stderr",
     "output_type": "stream",
     "text": [
      "Widget Javascript not detected.  It may not be installed or enabled properly.\n"
     ]
    },
    {
     "data": {
      "application/vnd.jupyter.widget-view+json": {
       "model_id": "a9d2557c637748438ded39f117345cf9"
      }
     },
     "metadata": {},
     "output_type": "display_data"
    },
    {
     "name": "stdout",
     "output_type": "stream",
     "text": [
      "\n",
      "CPU times: user 19min, sys: 4min 34s, total: 23min 35s\n",
      "Wall time: 1min 34s\n"
     ]
    }
   ],
   "source": [
    "%%time\n",
    "hist = vae.fit(np.array(rnaseq_train_df),\n",
    "               shuffle=True,\n",
    "               epochs=epochs,\n",
    "               verbose=0,\n",
    "               batch_size=batch_size,\n",
    "               validation_data=(np.array(rnaseq_test_df), None),\n",
    "               callbacks=[WarmUpCallback(beta, kappa),\n",
    "                          TQDMNotebookCallback(leave_inner=True, leave_outer=True)])"
   ]
  },
  {
   "cell_type": "code",
   "execution_count": 104,
   "metadata": {},
   "outputs": [
    {
     "data": {
      "image/png": "[encoded data removed]",
      "text/plain": [
       "<matplotlib.figure.Figure at 0x7f8a27e70c18>"
      ]
     },
     "metadata": {},
     "output_type": "display_data"
    }
   ],
   "source": [
    "# Visualize training performance\n",
    "history_df = pd.DataFrame(hist.history)\n",
    "hist_plot_file = os.path.join('/data/katrina/AutoEncode/tybalt/PDFS/', 'onehidden_vae_training_50LV.pdf')\n",
    "ax = history_df.plot(figsize = (10,8))\n",
    "ax.set_xlabel('Epochs')\n",
    "ax.set_ylabel('VAE Loss')\n",
    "fig = ax.get_figure()\n",
    "fig.savefig(hist_plot_file)"
   ]
  },
  {
   "cell_type": "markdown",
   "metadata": {},
   "source": [
    "## Compile and output trained models\n",
    "\n",
    "We are interested in:\n",
    "\n",
    "1. The model to encode/compress the input gene expression data\n",
    "  * Can be possibly used to compress other tumors\n",
    "2. The model to decode/decompress the latent space back into gene expression space\n",
    "  * This is our generative model\n",
    "3. The latent space compression of all pan cancer TCGA samples\n",
    "  * Non-linear reduced dimension representation of tumors can be used as features for various tasks\n",
    "    * Supervised learning tasks predicting specific gene inactivation events\n",
    "    * Interpolating across this space to observe how gene expression changes between two cancer states\n",
    "4. The weights used to compress each latent node\n",
    "  * Potentially indicate learned biology differentially activating tumors"
   ]
  },
  {
   "cell_type": "markdown",
   "metadata": {},
   "source": [
    "### Encoder model"
   ]
  },
  {
   "cell_type": "code",
   "execution_count": 105,
   "metadata": {},
   "outputs": [],
   "source": [
    "# Model to compress input\n",
    "encoder = Model(rnaseq_input, z_mean_encoded)"
   ]
  },
  {
   "cell_type": "code",
   "execution_count": 106,
   "metadata": {},
   "outputs": [],
   "source": [
    "# Encode rnaseq into the hidden/latent representation - and save output\n",
    "encoded_rnaseq_df = encoder.predict_on_batch(rnaseq_df)\n",
    "encoded_rnaseq_df = pd.DataFrame(encoded_rnaseq_df, index=rnaseq_df.index)\n",
    "\n",
    "encoded_rnaseq_df.columns.name = 'sample_id'\n",
    "encoded_rnaseq_df.columns = encoded_rnaseq_df.columns + 1\n",
    "encoded_file = os.path.join('Data2', 'encoded_rnaseq_onehidden_warmup_batchnorm.tsv')\n",
    "encoded_rnaseq_df.to_csv(encoded_file, sep='\\t')"
   ]
  },
  {
   "cell_type": "code",
   "execution_count": 107,
   "metadata": {},
   "outputs": [
    {
     "data": {
      "text/html": [
       "<div>\n",
       "<style scoped>\n",
       "    .dataframe tbody tr th:only-of-type {\n",
       "        vertical-align: middle;\n",
       "    }\n",
       "\n",
       "    .dataframe tbody tr th {\n",
       "        vertical-align: top;\n",
       "    }\n",
       "\n",
       "    .dataframe thead th {\n",
       "        text-align: right;\n",
       "    }\n",
       "</style>\n",
       "<table border=\"1\" class=\"dataframe\">\n",
       "  <thead>\n",
       "    <tr style=\"text-align: right;\">\n",
       "      <th>sample_id</th>\n",
       "      <th>1</th>\n",
       "      <th>2</th>\n",
       "      <th>3</th>\n",
       "      <th>4</th>\n",
       "      <th>5</th>\n",
       "      <th>6</th>\n",
       "      <th>7</th>\n",
       "      <th>8</th>\n",
       "      <th>9</th>\n",
       "      <th>10</th>\n",
       "      <th>...</th>\n",
       "      <th>41</th>\n",
       "      <th>42</th>\n",
       "      <th>43</th>\n",
       "      <th>44</th>\n",
       "      <th>45</th>\n",
       "      <th>46</th>\n",
       "      <th>47</th>\n",
       "      <th>48</th>\n",
       "      <th>49</th>\n",
       "      <th>50</th>\n",
       "    </tr>\n",
       "  </thead>\n",
       "  <tbody>\n",
       "    <tr>\n",
       "      <th>CHRF_RNA_0001_S1</th>\n",
       "      <td>0.0</td>\n",
       "      <td>0.0</td>\n",
       "      <td>0.0</td>\n",
       "      <td>0.0</td>\n",
       "      <td>0.0</td>\n",
       "      <td>0.0</td>\n",
       "      <td>0.0</td>\n",
       "      <td>0.0</td>\n",
       "      <td>0.0</td>\n",
       "      <td>0.0</td>\n",
       "      <td>...</td>\n",
       "      <td>1.455941</td>\n",
       "      <td>0.0</td>\n",
       "      <td>0.12303</td>\n",
       "      <td>0.0</td>\n",
       "      <td>0.0</td>\n",
       "      <td>0.000000</td>\n",
       "      <td>0.0</td>\n",
       "      <td>0.0</td>\n",
       "      <td>0.0</td>\n",
       "      <td>0.0</td>\n",
       "    </tr>\n",
       "    <tr>\n",
       "      <th>CHRF_RNA_0002_S2</th>\n",
       "      <td>0.0</td>\n",
       "      <td>0.0</td>\n",
       "      <td>0.0</td>\n",
       "      <td>0.0</td>\n",
       "      <td>0.0</td>\n",
       "      <td>0.0</td>\n",
       "      <td>0.0</td>\n",
       "      <td>0.0</td>\n",
       "      <td>0.0</td>\n",
       "      <td>0.0</td>\n",
       "      <td>...</td>\n",
       "      <td>1.133734</td>\n",
       "      <td>0.0</td>\n",
       "      <td>0.00000</td>\n",
       "      <td>0.0</td>\n",
       "      <td>0.0</td>\n",
       "      <td>1.918073</td>\n",
       "      <td>0.0</td>\n",
       "      <td>0.0</td>\n",
       "      <td>0.0</td>\n",
       "      <td>0.0</td>\n",
       "    </tr>\n",
       "  </tbody>\n",
       "</table>\n",
       "<p>2 rows × 50 columns</p>\n",
       "</div>"
      ],
      "text/plain": [
       "sample_id          1    2    3    4    5    6    7    8    9    10 ...   \\\n",
       "CHRF_RNA_0001_S1  0.0  0.0  0.0  0.0  0.0  0.0  0.0  0.0  0.0  0.0 ...    \n",
       "CHRF_RNA_0002_S2  0.0  0.0  0.0  0.0  0.0  0.0  0.0  0.0  0.0  0.0 ...    \n",
       "\n",
       "sample_id               41   42       43   44   45        46   47   48   49  \\\n",
       "CHRF_RNA_0001_S1  1.455941  0.0  0.12303  0.0  0.0  0.000000  0.0  0.0  0.0   \n",
       "CHRF_RNA_0002_S2  1.133734  0.0  0.00000  0.0  0.0  1.918073  0.0  0.0  0.0   \n",
       "\n",
       "sample_id          50  \n",
       "CHRF_RNA_0001_S1  0.0  \n",
       "CHRF_RNA_0002_S2  0.0  \n",
       "\n",
       "[2 rows x 50 columns]"
      ]
     },
     "execution_count": 107,
     "metadata": {},
     "output_type": "execute_result"
    }
   ],
   "source": [
    "encoded_rnaseq_df.head(2)"
   ]
  },
  {
   "cell_type": "markdown",
   "metadata": {},
   "source": [
    "### Decoder (generative) model"
   ]
  },
  {
   "cell_type": "code",
   "execution_count": 108,
   "metadata": {},
   "outputs": [],
   "source": [
    "# build a generator that can sample from the learned distribution\n",
    "decoder_input = Input(shape=(latent_dim, ))  # can generate from any sampled z vector\n",
    "_x_decoded_mean = decoder_to_reconstruct(decoder_input)\n",
    "decoder = Model(decoder_input, _x_decoded_mean)"
   ]
  },
  {
   "cell_type": "markdown",
   "metadata": {},
   "source": [
    "## Save the encoder/decoder models for future investigation"
   ]
  },
  {
   "cell_type": "code",
   "execution_count": 109,
   "metadata": {},
   "outputs": [],
   "source": [
    "encoder_model_file = os.path.join('models', 'encoder_onehidden_vae.hdf5')\n",
    "decoder_model_file = os.path.join('models', 'decoder_onehidden_vae.hdf5')\n",
    "\n",
    "encoder.save(encoder_model_file)\n",
    "decoder.save(decoder_model_file)"
   ]
  },
  {
   "cell_type": "markdown",
   "metadata": {},
   "source": [
    "##  Model Interpretation - Sanity Check\n",
    "\n",
    "\n",
    "###  Observe the distribution of node activations.\n",
    "\n",
    "We want to ensure that the model is learning a distribution of feature activations, and not zeroing out features."
   ]
  },
  {
   "cell_type": "code",
   "execution_count": 110,
   "metadata": {},
   "outputs": [
    {
     "name": "stdout",
     "output_type": "stream",
     "text": [
      "sample_id\n",
      "36    1386.577515\n",
      "28    1365.973633\n",
      "50    1275.362915\n",
      "35    1241.193848\n",
      "12    1199.585571\n",
      "1     1176.450073\n",
      "15    1147.365967\n",
      "45    1132.073608\n",
      "21    1110.006348\n",
      "25    1092.311768\n",
      "dtype: float32\n"
     ]
    },
    {
     "data": {
      "text/plain": [
       "sample_id\n",
       "9     781.892029\n",
       "31    781.075806\n",
       "39    763.327759\n",
       "34    754.245178\n",
       "48    746.107849\n",
       "49    735.104370\n",
       "27    722.410645\n",
       "20    617.958130\n",
       "14    598.451233\n",
       "41    330.057739\n",
       "dtype: float32"
      ]
     },
     "execution_count": 110,
     "metadata": {},
     "output_type": "execute_result"
    }
   ],
   "source": [
    "# What are the most and least activated nodes\n",
    "sum_node_activity = encoded_rnaseq_df.sum(axis=0).sort_values(ascending=False)\n",
    "\n",
    "# Top 10 most active nodes\n",
    "print(sum_node_activity.head(10))\n",
    "\n",
    "# Bottom 10 least active nodes\n",
    "sum_node_activity.tail(10)"
   ]
  },
  {
   "cell_type": "code",
   "execution_count": 111,
   "metadata": {},
   "outputs": [
    {
     "data": {
      "image/png": "[encoded data removed]",
      "text/plain": [
       "<matplotlib.figure.Figure at 0x7f8a27a88240>"
      ]
     },
     "metadata": {},
     "output_type": "display_data"
    }
   ],
   "source": [
    "# Histogram of node activity for all 100 latent features\n",
    "sum_node_activity.hist(figsize=(10,7))\n",
    "plt.xlabel('Activation Sum')\n",
    "plt.ylabel('Count');"
   ]
  },
  {
   "cell_type": "markdown",
   "metadata": {},
   "source": [
    "What does an example distribution of two latent features look like?"
   ]
  },
  {
   "cell_type": "code",
   "execution_count": 112,
   "metadata": {},
   "outputs": [
    {
     "data": {
      "image/png": "[encoded data removed]",
      "text/plain": [
       "<matplotlib.figure.Figure at 0x7f8a1cac5b38>"
      ]
     },
     "metadata": {},
     "output_type": "display_data"
    }
   ],
   "source": [
    "# Example of node activation distribution for the first two latent features\n",
    "plt.figure(figsize=(10, 10))\n",
    "plt.scatter(encoded_rnaseq_df.iloc[:, 0], encoded_rnaseq_df.iloc[:, 1])\n",
    "plt.xlabel('Latent Feature 1')\n",
    "plt.xlabel('Latent Feature 2');"
   ]
  },
  {
   "cell_type": "code",
   "execution_count": 113,
   "metadata": {},
   "outputs": [
    {
     "name": "stdout",
     "output_type": "stream",
     "text": [
      "sample_id           1    2    3\n",
      "CHRF_RNA_0001_S1  0.0  0.0  0.0\n",
      "CHRF_RNA_0002_S2  0.0  0.0  0.0\n",
      "CHRF_RNA_0003_S3  0.0  0.0  0.0\n",
      "CHRF_RNA_0004_S4  0.0  0.0  0.0\n",
      "CHRF_RNA_0005_S5  0.0  0.0  0.0\n"
     ]
    },
    {
     "data": {
      "text/plain": [
       "(1143, 50)"
      ]
     },
     "execution_count": 113,
     "metadata": {},
     "output_type": "execute_result"
    }
   ],
   "source": [
    "print((encoded_rnaseq_df.iloc[:, 0:3]).head())# > 4).sum(axis=1).head())\n",
    "encoded_rnaseq_df.shape"
   ]
  },
  {
   "cell_type": "markdown",
   "metadata": {},
   "source": [
    "###  Observe reconstruction fidelity"
   ]
  },
  {
   "cell_type": "code",
   "execution_count": 114,
   "metadata": {},
   "outputs": [
    {
     "data": {
      "text/html": [
       "<div>\n",
       "<style scoped>\n",
       "    .dataframe tbody tr th:only-of-type {\n",
       "        vertical-align: middle;\n",
       "    }\n",
       "\n",
       "    .dataframe tbody tr th {\n",
       "        vertical-align: top;\n",
       "    }\n",
       "\n",
       "    .dataframe thead th {\n",
       "        text-align: right;\n",
       "    }\n",
       "</style>\n",
       "<table border=\"1\" class=\"dataframe\">\n",
       "  <thead>\n",
       "    <tr style=\"text-align: right;\">\n",
       "      <th></th>\n",
       "      <th>11244</th>\n",
       "      <th>1868215</th>\n",
       "      <th>ENSG00000229807.9</th>\n",
       "      <th>586</th>\n",
       "      <th>Uncategorized</th>\n",
       "      <th>12059</th>\n",
       "      <th>12058</th>\n",
       "      <th>1903414</th>\n",
       "      <th>ENSG00000067048.16</th>\n",
       "      <th>ENSG00000202198.1</th>\n",
       "      <th>...</th>\n",
       "      <th>ENSG00000042317.16</th>\n",
       "      <th>ENSG00000117215.14</th>\n",
       "      <th>ENSG00000149179.13</th>\n",
       "      <th>ENSG00000018699.11</th>\n",
       "      <th>ENSG00000112742.9</th>\n",
       "      <th>ENSG00000116649.9</th>\n",
       "      <th>ENSG00000119227.7</th>\n",
       "      <th>ENSG00000141698.16</th>\n",
       "      <th>ENSG00000103811.15</th>\n",
       "      <th>ENSG00000100234.11</th>\n",
       "    </tr>\n",
       "  </thead>\n",
       "  <tbody>\n",
       "    <tr>\n",
       "      <th>CHRF_RNA_0001_S1</th>\n",
       "      <td>0.014273</td>\n",
       "      <td>0.014007</td>\n",
       "      <td>0.461327</td>\n",
       "      <td>0.128250</td>\n",
       "      <td>0.253369</td>\n",
       "      <td>0.023237</td>\n",
       "      <td>0.021991</td>\n",
       "      <td>0.139059</td>\n",
       "      <td>0.184325</td>\n",
       "      <td>0.452158</td>\n",
       "      <td>...</td>\n",
       "      <td>0.669481</td>\n",
       "      <td>0.665898</td>\n",
       "      <td>0.735829</td>\n",
       "      <td>0.699029</td>\n",
       "      <td>0.710022</td>\n",
       "      <td>0.605254</td>\n",
       "      <td>0.663233</td>\n",
       "      <td>0.655915</td>\n",
       "      <td>0.612086</td>\n",
       "      <td>0.675679</td>\n",
       "    </tr>\n",
       "    <tr>\n",
       "      <th>CHRF_RNA_0002_S2</th>\n",
       "      <td>0.009005</td>\n",
       "      <td>0.008107</td>\n",
       "      <td>0.426170</td>\n",
       "      <td>0.057967</td>\n",
       "      <td>0.231499</td>\n",
       "      <td>0.011769</td>\n",
       "      <td>0.011645</td>\n",
       "      <td>0.067223</td>\n",
       "      <td>0.168247</td>\n",
       "      <td>0.365031</td>\n",
       "      <td>...</td>\n",
       "      <td>0.682764</td>\n",
       "      <td>0.513348</td>\n",
       "      <td>0.667891</td>\n",
       "      <td>0.718277</td>\n",
       "      <td>0.774260</td>\n",
       "      <td>0.440108</td>\n",
       "      <td>0.503669</td>\n",
       "      <td>0.596067</td>\n",
       "      <td>0.536162</td>\n",
       "      <td>0.600247</td>\n",
       "    </tr>\n",
       "  </tbody>\n",
       "</table>\n",
       "<p>2 rows × 5000 columns</p>\n",
       "</div>"
      ],
      "text/plain": [
       "                     11244   1868215  ENSG00000229807.9       586  \\\n",
       "CHRF_RNA_0001_S1  0.014273  0.014007           0.461327  0.128250   \n",
       "CHRF_RNA_0002_S2  0.009005  0.008107           0.426170  0.057967   \n",
       "\n",
       "                  Uncategorized     12059     12058   1903414  \\\n",
       "CHRF_RNA_0001_S1       0.253369  0.023237  0.021991  0.139059   \n",
       "CHRF_RNA_0002_S2       0.231499  0.011769  0.011645  0.067223   \n",
       "\n",
       "                  ENSG00000067048.16  ENSG00000202198.1         ...          \\\n",
       "CHRF_RNA_0001_S1            0.184325           0.452158         ...           \n",
       "CHRF_RNA_0002_S2            0.168247           0.365031         ...           \n",
       "\n",
       "                  ENSG00000042317.16  ENSG00000117215.14  ENSG00000149179.13  \\\n",
       "CHRF_RNA_0001_S1            0.669481            0.665898            0.735829   \n",
       "CHRF_RNA_0002_S2            0.682764            0.513348            0.667891   \n",
       "\n",
       "                  ENSG00000018699.11  ENSG00000112742.9  ENSG00000116649.9  \\\n",
       "CHRF_RNA_0001_S1            0.699029           0.710022           0.605254   \n",
       "CHRF_RNA_0002_S2            0.718277           0.774260           0.440108   \n",
       "\n",
       "                  ENSG00000119227.7  ENSG00000141698.16  ENSG00000103811.15  \\\n",
       "CHRF_RNA_0001_S1           0.663233            0.655915            0.612086   \n",
       "CHRF_RNA_0002_S2           0.503669            0.596067            0.536162   \n",
       "\n",
       "                  ENSG00000100234.11  \n",
       "CHRF_RNA_0001_S1            0.675679  \n",
       "CHRF_RNA_0002_S2            0.600247  \n",
       "\n",
       "[2 rows x 5000 columns]"
      ]
     },
     "execution_count": 114,
     "metadata": {},
     "output_type": "execute_result"
    }
   ],
   "source": [
    "# How well does the model reconstruct the input RNAseq data\n",
    "input_rnaseq_reconstruct = decoder.predict(np.array(encoded_rnaseq_df))\n",
    "input_rnaseq_reconstruct = pd.DataFrame(input_rnaseq_reconstruct, index=rnaseq_df.index,\n",
    "                                        columns=rnaseq_df.columns)\n",
    "input_rnaseq_reconstruct.head(2)"
   ]
  },
  {
   "cell_type": "code",
   "execution_count": 115,
   "metadata": {},
   "outputs": [
    {
     "data": {
      "text/html": [
       "<div>\n",
       "<style scoped>\n",
       "    .dataframe tbody tr th:only-of-type {\n",
       "        vertical-align: middle;\n",
       "    }\n",
       "\n",
       "    .dataframe tbody tr th {\n",
       "        vertical-align: top;\n",
       "    }\n",
       "\n",
       "    .dataframe thead th {\n",
       "        text-align: right;\n",
       "    }\n",
       "</style>\n",
       "<table border=\"1\" class=\"dataframe\">\n",
       "  <thead>\n",
       "    <tr style=\"text-align: right;\">\n",
       "      <th></th>\n",
       "      <th>gene mean</th>\n",
       "      <th>gene abs(sum)</th>\n",
       "    </tr>\n",
       "  </thead>\n",
       "  <tbody>\n",
       "    <tr>\n",
       "      <th>ENSG00000129824.15</th>\n",
       "      <td>-0.011175</td>\n",
       "      <td>0.246995</td>\n",
       "    </tr>\n",
       "    <tr>\n",
       "      <th>ENSG00000012817.15</th>\n",
       "      <td>-0.008668</td>\n",
       "      <td>0.231887</td>\n",
       "    </tr>\n",
       "    <tr>\n",
       "      <th>ENSG00000067048.16</th>\n",
       "      <td>-0.013303</td>\n",
       "      <td>0.223792</td>\n",
       "    </tr>\n",
       "    <tr>\n",
       "      <th>ENSG00000183878.15</th>\n",
       "      <td>-0.010385</td>\n",
       "      <td>0.223228</td>\n",
       "    </tr>\n",
       "    <tr>\n",
       "      <th>Uncategorized</th>\n",
       "      <td>-0.010477</td>\n",
       "      <td>0.218846</td>\n",
       "    </tr>\n",
       "  </tbody>\n",
       "</table>\n",
       "</div>"
      ],
      "text/plain": [
       "                    gene mean  gene abs(sum)\n",
       "ENSG00000129824.15  -0.011175       0.246995\n",
       "ENSG00000012817.15  -0.008668       0.231887\n",
       "ENSG00000067048.16  -0.013303       0.223792\n",
       "ENSG00000183878.15  -0.010385       0.223228\n",
       "Uncategorized       -0.010477       0.218846"
      ]
     },
     "execution_count": 115,
     "metadata": {},
     "output_type": "execute_result"
    }
   ],
   "source": [
    "reconstruction_fidelity = rnaseq_df - input_rnaseq_reconstruct\n",
    "\n",
    "gene_mean = reconstruction_fidelity.mean(axis=0)\n",
    "gene_abssum = reconstruction_fidelity.abs().sum(axis=0).divide(rnaseq_df.shape[0])\n",
    "gene_summary = pd.DataFrame([gene_mean, gene_abssum], index=['gene mean', 'gene abs(sum)']).T\n",
    "gene_summary.sort_values(by='gene abs(sum)', ascending=False).head()"
   ]
  },
  {
   "cell_type": "code",
   "execution_count": 116,
   "metadata": {},
   "outputs": [
    {
     "data": {
      "image/png": "[encoded data removed]",
      "text/plain": [
       "<matplotlib.figure.Figure at 0x7f8a1ef9abe0>"
      ]
     },
     "metadata": {},
     "output_type": "display_data"
    }
   ],
   "source": [
    "# Mean of gene reconstruction vs. absolute reconstructed difference per sample\n",
    "g = sns.jointplot('gene mean', 'gene abs(sum)', data=gene_summary, stat_func=None);\n",
    "plt.savefig('/data/katrina/AutoEncode/tybalt/PDFS/gene_mean_gene_abs_50LV.pdf')"
   ]
  },
  {
   "cell_type": "code",
   "execution_count": null,
   "metadata": {
    "scrolled": true
   },
   "outputs": [],
   "source": []
  }
 ],
 "metadata": {
  "kernelspec": {
   "display_name": "Python [default]",
   "language": "python",
   "name": "python3"
  },
  "language_info": {
   "codemirror_mode": {
    "name": "ipython",
    "version": 3
   },
   "file_extension": ".py",
   "mimetype": "text/x-python",
   "name": "python",
   "nbconvert_exporter": "python",
   "pygments_lexer": "ipython3",
   "version": "3.5.5"
  }
 },
 "nbformat": 4,
 "nbformat_minor": 1
}
