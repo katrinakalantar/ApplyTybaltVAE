{
 "cells": [
  {
   "cell_type": "code",
   "execution_count": 2,
   "metadata": {},
   "outputs": [],
   "source": [
    "import csv\n",
    "import gzip\n",
    "import os\n",
    "import scipy.io\n",
    "import pandas as pd"
   ]
  },
  {
   "cell_type": "code",
   "execution_count": 3,
   "metadata": {},
   "outputs": [
    {
     "name": "stdout",
     "output_type": "stream",
     "text": [
      "hello\n"
     ]
    }
   ],
   "source": [
    "print(\"hello\")"
   ]
  },
  {
   "cell_type": "code",
   "execution_count": 5,
   "metadata": {},
   "outputs": [],
   "source": [
    "#matrix_dir = \"/data/katrina/AutoEncode/tybalt/Data/bloomlab_data\"\n",
    "#matrix_dir = \"/data/katrina/AutoEncode/tybalt/Data/human_rsv_conc\"\n",
    "matrix_dir = \"/data/katrina/AutoEncode/tybalt/Data/cd14_monocytes\"\n",
    "#mat = scipy.io.mmread(os.path.join(matrix_dir, \"merged_humanplusflu_matrix.mtx.gz\"))\n",
    "mat = scipy.io.mmread(os.path.join(matrix_dir, \"matrix.mtx\"))"
   ]
  },
  {
   "cell_type": "code",
   "execution_count": 6,
   "metadata": {},
   "outputs": [],
   "source": [
    "#features_path = os.path.join(matrix_dir, \"merged_humanplusflu_genes.tsv.gz\")\n",
    "features_path = os.path.join(matrix_dir, \"genes.tsv\")\n",
    "feature_ids = [row[0] for row in csv.reader(open(features_path, \"rt\", encoding=\"utf8\"), delimiter=\"\\t\")] #gzip."
   ]
  },
  {
   "cell_type": "code",
   "execution_count": 7,
   "metadata": {},
   "outputs": [],
   "source": [
    "gene_names = [row[1] for row in csv.reader(open(features_path, \"rt\", encoding = \"utf8\"), delimiter=\"\\t\")] #gzip.\n",
    "#barcodes_path = os.path.join(matrix_dir, \"merged_humanplusflu_cells.tsv.gz\")\n",
    "barcodes_path = os.path.join(matrix_dir, \"barcodes.tsv\")\n",
    "barcodes = [row[0] for row in csv.reader(open(barcodes_path, \"rt\", encoding = \"utf8\"), delimiter=\"\\t\")] #gzip."
   ]
  },
  {
   "cell_type": "code",
   "execution_count": 8,
   "metadata": {},
   "outputs": [],
   "source": [
    "MDDF = pd.DataFrame(mat.todense())"
   ]
  },
  {
   "cell_type": "code",
   "execution_count": 9,
   "metadata": {},
   "outputs": [
    {
     "data": {
      "text/plain": [
       "(32738, 2612)"
      ]
     },
     "execution_count": 9,
     "metadata": {},
     "output_type": "execute_result"
    }
   ],
   "source": [
    "MDDF.shape"
   ]
  },
  {
   "cell_type": "code",
   "execution_count": 10,
   "metadata": {},
   "outputs": [
    {
     "data": {
      "text/plain": [
       "(32738, 2612)"
      ]
     },
     "execution_count": 10,
     "metadata": {},
     "output_type": "execute_result"
    }
   ],
   "source": [
    "MDDF.shape"
   ]
  },
  {
   "cell_type": "code",
   "execution_count": 11,
   "metadata": {},
   "outputs": [
    {
     "data": {
      "text/plain": [
       "['AL162851.1',\n",
       " 'BX072566.2',\n",
       " 'BX072566.1',\n",
       " 'AL354822.1',\n",
       " 'KIR2DL2',\n",
       " 'KIR3DL2',\n",
       " 'AL590523.1',\n",
       " 'CT476828.1',\n",
       " 'PNRC2',\n",
       " 'SRSF10',\n",
       " 'AC145205.1',\n",
       " 'BAGE5',\n",
       " 'CU459201.1',\n",
       " 'AC002321.2',\n",
       " 'AC002321.1']"
      ]
     },
     "execution_count": 11,
     "metadata": {},
     "output_type": "execute_result"
    }
   ],
   "source": [
    "gene_names[len(gene_names)-15:len(gene_names)]"
   ]
  },
  {
   "cell_type": "code",
   "execution_count": 12,
   "metadata": {},
   "outputs": [],
   "source": [
    "MDDF.index = gene_names[0:len(gene_names)]"
   ]
  },
  {
   "cell_type": "code",
   "execution_count": 13,
   "metadata": {},
   "outputs": [],
   "source": [
    "MDDF.columns = barcodes[0:len(barcodes)]"
   ]
  },
  {
   "cell_type": "code",
   "execution_count": 14,
   "metadata": {},
   "outputs": [
    {
     "data": {
      "text/html": [
       "<div>\n",
       "<style scoped>\n",
       "    .dataframe tbody tr th:only-of-type {\n",
       "        vertical-align: middle;\n",
       "    }\n",
       "\n",
       "    .dataframe tbody tr th {\n",
       "        vertical-align: top;\n",
       "    }\n",
       "\n",
       "    .dataframe thead th {\n",
       "        text-align: right;\n",
       "    }\n",
       "</style>\n",
       "<table border=\"1\" class=\"dataframe\">\n",
       "  <thead>\n",
       "    <tr style=\"text-align: right;\">\n",
       "      <th></th>\n",
       "      <th>AAACATACCACTAG-1</th>\n",
       "      <th>AAACATACGTTCAG-1</th>\n",
       "      <th>AAACATTGACGGTT-1</th>\n",
       "      <th>AAACATTGCTTCGC-1</th>\n",
       "      <th>AAACATTGGGCAAG-1</th>\n",
       "      <th>AAACATTGTTTGTC-1</th>\n",
       "      <th>AAACGCACGGACTT-1</th>\n",
       "      <th>AAACGGCTACGGAG-1</th>\n",
       "      <th>AAACGGCTAGTCAC-1</th>\n",
       "      <th>AAACGGCTCAGCTA-1</th>\n",
       "      <th>...</th>\n",
       "      <th>TTTCAGTGTCCTGC-1</th>\n",
       "      <th>TTTCAGTGTGTGCA-1</th>\n",
       "      <th>TTTCCAGAATTCGG-1</th>\n",
       "      <th>TTTCCAGATTGCGA-1</th>\n",
       "      <th>TTTCGAACACAGCT-1</th>\n",
       "      <th>TTTCGAACGCTAAC-1</th>\n",
       "      <th>TTTCGAACTCCTGC-1</th>\n",
       "      <th>TTTGACTGAGTAGA-1</th>\n",
       "      <th>TTTGACTGTGTAGC-1</th>\n",
       "      <th>TTTGCATGTCACCC-1</th>\n",
       "    </tr>\n",
       "  </thead>\n",
       "  <tbody>\n",
       "    <tr>\n",
       "      <th>MIR1302-10</th>\n",
       "      <td>0.0</td>\n",
       "      <td>0.0</td>\n",
       "      <td>0.0</td>\n",
       "      <td>0.0</td>\n",
       "      <td>0.0</td>\n",
       "      <td>0.0</td>\n",
       "      <td>0.0</td>\n",
       "      <td>0.0</td>\n",
       "      <td>0.0</td>\n",
       "      <td>0.0</td>\n",
       "      <td>...</td>\n",
       "      <td>0.0</td>\n",
       "      <td>0.0</td>\n",
       "      <td>0.0</td>\n",
       "      <td>0.0</td>\n",
       "      <td>0.0</td>\n",
       "      <td>0.0</td>\n",
       "      <td>0.0</td>\n",
       "      <td>0.0</td>\n",
       "      <td>0.0</td>\n",
       "      <td>0.0</td>\n",
       "    </tr>\n",
       "    <tr>\n",
       "      <th>FAM138A</th>\n",
       "      <td>0.0</td>\n",
       "      <td>0.0</td>\n",
       "      <td>0.0</td>\n",
       "      <td>0.0</td>\n",
       "      <td>0.0</td>\n",
       "      <td>0.0</td>\n",
       "      <td>0.0</td>\n",
       "      <td>0.0</td>\n",
       "      <td>0.0</td>\n",
       "      <td>0.0</td>\n",
       "      <td>...</td>\n",
       "      <td>0.0</td>\n",
       "      <td>0.0</td>\n",
       "      <td>0.0</td>\n",
       "      <td>0.0</td>\n",
       "      <td>0.0</td>\n",
       "      <td>0.0</td>\n",
       "      <td>0.0</td>\n",
       "      <td>0.0</td>\n",
       "      <td>0.0</td>\n",
       "      <td>0.0</td>\n",
       "    </tr>\n",
       "    <tr>\n",
       "      <th>OR4F5</th>\n",
       "      <td>0.0</td>\n",
       "      <td>0.0</td>\n",
       "      <td>0.0</td>\n",
       "      <td>0.0</td>\n",
       "      <td>0.0</td>\n",
       "      <td>0.0</td>\n",
       "      <td>0.0</td>\n",
       "      <td>0.0</td>\n",
       "      <td>0.0</td>\n",
       "      <td>0.0</td>\n",
       "      <td>...</td>\n",
       "      <td>0.0</td>\n",
       "      <td>0.0</td>\n",
       "      <td>0.0</td>\n",
       "      <td>0.0</td>\n",
       "      <td>0.0</td>\n",
       "      <td>0.0</td>\n",
       "      <td>0.0</td>\n",
       "      <td>0.0</td>\n",
       "      <td>0.0</td>\n",
       "      <td>0.0</td>\n",
       "    </tr>\n",
       "    <tr>\n",
       "      <th>RP11-34P13.7</th>\n",
       "      <td>0.0</td>\n",
       "      <td>0.0</td>\n",
       "      <td>0.0</td>\n",
       "      <td>0.0</td>\n",
       "      <td>0.0</td>\n",
       "      <td>0.0</td>\n",
       "      <td>0.0</td>\n",
       "      <td>0.0</td>\n",
       "      <td>0.0</td>\n",
       "      <td>0.0</td>\n",
       "      <td>...</td>\n",
       "      <td>0.0</td>\n",
       "      <td>0.0</td>\n",
       "      <td>0.0</td>\n",
       "      <td>0.0</td>\n",
       "      <td>0.0</td>\n",
       "      <td>0.0</td>\n",
       "      <td>0.0</td>\n",
       "      <td>0.0</td>\n",
       "      <td>0.0</td>\n",
       "      <td>0.0</td>\n",
       "    </tr>\n",
       "    <tr>\n",
       "      <th>RP11-34P13.8</th>\n",
       "      <td>0.0</td>\n",
       "      <td>0.0</td>\n",
       "      <td>0.0</td>\n",
       "      <td>0.0</td>\n",
       "      <td>0.0</td>\n",
       "      <td>0.0</td>\n",
       "      <td>0.0</td>\n",
       "      <td>0.0</td>\n",
       "      <td>0.0</td>\n",
       "      <td>0.0</td>\n",
       "      <td>...</td>\n",
       "      <td>0.0</td>\n",
       "      <td>0.0</td>\n",
       "      <td>0.0</td>\n",
       "      <td>0.0</td>\n",
       "      <td>0.0</td>\n",
       "      <td>0.0</td>\n",
       "      <td>0.0</td>\n",
       "      <td>0.0</td>\n",
       "      <td>0.0</td>\n",
       "      <td>0.0</td>\n",
       "    </tr>\n",
       "  </tbody>\n",
       "</table>\n",
       "<p>5 rows × 2612 columns</p>\n",
       "</div>"
      ],
      "text/plain": [
       "              AAACATACCACTAG-1  AAACATACGTTCAG-1  AAACATTGACGGTT-1  \\\n",
       "MIR1302-10                 0.0               0.0               0.0   \n",
       "FAM138A                    0.0               0.0               0.0   \n",
       "OR4F5                      0.0               0.0               0.0   \n",
       "RP11-34P13.7               0.0               0.0               0.0   \n",
       "RP11-34P13.8               0.0               0.0               0.0   \n",
       "\n",
       "              AAACATTGCTTCGC-1  AAACATTGGGCAAG-1  AAACATTGTTTGTC-1  \\\n",
       "MIR1302-10                 0.0               0.0               0.0   \n",
       "FAM138A                    0.0               0.0               0.0   \n",
       "OR4F5                      0.0               0.0               0.0   \n",
       "RP11-34P13.7               0.0               0.0               0.0   \n",
       "RP11-34P13.8               0.0               0.0               0.0   \n",
       "\n",
       "              AAACGCACGGACTT-1  AAACGGCTACGGAG-1  AAACGGCTAGTCAC-1  \\\n",
       "MIR1302-10                 0.0               0.0               0.0   \n",
       "FAM138A                    0.0               0.0               0.0   \n",
       "OR4F5                      0.0               0.0               0.0   \n",
       "RP11-34P13.7               0.0               0.0               0.0   \n",
       "RP11-34P13.8               0.0               0.0               0.0   \n",
       "\n",
       "              AAACGGCTCAGCTA-1        ...         TTTCAGTGTCCTGC-1  \\\n",
       "MIR1302-10                 0.0        ...                      0.0   \n",
       "FAM138A                    0.0        ...                      0.0   \n",
       "OR4F5                      0.0        ...                      0.0   \n",
       "RP11-34P13.7               0.0        ...                      0.0   \n",
       "RP11-34P13.8               0.0        ...                      0.0   \n",
       "\n",
       "              TTTCAGTGTGTGCA-1  TTTCCAGAATTCGG-1  TTTCCAGATTGCGA-1  \\\n",
       "MIR1302-10                 0.0               0.0               0.0   \n",
       "FAM138A                    0.0               0.0               0.0   \n",
       "OR4F5                      0.0               0.0               0.0   \n",
       "RP11-34P13.7               0.0               0.0               0.0   \n",
       "RP11-34P13.8               0.0               0.0               0.0   \n",
       "\n",
       "              TTTCGAACACAGCT-1  TTTCGAACGCTAAC-1  TTTCGAACTCCTGC-1  \\\n",
       "MIR1302-10                 0.0               0.0               0.0   \n",
       "FAM138A                    0.0               0.0               0.0   \n",
       "OR4F5                      0.0               0.0               0.0   \n",
       "RP11-34P13.7               0.0               0.0               0.0   \n",
       "RP11-34P13.8               0.0               0.0               0.0   \n",
       "\n",
       "              TTTGACTGAGTAGA-1  TTTGACTGTGTAGC-1  TTTGCATGTCACCC-1  \n",
       "MIR1302-10                 0.0               0.0               0.0  \n",
       "FAM138A                    0.0               0.0               0.0  \n",
       "OR4F5                      0.0               0.0               0.0  \n",
       "RP11-34P13.7               0.0               0.0               0.0  \n",
       "RP11-34P13.8               0.0               0.0               0.0  \n",
       "\n",
       "[5 rows x 2612 columns]"
      ]
     },
     "execution_count": 14,
     "metadata": {},
     "output_type": "execute_result"
    }
   ],
   "source": [
    "MDDF.head()"
   ]
  },
  {
   "cell_type": "code",
   "execution_count": 15,
   "metadata": {},
   "outputs": [],
   "source": [
    "# REMOVE 6hr and 8hr-2 samples (due to batch effect!)\n",
    "a = ['6hr' in i for i in MDDF.columns]\n",
    "b = ['8hr-2' in i for i in MDDF.columns]\n",
    "MDDF = MDDF[MDDF.columns[[not(a[i] + b[i]) for i in range(len(a))]]]"
   ]
  },
  {
   "cell_type": "code",
   "execution_count": 19,
   "metadata": {},
   "outputs": [
    {
     "data": {
      "text/plain": [
       "(32738, 2612)"
      ]
     },
     "execution_count": 19,
     "metadata": {},
     "output_type": "execute_result"
    }
   ],
   "source": [
    "MDDF.shape"
   ]
  },
  {
   "cell_type": "code",
   "execution_count": 18,
   "metadata": {},
   "outputs": [],
   "source": [
    "MDDF = MDDF.sample(min(MDDF.shape[1],5000), axis=1)"
   ]
  },
  {
   "cell_type": "code",
   "execution_count": 20,
   "metadata": {},
   "outputs": [],
   "source": [
    "MDDF.to_csv(os.path.join('Data', '10x_genecounts.csv'))  # THIS TAKES A LONGGG TIME"
   ]
  }
 ],
 "metadata": {
  "kernelspec": {
   "display_name": "Python [conda env:tybalt]",
   "language": "python",
   "name": "conda-env-tybalt-py"
  },
  "language_info": {
   "codemirror_mode": {
    "name": "ipython",
    "version": 3
   },
   "file_extension": ".py",
   "mimetype": "text/x-python",
   "name": "python",
   "nbconvert_exporter": "python",
   "pygments_lexer": "ipython3",
   "version": "3.5.5"
  }
 },
 "nbformat": 4,
 "nbformat_minor": 2
}
