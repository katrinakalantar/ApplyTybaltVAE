{
 "cells": [
  {
   "cell_type": "markdown",
   "metadata": {},
   "source": [
    "Ported from tybalt/preprocess_data.ipynb script November 27, 2018\n",
    "\n",
    "# Processing all datasets to be used in downstream analyses\n",
    "\n",
    "RNAseq data was uploaded to DL102 from a variety of projects downloaded from IDseq. Clinical data was curated from various metadata on taken from appropriate projects."
   ]
  },
  {
   "cell_type": "code",
   "execution_count": 5,
   "metadata": {},
   "outputs": [],
   "source": [
    "import os\n",
    "import numpy as np\n",
    "import pandas as pd\n",
    "import matplotlib.pyplot as plt\n",
    "from sklearn import preprocessing\n",
    "import seaborn as sns\n",
    "import matplotlib.patches as mpatches\n",
    "\n",
    "%matplotlib inline"
   ]
  },
  {
   "cell_type": "markdown",
   "metadata": {},
   "source": [
    "## Define Input and Output Filenames"
   ]
  },
  {
   "cell_type": "code",
   "execution_count": 6,
   "metadata": {},
   "outputs": [],
   "source": [
    "# Input Files\n",
    "rna_file = os.path.join('Data', '10x_genecounts.csv') "
   ]
  },
  {
   "cell_type": "code",
   "execution_count": 7,
   "metadata": {},
   "outputs": [],
   "source": [
    "# Output Files\n",
    "# Processing RNAseq data by z-score and zeroone norm\n",
    "#rna_out_file = os.path.join('Data', '10x_rnaseq.tsv.gz')\n",
    "#rna_out_file = os.path.join('Data', 'rsv_human_counts.norm.scale.csv.gz')\n",
    "rna_out_file = os.path.join('Data', 'cd14_human_counts.norm.scale.csv.gz')\n",
    "#rna_out_zeroone_file = os.path.join('Data', '10x_scaled_zeroone_rnaseq.tsv.gz')\n",
    "#rna_out_zeroone_file = os.path.join('Data', 'rsv_human_counts.norm.scale.csv.gz')\n",
    "rna_out_zeroone_file = os.path.join('Data', 'cd14_human_counts.norm.scale.csv.gz')"
   ]
  },
  {
   "cell_type": "markdown",
   "metadata": {},
   "source": [
    "## Load Data"
   ]
  },
  {
   "cell_type": "code",
   "execution_count": 8,
   "metadata": {},
   "outputs": [
    {
     "data": {
      "text/html": [
       "<div>\n",
       "<style scoped>\n",
       "    .dataframe tbody tr th:only-of-type {\n",
       "        vertical-align: middle;\n",
       "    }\n",
       "\n",
       "    .dataframe tbody tr th {\n",
       "        vertical-align: top;\n",
       "    }\n",
       "\n",
       "    .dataframe thead th {\n",
       "        text-align: right;\n",
       "    }\n",
       "</style>\n",
       "<table border=\"1\" class=\"dataframe\">\n",
       "  <thead>\n",
       "    <tr style=\"text-align: right;\">\n",
       "      <th></th>\n",
       "      <th>ACAAGAGAACTACG-1</th>\n",
       "      <th>GGATGTTGTACTTC-1</th>\n",
       "      <th>CACTAACTAGAGAT-1</th>\n",
       "      <th>GGAGCGCTCCATAG-1</th>\n",
       "      <th>TAAGGGCTACACGT-1</th>\n",
       "      <th>GCCCAACTAGCTAC-1</th>\n",
       "      <th>ACTCAGGATGCTAG-1</th>\n",
       "      <th>TACAATGAGGGACA-1</th>\n",
       "      <th>GATTTGCTTCTTCA-1</th>\n",
       "      <th>TAGGAGCTTATTCC-1</th>\n",
       "      <th>...</th>\n",
       "      <th>TAGTCACTAGCGTT-1</th>\n",
       "      <th>CCTTAATGTATGCG-1</th>\n",
       "      <th>TGTAATGATGGCAT-1</th>\n",
       "      <th>ACGTCCTGCTAGAC-1</th>\n",
       "      <th>CTATAAGACAATCG-1</th>\n",
       "      <th>TAGAGCACTCAGGT-1</th>\n",
       "      <th>GTGTACGAGTTAGC-1</th>\n",
       "      <th>GTGTGATGTGTTCT-1</th>\n",
       "      <th>TAGCATCTACAGTC-1</th>\n",
       "      <th>AGAGCGGAGGAACG-1</th>\n",
       "    </tr>\n",
       "  </thead>\n",
       "  <tbody>\n",
       "    <tr>\n",
       "      <th>MIR1302-10</th>\n",
       "      <td>0.0</td>\n",
       "      <td>0.0</td>\n",
       "      <td>0.0</td>\n",
       "      <td>0.0</td>\n",
       "      <td>0.0</td>\n",
       "      <td>0.0</td>\n",
       "      <td>0.0</td>\n",
       "      <td>0.0</td>\n",
       "      <td>0.0</td>\n",
       "      <td>0.0</td>\n",
       "      <td>...</td>\n",
       "      <td>0.0</td>\n",
       "      <td>0.0</td>\n",
       "      <td>0.0</td>\n",
       "      <td>0.0</td>\n",
       "      <td>0.0</td>\n",
       "      <td>0.0</td>\n",
       "      <td>0.0</td>\n",
       "      <td>0.0</td>\n",
       "      <td>0.0</td>\n",
       "      <td>0.0</td>\n",
       "    </tr>\n",
       "    <tr>\n",
       "      <th>FAM138A</th>\n",
       "      <td>0.0</td>\n",
       "      <td>0.0</td>\n",
       "      <td>0.0</td>\n",
       "      <td>0.0</td>\n",
       "      <td>0.0</td>\n",
       "      <td>0.0</td>\n",
       "      <td>0.0</td>\n",
       "      <td>0.0</td>\n",
       "      <td>0.0</td>\n",
       "      <td>0.0</td>\n",
       "      <td>...</td>\n",
       "      <td>0.0</td>\n",
       "      <td>0.0</td>\n",
       "      <td>0.0</td>\n",
       "      <td>0.0</td>\n",
       "      <td>0.0</td>\n",
       "      <td>0.0</td>\n",
       "      <td>0.0</td>\n",
       "      <td>0.0</td>\n",
       "      <td>0.0</td>\n",
       "      <td>0.0</td>\n",
       "    </tr>\n",
       "    <tr>\n",
       "      <th>OR4F5</th>\n",
       "      <td>0.0</td>\n",
       "      <td>0.0</td>\n",
       "      <td>0.0</td>\n",
       "      <td>0.0</td>\n",
       "      <td>0.0</td>\n",
       "      <td>0.0</td>\n",
       "      <td>0.0</td>\n",
       "      <td>0.0</td>\n",
       "      <td>0.0</td>\n",
       "      <td>0.0</td>\n",
       "      <td>...</td>\n",
       "      <td>0.0</td>\n",
       "      <td>0.0</td>\n",
       "      <td>0.0</td>\n",
       "      <td>0.0</td>\n",
       "      <td>0.0</td>\n",
       "      <td>0.0</td>\n",
       "      <td>0.0</td>\n",
       "      <td>0.0</td>\n",
       "      <td>0.0</td>\n",
       "      <td>0.0</td>\n",
       "    </tr>\n",
       "    <tr>\n",
       "      <th>RP11-34P13.7</th>\n",
       "      <td>0.0</td>\n",
       "      <td>0.0</td>\n",
       "      <td>0.0</td>\n",
       "      <td>0.0</td>\n",
       "      <td>0.0</td>\n",
       "      <td>0.0</td>\n",
       "      <td>0.0</td>\n",
       "      <td>0.0</td>\n",
       "      <td>0.0</td>\n",
       "      <td>0.0</td>\n",
       "      <td>...</td>\n",
       "      <td>0.0</td>\n",
       "      <td>0.0</td>\n",
       "      <td>0.0</td>\n",
       "      <td>0.0</td>\n",
       "      <td>0.0</td>\n",
       "      <td>0.0</td>\n",
       "      <td>0.0</td>\n",
       "      <td>0.0</td>\n",
       "      <td>0.0</td>\n",
       "      <td>0.0</td>\n",
       "    </tr>\n",
       "    <tr>\n",
       "      <th>RP11-34P13.8</th>\n",
       "      <td>0.0</td>\n",
       "      <td>0.0</td>\n",
       "      <td>0.0</td>\n",
       "      <td>0.0</td>\n",
       "      <td>0.0</td>\n",
       "      <td>0.0</td>\n",
       "      <td>0.0</td>\n",
       "      <td>0.0</td>\n",
       "      <td>0.0</td>\n",
       "      <td>0.0</td>\n",
       "      <td>...</td>\n",
       "      <td>0.0</td>\n",
       "      <td>0.0</td>\n",
       "      <td>0.0</td>\n",
       "      <td>0.0</td>\n",
       "      <td>0.0</td>\n",
       "      <td>0.0</td>\n",
       "      <td>0.0</td>\n",
       "      <td>0.0</td>\n",
       "      <td>0.0</td>\n",
       "      <td>0.0</td>\n",
       "    </tr>\n",
       "  </tbody>\n",
       "</table>\n",
       "<p>5 rows × 2612 columns</p>\n",
       "</div>"
      ],
      "text/plain": [
       "              ACAAGAGAACTACG-1  GGATGTTGTACTTC-1  CACTAACTAGAGAT-1  \\\n",
       "MIR1302-10                 0.0               0.0               0.0   \n",
       "FAM138A                    0.0               0.0               0.0   \n",
       "OR4F5                      0.0               0.0               0.0   \n",
       "RP11-34P13.7               0.0               0.0               0.0   \n",
       "RP11-34P13.8               0.0               0.0               0.0   \n",
       "\n",
       "              GGAGCGCTCCATAG-1  TAAGGGCTACACGT-1  GCCCAACTAGCTAC-1  \\\n",
       "MIR1302-10                 0.0               0.0               0.0   \n",
       "FAM138A                    0.0               0.0               0.0   \n",
       "OR4F5                      0.0               0.0               0.0   \n",
       "RP11-34P13.7               0.0               0.0               0.0   \n",
       "RP11-34P13.8               0.0               0.0               0.0   \n",
       "\n",
       "              ACTCAGGATGCTAG-1  TACAATGAGGGACA-1  GATTTGCTTCTTCA-1  \\\n",
       "MIR1302-10                 0.0               0.0               0.0   \n",
       "FAM138A                    0.0               0.0               0.0   \n",
       "OR4F5                      0.0               0.0               0.0   \n",
       "RP11-34P13.7               0.0               0.0               0.0   \n",
       "RP11-34P13.8               0.0               0.0               0.0   \n",
       "\n",
       "              TAGGAGCTTATTCC-1        ...         TAGTCACTAGCGTT-1  \\\n",
       "MIR1302-10                 0.0        ...                      0.0   \n",
       "FAM138A                    0.0        ...                      0.0   \n",
       "OR4F5                      0.0        ...                      0.0   \n",
       "RP11-34P13.7               0.0        ...                      0.0   \n",
       "RP11-34P13.8               0.0        ...                      0.0   \n",
       "\n",
       "              CCTTAATGTATGCG-1  TGTAATGATGGCAT-1  ACGTCCTGCTAGAC-1  \\\n",
       "MIR1302-10                 0.0               0.0               0.0   \n",
       "FAM138A                    0.0               0.0               0.0   \n",
       "OR4F5                      0.0               0.0               0.0   \n",
       "RP11-34P13.7               0.0               0.0               0.0   \n",
       "RP11-34P13.8               0.0               0.0               0.0   \n",
       "\n",
       "              CTATAAGACAATCG-1  TAGAGCACTCAGGT-1  GTGTACGAGTTAGC-1  \\\n",
       "MIR1302-10                 0.0               0.0               0.0   \n",
       "FAM138A                    0.0               0.0               0.0   \n",
       "OR4F5                      0.0               0.0               0.0   \n",
       "RP11-34P13.7               0.0               0.0               0.0   \n",
       "RP11-34P13.8               0.0               0.0               0.0   \n",
       "\n",
       "              GTGTGATGTGTTCT-1  TAGCATCTACAGTC-1  AGAGCGGAGGAACG-1  \n",
       "MIR1302-10                 0.0               0.0               0.0  \n",
       "FAM138A                    0.0               0.0               0.0  \n",
       "OR4F5                      0.0               0.0               0.0  \n",
       "RP11-34P13.7               0.0               0.0               0.0  \n",
       "RP11-34P13.8               0.0               0.0               0.0  \n",
       "\n",
       "[5 rows x 2612 columns]"
      ]
     },
     "execution_count": 8,
     "metadata": {},
     "output_type": "execute_result"
    }
   ],
   "source": [
    "rnaseq_df = pd.read_table(rna_file, sep=',', index_col=0)\n",
    "rnaseq_df.head()"
   ]
  },
  {
   "cell_type": "markdown",
   "metadata": {},
   "source": [
    "## Begin processing different data types\n",
    "\n",
    "### RNAseq\n",
    "\n",
    "Perform basic QC on the RNA-seq data - filtering out samples with very low total counts (likely little input RNA) and genes with low prevalence."
   ]
  },
  {
   "cell_type": "code",
   "execution_count": 9,
   "metadata": {},
   "outputs": [],
   "source": [
    "# remove ERCCss\n",
    "#patternDel = \"ERCC\"\n",
    "#filter = rnaseq_df.index.str.contains(patternDel)\n",
    "#rnaseq_df = rnaseq_df[~filter] "
   ]
  },
  {
   "cell_type": "code",
   "execution_count": 10,
   "metadata": {},
   "outputs": [],
   "source": [
    "per_sample_counts = np.log10(rnaseq_df.sum() + 1)"
   ]
  },
  {
   "cell_type": "code",
   "execution_count": 11,
   "metadata": {},
   "outputs": [
    {
     "data": {
      "image/png": "[encoded data removed]",
      "text/plain": [
       "<matplotlib.figure.Figure at 0x7f2a5d503198>"
      ]
     },
     "metadata": {},
     "output_type": "display_data"
    }
   ],
   "source": [
    "plt.figure(figsize=(3,3))\n",
    "plt.hist(per_sample_counts, bins=50)  # sum per sample\n",
    "plt.title(\"Counts per Sample\")#, without ERCC\")\n",
    "plt.xlabel(\"log10(Sum of Gene Counts)\")\n",
    "plt.ylabel(\"# of Samples\")\n",
    "plt.show()"
   ]
  },
  {
   "cell_type": "code",
   "execution_count": 12,
   "metadata": {},
   "outputs": [
    {
     "data": {
      "image/png": "[encoded data removed]",
      "text/plain": [
       "<matplotlib.figure.Figure at 0x7f2a5d4b4198>"
      ]
     },
     "metadata": {},
     "output_type": "display_data"
    }
   ],
   "source": [
    "plt.figure(figsize = (12, 3))\n",
    "plt.scatter([i for i in range(len(per_sample_counts))], per_sample_counts, alpha = .3)\n",
    "plt.ylim(0,8)\n",
    "plt.title(\"Sum of Gene Counts per Sample, by project\")\n",
    "plt.ylabel(\"log10(Sum of Gene Counts)\")\n",
    "plt.xlabel(\"Sample\")\n",
    "plt.axhline(y=per_sample_counts.describe()['mean'] - 3*per_sample_counts.describe()['std'])\n",
    "plt.axhline(y=per_sample_counts.describe()['mean'] + 3*per_sample_counts.describe()['std'])\n",
    "plt.show()"
   ]
  },
  {
   "cell_type": "code",
   "execution_count": 13,
   "metadata": {},
   "outputs": [
    {
     "name": "stdout",
     "output_type": "stream",
     "text": [
      "(32738, 2612)\n",
      "(32738, 2612)\n"
     ]
    }
   ],
   "source": [
    "# Remove SAMPLES with < 3 std of the mean total counts\n",
    "print(rnaseq_df.shape)\n",
    "threshold = per_sample_counts.describe()['mean'] - 3*per_sample_counts.describe()['std']\n",
    "samples_to_keep = list(per_sample_counts[per_sample_counts > threshold].index)\n",
    "rnaseq_df = rnaseq_df[samples_to_keep]\n",
    "print(rnaseq_df.shape)"
   ]
  },
  {
   "cell_type": "code",
   "execution_count": 14,
   "metadata": {},
   "outputs": [
    {
     "data": {
      "image/png": "[encoded data removed]",
      "text/plain": [
       "<matplotlib.figure.Figure at 0x7f2a5d4403c8>"
      ]
     },
     "metadata": {},
     "output_type": "display_data"
    }
   ],
   "source": [
    "per_sample_counts = np.log10(rnaseq_df.sum() + 1)\n",
    "\n",
    "plt.figure(figsize = (12, 3))\n",
    "plt.scatter([i for i in range(len(per_sample_counts))], per_sample_counts, alpha = .3)\n",
    "plt.ylim(0,8)\n",
    "plt.title(\"Sum of Gene Counts per Sample, by project (post-filter)\")\n",
    "plt.ylabel(\"log10(Sum of Gene Counts)\")\n",
    "plt.xlabel(\"Sample\")\n",
    "plt.axhline(y=threshold)\n",
    "plt.show()"
   ]
  },
  {
   "cell_type": "code",
   "execution_count": 15,
   "metadata": {},
   "outputs": [
    {
     "data": {
      "image/png": "[encoded data removed]",
      "text/plain": [
       "<matplotlib.figure.Figure at 0x7f2a5d4cac18>"
      ]
     },
     "metadata": {},
     "output_type": "display_data"
    }
   ],
   "source": [
    "per_gene_counts = np.log10(rnaseq_df + 1).sum(axis=1)\n",
    "plt.figure(figsize=(3,3))\n",
    "plt.hist(per_gene_counts, bins=50)  # sum per sample\n",
    "plt.title(\"Counts per Gene\")\n",
    "plt.xlabel(\"Sum of log10(Gene Counts)\")\n",
    "plt.ylabel(\"# of Genes\")\n",
    "plt.show()"
   ]
  },
  {
   "cell_type": "code",
   "execution_count": 16,
   "metadata": {},
   "outputs": [
    {
     "data": {
      "image/png": "[encoded data removed]",
      "text/plain": [
       "<matplotlib.figure.Figure at 0x7f2a5ca6e940>"
      ]
     },
     "metadata": {},
     "output_type": "display_data"
    }
   ],
   "source": [
    "per_gene_prevalence = (rnaseq_df > 0).sum(axis=1)/(rnaseq_df.shape)[1]\n",
    "plt.figure(figsize=(3,3))\n",
    "plt.hist(per_gene_prevalence, bins=50)  # sum per sample\n",
    "plt.title(\"Prevalence per Gene\")\n",
    "plt.xlabel(\"# of Samples in which gene is expressed\")\n",
    "plt.ylabel(\"# of Genes\")\n",
    "plt.show()"
   ]
  },
  {
   "cell_type": "code",
   "execution_count": 17,
   "metadata": {},
   "outputs": [
    {
     "data": {
      "text/plain": [
       "count    32738.000000\n",
       "mean         0.014037\n",
       "std          0.068250\n",
       "min          0.000000\n",
       "25%          0.000000\n",
       "50%          0.000000\n",
       "75%          0.003828\n",
       "max          1.000000\n",
       "dtype: float64"
      ]
     },
     "execution_count": 17,
     "metadata": {},
     "output_type": "execute_result"
    }
   ],
   "source": [
    "per_gene_prevalence.describe()"
   ]
  },
  {
   "cell_type": "code",
   "execution_count": 18,
   "metadata": {},
   "outputs": [
    {
     "name": "stdout",
     "output_type": "stream",
     "text": [
      "(32738, 2612)\n",
      "(14242, 2612)\n"
     ]
    }
   ],
   "source": [
    "print(rnaseq_df.shape)\n",
    "prevalence_threshold = per_gene_prevalence.describe()['50%']\n",
    "genes_to_keep = list(per_gene_prevalence[per_gene_prevalence > prevalence_threshold].index)\n",
    "rnaseq_df = rnaseq_df.loc[genes_to_keep]\n",
    "print(rnaseq_df.shape)"
   ]
  },
  {
   "cell_type": "code",
   "execution_count": 19,
   "metadata": {},
   "outputs": [],
   "source": [
    "# Process RNAseq file\n",
    "#rnaseq_df.index = rnaseq_df.index.map(lambda x: x.split('|')[0])\n",
    "#rnaseq_df.columns = rnaseq_df.columns.str.slice(start=0, stop=15)\n",
    "\n",
    "# Gene is listed twice in RNAseq data, drop both occurrences\n",
    "#rnaseq_df.drop('SLC35E2', axis=0, inplace=True)\n",
    "rnaseq_df = np.log10(rnaseq_df.T + 1)\n",
    "\n",
    "# Determine most variably expressed genes and subset\n",
    "num_mad_genes = 5000\n",
    "mad_genes = rnaseq_df.mad(axis=0).sort_values(ascending=False)\n",
    "top_mad_genes = mad_genes.iloc[0:num_mad_genes, ].index\n",
    "rnaseq_subset_df = rnaseq_df.loc[:, top_mad_genes]"
   ]
  },
  {
   "cell_type": "code",
   "execution_count": 20,
   "metadata": {},
   "outputs": [
    {
     "data": {
      "text/plain": [
       "HLA-DRA     0.339354\n",
       "HLA-DPB1    0.327955\n",
       "CD74        0.316496\n",
       "HLA-DRB1    0.291904\n",
       "HLA-DPA1    0.285491\n",
       "LYZ         0.285149\n",
       "ACTB        0.281603\n",
       "HLA-DRB5    0.277243\n",
       "S100A8      0.273677\n",
       "CST3        0.270993\n",
       "B2M         0.266654\n",
       "RPS3A       0.266104\n",
       "RPL15       0.265335\n",
       "GNB2L1      0.265018\n",
       "RPS5        0.264042\n",
       "RPL29       0.263752\n",
       "HLA-DQA1    0.262288\n",
       "GAPDH       0.261124\n",
       "S100A9      0.259948\n",
       "PFN1        0.256764\n",
       "dtype: float64"
      ]
     },
     "execution_count": 20,
     "metadata": {},
     "output_type": "execute_result"
    }
   ],
   "source": [
    "mad_genes.head(20) # verify 1. these are gene names, 2. relative functional relevance via ToppGene"
   ]
  },
  {
   "cell_type": "code",
   "execution_count": 21,
   "metadata": {},
   "outputs": [
    {
     "name": "stderr",
     "output_type": "stream",
     "text": [
      "/data/katrina/anaconda3/envs/tybalt/lib/python3.5/site-packages/pandas/core/frame.py:3035: SettingWithCopyWarning: \n",
      "A value is trying to be set on a copy of a slice from a DataFrame\n",
      "\n",
      "See the caveats in the documentation: http://pandas.pydata.org/pandas-docs/stable/indexing.html#indexing-view-versus-copy\n",
      "  downcast=downcast, **kwargs)\n"
     ]
    }
   ],
   "source": [
    "rnaseq_subset_df.fillna(0, inplace=True)"
   ]
  },
  {
   "cell_type": "code",
   "execution_count": 22,
   "metadata": {},
   "outputs": [],
   "source": [
    "# MAY WANT TO DO SOME OTHER NORMALIZATION HERE."
   ]
  },
  {
   "cell_type": "code",
   "execution_count": 23,
   "metadata": {},
   "outputs": [],
   "source": [
    "# Scale RNAseq data using z-scores\n",
    "rnaseq_scaled_df = preprocessing.StandardScaler().fit_transform(rnaseq_subset_df)\n",
    "rnaseq_scaled_df = pd.DataFrame(rnaseq_scaled_df,\n",
    "                                columns=rnaseq_subset_df.columns,\n",
    "                                index=rnaseq_subset_df.index)\n",
    "rnaseq_scaled_df.to_csv(rna_out_file, sep='\\t', compression='gzip')\n",
    "\n",
    "# Scale RNAseq data using zero-one normalization\n",
    "rnaseq_scaled_zeroone_df = preprocessing.MinMaxScaler().fit_transform(rnaseq_subset_df)\n",
    "rnaseq_scaled_zeroone_df = pd.DataFrame(rnaseq_scaled_zeroone_df,\n",
    "                                        columns=rnaseq_subset_df.columns,\n",
    "                                        index=rnaseq_subset_df.index)\n",
    "rnaseq_scaled_zeroone_df.to_csv(rna_out_zeroone_file, sep='\\t', compression='gzip')"
   ]
  },
  {
   "cell_type": "code",
   "execution_count": 24,
   "metadata": {},
   "outputs": [
    {
     "data": {
      "text/plain": [
       "[]"
      ]
     },
     "execution_count": 24,
     "metadata": {},
     "output_type": "execute_result"
    }
   ],
   "source": [
    "# check if the flu genes are included in the top mad genes\n",
    "[i for i in mad_genes.index if 'flu' in i]"
   ]
  }
 ],
 "metadata": {
  "kernelspec": {
   "display_name": "Python [default]",
   "language": "python",
   "name": "python3"
  },
  "language_info": {
   "codemirror_mode": {
    "name": "ipython",
    "version": 3
   },
   "file_extension": ".py",
   "mimetype": "text/x-python",
   "name": "python",
   "nbconvert_exporter": "python",
   "pygments_lexer": "ipython3",
   "version": "3.5.5"
  }
 },
 "nbformat": 4,
 "nbformat_minor": 1
}
