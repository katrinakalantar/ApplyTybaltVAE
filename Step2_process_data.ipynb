{
 "cells": [
  {
   "cell_type": "markdown",
   "metadata": {},
   "source": [
    "Ported from tybalt/preprocess_data.ipynb script November 27, 2018\n",
    "\n",
    "# Processing all datasets to be used in downstream analyses\n",
    "\n",
    "RNAseq data was uploaded to DL102 from a variety of projects downloaded from IDseq. Clinical data was curated from various metadata on taken from appropriate projects."
   ]
  },
  {
   "cell_type": "code",
   "execution_count": 1,
   "metadata": {},
   "outputs": [],
   "source": [
    "import os\n",
    "import numpy as np\n",
    "import pandas as pd\n",
    "import matplotlib.pyplot as plt\n",
    "from sklearn import preprocessing\n",
    "import seaborn as sns\n",
    "import matplotlib.patches as mpatches\n",
    "\n",
    "%matplotlib inline"
   ]
  },
  {
   "cell_type": "markdown",
   "metadata": {},
   "source": [
    "## Define Input and Output Filenames"
   ]
  },
  {
   "cell_type": "code",
   "execution_count": 2,
   "metadata": {},
   "outputs": [],
   "source": [
    "# Input Files\n",
    "rna_file = os.path.join('Data2', 'concatonated_genecounts.csv') \n",
    "clinical_file = os.path.join('Data2', 'master_metadata.tsv')\n",
    "microbe_file = os.path.join('Data2', 'concatonated_microbecounts.csv')"
   ]
  },
  {
   "cell_type": "code",
   "execution_count": 3,
   "metadata": {},
   "outputs": [],
   "source": [
    "# Output Files\n",
    "# Processing RNAseq data by z-score and zeroone norm\n",
    "rna_out_file = os.path.join('Data2', 'idseq_rnaseq.tsv.gz')\n",
    "rna_out_zeroone_file = os.path.join('Data2', 'idseq_scaled_zeroone_rnaseq.tsv.gz')\n",
    "\n",
    "# Clinical data\n",
    "clinical_processed_out_file = os.path.join('Data2', 'idseq_clinical_data.tsv')"
   ]
  },
  {
   "cell_type": "markdown",
   "metadata": {},
   "source": [
    "## Load Data"
   ]
  },
  {
   "cell_type": "code",
   "execution_count": 4,
   "metadata": {},
   "outputs": [
    {
     "data": {
      "text/html": [
       "<div>\n",
       "<style scoped>\n",
       "    .dataframe tbody tr th:only-of-type {\n",
       "        vertical-align: middle;\n",
       "    }\n",
       "\n",
       "    .dataframe tbody tr th {\n",
       "        vertical-align: top;\n",
       "    }\n",
       "\n",
       "    .dataframe thead th {\n",
       "        text-align: right;\n",
       "    }\n",
       "</style>\n",
       "<table border=\"1\" class=\"dataframe\">\n",
       "  <thead>\n",
       "    <tr style=\"text-align: right;\">\n",
       "      <th></th>\n",
       "      <th>OPS015_UGD-HIV-PNEU_BAL_RNA_1186_A4_S31</th>\n",
       "      <th>OPS015_UGD-HIV-PNEU_BAL_RNA_2195_F21_S160</th>\n",
       "      <th>OPS015_UGD-HIV-PNEU_BAL_RNA_1254_E6_S56</th>\n",
       "      <th>OPS015_UGD-HIV-PNEU_BAL_RNA_2192_B21_S136</th>\n",
       "      <th>OPS015_UGD-HIV-PNEU_BAL_RNA_1858_L3_S187</th>\n",
       "      <th>OPS015_UGD-HIV-PNEU_BAL_RNA_2321_J2_S17</th>\n",
       "      <th>OPS015_UGD-HIV-PNEU_BAL_RNA_1289_I6_S80</th>\n",
       "      <th>OPS015_UGD-HIV-PNEU_BAL_RNA_1864_N3_S199</th>\n",
       "      <th>OPS015_UGD-HIV-PNEU_BAL_RNA_1592_E16_S61</th>\n",
       "      <th>OPS015_UGD-HIV-PNEU_BAL_RNA_1829_P1_S210</th>\n",
       "      <th>...</th>\n",
       "      <th>CHRF_RNA_0031_S31</th>\n",
       "      <th>CHRF_RNA_0004_S4</th>\n",
       "      <th>CHRF_RNA_0042_S42</th>\n",
       "      <th>CHRF_RNA_0043_S43</th>\n",
       "      <th>CHRF_RNA_0020_S20</th>\n",
       "      <th>CHRF0094ISEQ_S1_L001</th>\n",
       "      <th>CHRF_RNA_0086_S86</th>\n",
       "      <th>CHRF_RNA_0070_S70</th>\n",
       "      <th>CHRF_RNA_0061_S61</th>\n",
       "      <th>CHRF_RNA_0058_S58</th>\n",
       "    </tr>\n",
       "  </thead>\n",
       "  <tbody>\n",
       "    <tr>\n",
       "      <th>ENSG00000223972.5</th>\n",
       "      <td>1</td>\n",
       "      <td>2</td>\n",
       "      <td>1</td>\n",
       "      <td>2</td>\n",
       "      <td>6</td>\n",
       "      <td>8</td>\n",
       "      <td>0</td>\n",
       "      <td>0</td>\n",
       "      <td>2</td>\n",
       "      <td>97</td>\n",
       "      <td>...</td>\n",
       "      <td>0</td>\n",
       "      <td>0</td>\n",
       "      <td>0</td>\n",
       "      <td>0</td>\n",
       "      <td>0</td>\n",
       "      <td>1</td>\n",
       "      <td>21</td>\n",
       "      <td>6</td>\n",
       "      <td>0</td>\n",
       "      <td>30</td>\n",
       "    </tr>\n",
       "    <tr>\n",
       "      <th>ENSG00000227232.5</th>\n",
       "      <td>0</td>\n",
       "      <td>26</td>\n",
       "      <td>4</td>\n",
       "      <td>6</td>\n",
       "      <td>31</td>\n",
       "      <td>13</td>\n",
       "      <td>0</td>\n",
       "      <td>0</td>\n",
       "      <td>12</td>\n",
       "      <td>112</td>\n",
       "      <td>...</td>\n",
       "      <td>0</td>\n",
       "      <td>10</td>\n",
       "      <td>0</td>\n",
       "      <td>0</td>\n",
       "      <td>0</td>\n",
       "      <td>0</td>\n",
       "      <td>5</td>\n",
       "      <td>14</td>\n",
       "      <td>0</td>\n",
       "      <td>43</td>\n",
       "    </tr>\n",
       "    <tr>\n",
       "      <th>ENSG00000278267.1</th>\n",
       "      <td>0</td>\n",
       "      <td>1</td>\n",
       "      <td>0</td>\n",
       "      <td>0</td>\n",
       "      <td>0</td>\n",
       "      <td>0</td>\n",
       "      <td>0</td>\n",
       "      <td>0</td>\n",
       "      <td>0</td>\n",
       "      <td>0</td>\n",
       "      <td>...</td>\n",
       "      <td>0</td>\n",
       "      <td>0</td>\n",
       "      <td>0</td>\n",
       "      <td>0</td>\n",
       "      <td>0</td>\n",
       "      <td>0</td>\n",
       "      <td>0</td>\n",
       "      <td>0</td>\n",
       "      <td>0</td>\n",
       "      <td>0</td>\n",
       "    </tr>\n",
       "    <tr>\n",
       "      <th>ENSG00000243485.3</th>\n",
       "      <td>0</td>\n",
       "      <td>0</td>\n",
       "      <td>0</td>\n",
       "      <td>4</td>\n",
       "      <td>2</td>\n",
       "      <td>5</td>\n",
       "      <td>0</td>\n",
       "      <td>0</td>\n",
       "      <td>0</td>\n",
       "      <td>6</td>\n",
       "      <td>...</td>\n",
       "      <td>0</td>\n",
       "      <td>0</td>\n",
       "      <td>0</td>\n",
       "      <td>0</td>\n",
       "      <td>0</td>\n",
       "      <td>0</td>\n",
       "      <td>3</td>\n",
       "      <td>1</td>\n",
       "      <td>0</td>\n",
       "      <td>14</td>\n",
       "    </tr>\n",
       "    <tr>\n",
       "      <th>ENSG00000274890.1</th>\n",
       "      <td>0</td>\n",
       "      <td>0</td>\n",
       "      <td>0</td>\n",
       "      <td>0</td>\n",
       "      <td>0</td>\n",
       "      <td>0</td>\n",
       "      <td>0</td>\n",
       "      <td>0</td>\n",
       "      <td>0</td>\n",
       "      <td>0</td>\n",
       "      <td>...</td>\n",
       "      <td>0</td>\n",
       "      <td>0</td>\n",
       "      <td>0</td>\n",
       "      <td>0</td>\n",
       "      <td>0</td>\n",
       "      <td>0</td>\n",
       "      <td>0</td>\n",
       "      <td>0</td>\n",
       "      <td>0</td>\n",
       "      <td>0</td>\n",
       "    </tr>\n",
       "  </tbody>\n",
       "</table>\n",
       "<p>5 rows × 1537 columns</p>\n",
       "</div>"
      ],
      "text/plain": [
       "                   OPS015_UGD-HIV-PNEU_BAL_RNA_1186_A4_S31  \\\n",
       "ENSG00000223972.5                                        1   \n",
       "ENSG00000227232.5                                        0   \n",
       "ENSG00000278267.1                                        0   \n",
       "ENSG00000243485.3                                        0   \n",
       "ENSG00000274890.1                                        0   \n",
       "\n",
       "                   OPS015_UGD-HIV-PNEU_BAL_RNA_2195_F21_S160  \\\n",
       "ENSG00000223972.5                                          2   \n",
       "ENSG00000227232.5                                         26   \n",
       "ENSG00000278267.1                                          1   \n",
       "ENSG00000243485.3                                          0   \n",
       "ENSG00000274890.1                                          0   \n",
       "\n",
       "                   OPS015_UGD-HIV-PNEU_BAL_RNA_1254_E6_S56  \\\n",
       "ENSG00000223972.5                                        1   \n",
       "ENSG00000227232.5                                        4   \n",
       "ENSG00000278267.1                                        0   \n",
       "ENSG00000243485.3                                        0   \n",
       "ENSG00000274890.1                                        0   \n",
       "\n",
       "                   OPS015_UGD-HIV-PNEU_BAL_RNA_2192_B21_S136  \\\n",
       "ENSG00000223972.5                                          2   \n",
       "ENSG00000227232.5                                          6   \n",
       "ENSG00000278267.1                                          0   \n",
       "ENSG00000243485.3                                          4   \n",
       "ENSG00000274890.1                                          0   \n",
       "\n",
       "                   OPS015_UGD-HIV-PNEU_BAL_RNA_1858_L3_S187  \\\n",
       "ENSG00000223972.5                                         6   \n",
       "ENSG00000227232.5                                        31   \n",
       "ENSG00000278267.1                                         0   \n",
       "ENSG00000243485.3                                         2   \n",
       "ENSG00000274890.1                                         0   \n",
       "\n",
       "                   OPS015_UGD-HIV-PNEU_BAL_RNA_2321_J2_S17  \\\n",
       "ENSG00000223972.5                                        8   \n",
       "ENSG00000227232.5                                       13   \n",
       "ENSG00000278267.1                                        0   \n",
       "ENSG00000243485.3                                        5   \n",
       "ENSG00000274890.1                                        0   \n",
       "\n",
       "                   OPS015_UGD-HIV-PNEU_BAL_RNA_1289_I6_S80  \\\n",
       "ENSG00000223972.5                                        0   \n",
       "ENSG00000227232.5                                        0   \n",
       "ENSG00000278267.1                                        0   \n",
       "ENSG00000243485.3                                        0   \n",
       "ENSG00000274890.1                                        0   \n",
       "\n",
       "                   OPS015_UGD-HIV-PNEU_BAL_RNA_1864_N3_S199  \\\n",
       "ENSG00000223972.5                                         0   \n",
       "ENSG00000227232.5                                         0   \n",
       "ENSG00000278267.1                                         0   \n",
       "ENSG00000243485.3                                         0   \n",
       "ENSG00000274890.1                                         0   \n",
       "\n",
       "                   OPS015_UGD-HIV-PNEU_BAL_RNA_1592_E16_S61  \\\n",
       "ENSG00000223972.5                                         2   \n",
       "ENSG00000227232.5                                        12   \n",
       "ENSG00000278267.1                                         0   \n",
       "ENSG00000243485.3                                         0   \n",
       "ENSG00000274890.1                                         0   \n",
       "\n",
       "                   OPS015_UGD-HIV-PNEU_BAL_RNA_1829_P1_S210  \\\n",
       "ENSG00000223972.5                                        97   \n",
       "ENSG00000227232.5                                       112   \n",
       "ENSG00000278267.1                                         0   \n",
       "ENSG00000243485.3                                         6   \n",
       "ENSG00000274890.1                                         0   \n",
       "\n",
       "                         ...          CHRF_RNA_0031_S31  CHRF_RNA_0004_S4  \\\n",
       "ENSG00000223972.5        ...                          0                 0   \n",
       "ENSG00000227232.5        ...                          0                10   \n",
       "ENSG00000278267.1        ...                          0                 0   \n",
       "ENSG00000243485.3        ...                          0                 0   \n",
       "ENSG00000274890.1        ...                          0                 0   \n",
       "\n",
       "                   CHRF_RNA_0042_S42  CHRF_RNA_0043_S43  CHRF_RNA_0020_S20  \\\n",
       "ENSG00000223972.5                  0                  0                  0   \n",
       "ENSG00000227232.5                  0                  0                  0   \n",
       "ENSG00000278267.1                  0                  0                  0   \n",
       "ENSG00000243485.3                  0                  0                  0   \n",
       "ENSG00000274890.1                  0                  0                  0   \n",
       "\n",
       "                   CHRF0094ISEQ_S1_L001  CHRF_RNA_0086_S86  CHRF_RNA_0070_S70  \\\n",
       "ENSG00000223972.5                     1                 21                  6   \n",
       "ENSG00000227232.5                     0                  5                 14   \n",
       "ENSG00000278267.1                     0                  0                  0   \n",
       "ENSG00000243485.3                     0                  3                  1   \n",
       "ENSG00000274890.1                     0                  0                  0   \n",
       "\n",
       "                   CHRF_RNA_0061_S61  CHRF_RNA_0058_S58  \n",
       "ENSG00000223972.5                  0                 30  \n",
       "ENSG00000227232.5                  0                 43  \n",
       "ENSG00000278267.1                  0                  0  \n",
       "ENSG00000243485.3                  0                 14  \n",
       "ENSG00000274890.1                  0                  0  \n",
       "\n",
       "[5 rows x 1537 columns]"
      ]
     },
     "execution_count": 4,
     "metadata": {},
     "output_type": "execute_result"
    }
   ],
   "source": [
    "rnaseq_df = pd.read_table(rna_file, sep=',', index_col=0)\n",
    "new_cols = ['_'.join(i.upper().split('_')[0:-1]) for i in list(rnaseq_df.columns)]\n",
    "rnaseq_df.columns = new_cols\n",
    "rnaseq_df.head()"
   ]
  },
  {
   "cell_type": "code",
   "execution_count": 5,
   "metadata": {},
   "outputs": [
    {
     "name": "stderr",
     "output_type": "stream",
     "text": [
      "/data/katrina/anaconda3/envs/tybalt/lib/python3.5/site-packages/IPython/core/interactiveshell.py:3018: DtypeWarning: Columns (0) have mixed types. Specify dtype option on import or set low_memory=False.\n",
      "  interactivity=interactivity, compiler=compiler, result=result)\n"
     ]
    },
    {
     "data": {
      "text/html": [
       "<div>\n",
       "<style scoped>\n",
       "    .dataframe tbody tr th:only-of-type {\n",
       "        vertical-align: middle;\n",
       "    }\n",
       "\n",
       "    .dataframe tbody tr th {\n",
       "        vertical-align: top;\n",
       "    }\n",
       "\n",
       "    .dataframe thead th {\n",
       "        text-align: right;\n",
       "    }\n",
       "</style>\n",
       "<table border=\"1\" class=\"dataframe\">\n",
       "  <thead>\n",
       "    <tr style=\"text-align: right;\">\n",
       "      <th></th>\n",
       "      <th>OPS_005_VAP_RNA_9664_P1042495_S43</th>\n",
       "      <th>VAP3_RNA_TA_0328_P1029727_S27</th>\n",
       "      <th>VAP_4_RNA_TA_006078_P1036760_S29</th>\n",
       "      <th>OPS_005_VAP_RNA_11627_P1044409_S72</th>\n",
       "      <th>OPS_001_VAP_RNA_TA_9039_P1040356_S114</th>\n",
       "      <th>VAP8_RNA_TA_006194_P1037879_S146</th>\n",
       "      <th>OPS_012_VAP_OPS_005REPEAT_TA_RNA_9701_P1044541_M8_S76_L001</th>\n",
       "      <th>OPS_005_VAP_RNA_10921_P1042438_S18</th>\n",
       "      <th>OPS_006_VAP_RNA_TA_10138_P1043970_S134</th>\n",
       "      <th>VAP6_RNA_TA_6317_P1038322_S134</th>\n",
       "      <th>...</th>\n",
       "      <th>OPS015_UGD-HIV-PNEU_BAL_RNA_2206_J21_S184</th>\n",
       "      <th>OPS017_UGD-HIV-PNEU-DNA-MEERA_UG3065B_B4_S109</th>\n",
       "      <th>OPS017_UGD-HIV-PNEU-DNA-MEERA_UG4111B_F12_S156</th>\n",
       "      <th>OPS017_UGD-HIV-PNEU-DNA-MEERA_UG3161B_H4_S168</th>\n",
       "      <th>OPS015_UGD-HIV-PNEU_BAL_RNA_2423_L6_S23</th>\n",
       "      <th>OPS015_UGD-HIV-PNEU_BAL_RNA_1937_P7_S213</th>\n",
       "      <th>OPS015_UGD-HIV-PNEU_BAL_RNA_1397_C10_S46</th>\n",
       "      <th>OPS015_UGD-HIV-PNEU_BAL_RNA_1655_I18_S86</th>\n",
       "      <th>OPS017_UGD-HIV-PNEU-DNA-MEERA_UG4015B_H9_S173</th>\n",
       "      <th>OPS015_UGD-HIV-PNEU_BAL_RNA_1243_C6_S44</th>\n",
       "    </tr>\n",
       "  </thead>\n",
       "  <tbody>\n",
       "    <tr>\n",
       "      <th>Bacteria</th>\n",
       "      <td>11.664</td>\n",
       "      <td>2815.981</td>\n",
       "      <td>452.713</td>\n",
       "      <td>75.966</td>\n",
       "      <td>1270.493</td>\n",
       "      <td>15.388</td>\n",
       "      <td>3791.041</td>\n",
       "      <td>29.907</td>\n",
       "      <td>355.983</td>\n",
       "      <td>156.982</td>\n",
       "      <td>...</td>\n",
       "      <td>75.501</td>\n",
       "      <td>1.681</td>\n",
       "      <td>46.496</td>\n",
       "      <td>6.649</td>\n",
       "      <td>28.192</td>\n",
       "      <td>2836.207</td>\n",
       "      <td>1646.302</td>\n",
       "      <td>2308.421</td>\n",
       "      <td>327.255</td>\n",
       "      <td>6577.999</td>\n",
       "    </tr>\n",
       "    <tr>\n",
       "      <th>171552</th>\n",
       "      <td>3.399</td>\n",
       "      <td>219.371</td>\n",
       "      <td>0.067</td>\n",
       "      <td>NaN</td>\n",
       "      <td>104.107</td>\n",
       "      <td>0.054</td>\n",
       "      <td>40.822</td>\n",
       "      <td>0.549</td>\n",
       "      <td>NaN</td>\n",
       "      <td>7.614</td>\n",
       "      <td>...</td>\n",
       "      <td>0.175</td>\n",
       "      <td>0.047</td>\n",
       "      <td>10.325</td>\n",
       "      <td>0.023</td>\n",
       "      <td>NaN</td>\n",
       "      <td>0.238</td>\n",
       "      <td>0.045</td>\n",
       "      <td>1.169</td>\n",
       "      <td>186.764</td>\n",
       "      <td>NaN</td>\n",
       "    </tr>\n",
       "    <tr>\n",
       "      <th>838</th>\n",
       "      <td>3.349</td>\n",
       "      <td>218.430</td>\n",
       "      <td>0.067</td>\n",
       "      <td>NaN</td>\n",
       "      <td>77.112</td>\n",
       "      <td>0.054</td>\n",
       "      <td>40.822</td>\n",
       "      <td>0.549</td>\n",
       "      <td>NaN</td>\n",
       "      <td>7.614</td>\n",
       "      <td>...</td>\n",
       "      <td>0.175</td>\n",
       "      <td>0.047</td>\n",
       "      <td>10.325</td>\n",
       "      <td>0.023</td>\n",
       "      <td>NaN</td>\n",
       "      <td>0.238</td>\n",
       "      <td>0.045</td>\n",
       "      <td>1.002</td>\n",
       "      <td>186.764</td>\n",
       "      <td>NaN</td>\n",
       "    </tr>\n",
       "    <tr>\n",
       "      <th>1300</th>\n",
       "      <td>0.391</td>\n",
       "      <td>1422.304</td>\n",
       "      <td>NaN</td>\n",
       "      <td>0.083</td>\n",
       "      <td>179.040</td>\n",
       "      <td>3.025</td>\n",
       "      <td>7.069</td>\n",
       "      <td>1.013</td>\n",
       "      <td>0.279</td>\n",
       "      <td>16.820</td>\n",
       "      <td>...</td>\n",
       "      <td>25.300</td>\n",
       "      <td>0.648</td>\n",
       "      <td>20.740</td>\n",
       "      <td>1.223</td>\n",
       "      <td>19.977</td>\n",
       "      <td>1.428</td>\n",
       "      <td>0.079</td>\n",
       "      <td>3.675</td>\n",
       "      <td>26.783</td>\n",
       "      <td>4.591</td>\n",
       "    </tr>\n",
       "    <tr>\n",
       "      <th>1301</th>\n",
       "      <td>0.391</td>\n",
       "      <td>1422.256</td>\n",
       "      <td>NaN</td>\n",
       "      <td>0.083</td>\n",
       "      <td>179.040</td>\n",
       "      <td>3.025</td>\n",
       "      <td>7.069</td>\n",
       "      <td>1.013</td>\n",
       "      <td>0.279</td>\n",
       "      <td>16.820</td>\n",
       "      <td>...</td>\n",
       "      <td>25.300</td>\n",
       "      <td>0.648</td>\n",
       "      <td>20.740</td>\n",
       "      <td>1.223</td>\n",
       "      <td>19.977</td>\n",
       "      <td>1.428</td>\n",
       "      <td>0.079</td>\n",
       "      <td>3.508</td>\n",
       "      <td>26.783</td>\n",
       "      <td>4.217</td>\n",
       "    </tr>\n",
       "  </tbody>\n",
       "</table>\n",
       "<p>5 rows × 1588 columns</p>\n",
       "</div>"
      ],
      "text/plain": [
       "          OPS_005_VAP_RNA_9664_P1042495_S43  VAP3_RNA_TA_0328_P1029727_S27  \\\n",
       "Bacteria                             11.664                       2815.981   \n",
       "171552                                3.399                        219.371   \n",
       "838                                   3.349                        218.430   \n",
       "1300                                  0.391                       1422.304   \n",
       "1301                                  0.391                       1422.256   \n",
       "\n",
       "          VAP_4_RNA_TA_006078_P1036760_S29  \\\n",
       "Bacteria                           452.713   \n",
       "171552                               0.067   \n",
       "838                                  0.067   \n",
       "1300                                   NaN   \n",
       "1301                                   NaN   \n",
       "\n",
       "          OPS_005_VAP_RNA_11627_P1044409_S72  \\\n",
       "Bacteria                              75.966   \n",
       "171552                                   NaN   \n",
       "838                                      NaN   \n",
       "1300                                   0.083   \n",
       "1301                                   0.083   \n",
       "\n",
       "          OPS_001_VAP_RNA_TA_9039_P1040356_S114  \\\n",
       "Bacteria                               1270.493   \n",
       "171552                                  104.107   \n",
       "838                                      77.112   \n",
       "1300                                    179.040   \n",
       "1301                                    179.040   \n",
       "\n",
       "          VAP8_RNA_TA_006194_P1037879_S146  \\\n",
       "Bacteria                            15.388   \n",
       "171552                               0.054   \n",
       "838                                  0.054   \n",
       "1300                                 3.025   \n",
       "1301                                 3.025   \n",
       "\n",
       "          OPS_012_VAP_OPS_005REPEAT_TA_RNA_9701_P1044541_M8_S76_L001  \\\n",
       "Bacteria                                           3791.041            \n",
       "171552                                               40.822            \n",
       "838                                                  40.822            \n",
       "1300                                                  7.069            \n",
       "1301                                                  7.069            \n",
       "\n",
       "          OPS_005_VAP_RNA_10921_P1042438_S18  \\\n",
       "Bacteria                              29.907   \n",
       "171552                                 0.549   \n",
       "838                                    0.549   \n",
       "1300                                   1.013   \n",
       "1301                                   1.013   \n",
       "\n",
       "          OPS_006_VAP_RNA_TA_10138_P1043970_S134  \\\n",
       "Bacteria                                 355.983   \n",
       "171552                                       NaN   \n",
       "838                                          NaN   \n",
       "1300                                       0.279   \n",
       "1301                                       0.279   \n",
       "\n",
       "          VAP6_RNA_TA_6317_P1038322_S134  \\\n",
       "Bacteria                         156.982   \n",
       "171552                             7.614   \n",
       "838                                7.614   \n",
       "1300                              16.820   \n",
       "1301                              16.820   \n",
       "\n",
       "                           ...                     \\\n",
       "Bacteria                   ...                      \n",
       "171552                     ...                      \n",
       "838                        ...                      \n",
       "1300                       ...                      \n",
       "1301                       ...                      \n",
       "\n",
       "          OPS015_UGD-HIV-PNEU_BAL_RNA_2206_J21_S184  \\\n",
       "Bacteria                                     75.501   \n",
       "171552                                        0.175   \n",
       "838                                           0.175   \n",
       "1300                                         25.300   \n",
       "1301                                         25.300   \n",
       "\n",
       "          OPS017_UGD-HIV-PNEU-DNA-MEERA_UG3065B_B4_S109  \\\n",
       "Bacteria                                          1.681   \n",
       "171552                                            0.047   \n",
       "838                                               0.047   \n",
       "1300                                              0.648   \n",
       "1301                                              0.648   \n",
       "\n",
       "          OPS017_UGD-HIV-PNEU-DNA-MEERA_UG4111B_F12_S156  \\\n",
       "Bacteria                                          46.496   \n",
       "171552                                            10.325   \n",
       "838                                               10.325   \n",
       "1300                                              20.740   \n",
       "1301                                              20.740   \n",
       "\n",
       "          OPS017_UGD-HIV-PNEU-DNA-MEERA_UG3161B_H4_S168  \\\n",
       "Bacteria                                          6.649   \n",
       "171552                                            0.023   \n",
       "838                                               0.023   \n",
       "1300                                              1.223   \n",
       "1301                                              1.223   \n",
       "\n",
       "          OPS015_UGD-HIV-PNEU_BAL_RNA_2423_L6_S23  \\\n",
       "Bacteria                                   28.192   \n",
       "171552                                        NaN   \n",
       "838                                           NaN   \n",
       "1300                                       19.977   \n",
       "1301                                       19.977   \n",
       "\n",
       "          OPS015_UGD-HIV-PNEU_BAL_RNA_1937_P7_S213  \\\n",
       "Bacteria                                  2836.207   \n",
       "171552                                       0.238   \n",
       "838                                          0.238   \n",
       "1300                                         1.428   \n",
       "1301                                         1.428   \n",
       "\n",
       "          OPS015_UGD-HIV-PNEU_BAL_RNA_1397_C10_S46  \\\n",
       "Bacteria                                  1646.302   \n",
       "171552                                       0.045   \n",
       "838                                          0.045   \n",
       "1300                                         0.079   \n",
       "1301                                         0.079   \n",
       "\n",
       "          OPS015_UGD-HIV-PNEU_BAL_RNA_1655_I18_S86  \\\n",
       "Bacteria                                  2308.421   \n",
       "171552                                       1.169   \n",
       "838                                          1.002   \n",
       "1300                                         3.675   \n",
       "1301                                         3.508   \n",
       "\n",
       "          OPS017_UGD-HIV-PNEU-DNA-MEERA_UG4015B_H9_S173  \\\n",
       "Bacteria                                        327.255   \n",
       "171552                                          186.764   \n",
       "838                                             186.764   \n",
       "1300                                             26.783   \n",
       "1301                                             26.783   \n",
       "\n",
       "          OPS015_UGD-HIV-PNEU_BAL_RNA_1243_C6_S44  \n",
       "Bacteria                                 6577.999  \n",
       "171552                                        NaN  \n",
       "838                                           NaN  \n",
       "1300                                        4.591  \n",
       "1301                                        4.217  \n",
       "\n",
       "[5 rows x 1588 columns]"
      ]
     },
     "execution_count": 5,
     "metadata": {},
     "output_type": "execute_result"
    }
   ],
   "source": [
    "microbe_df = pd.read_table(microbe_file, sep=',', index_col = 0)\n",
    "microbe_df.index = [str(i) for i in microbe_df.index]\n",
    "microbe_df.head()"
   ]
  },
  {
   "cell_type": "code",
   "execution_count": 6,
   "metadata": {},
   "outputs": [
    {
     "name": "stdout",
     "output_type": "stream",
     "text": [
      "(60590, 1339)\n",
      "(12797, 1339)\n"
     ]
    }
   ],
   "source": [
    "sample_set = set(rnaseq_df.columns).intersection(microbe_df.columns)\n",
    "sample_names = [i for i in rnaseq_df.columns if i in list(sample_set)]\n",
    "rnaseq_df = rnaseq_df[sample_names]\n",
    "microbe_df = microbe_df[sample_names]\n",
    "print(rnaseq_df.shape)\n",
    "print(microbe_df.shape)"
   ]
  },
  {
   "cell_type": "code",
   "execution_count": 7,
   "metadata": {},
   "outputs": [
    {
     "name": "stdout",
     "output_type": "stream",
     "text": [
      "(73387, 1339)\n"
     ]
    }
   ],
   "source": [
    "rnaseq_df = pd.concat([rnaseq_df, microbe_df])\n",
    "print(rnaseq_df.shape)"
   ]
  },
  {
   "cell_type": "code",
   "execution_count": 8,
   "metadata": {},
   "outputs": [
    {
     "data": {
      "text/html": [
       "<div>\n",
       "<style scoped>\n",
       "    .dataframe tbody tr th:only-of-type {\n",
       "        vertical-align: middle;\n",
       "    }\n",
       "\n",
       "    .dataframe tbody tr th {\n",
       "        vertical-align: top;\n",
       "    }\n",
       "\n",
       "    .dataframe thead th {\n",
       "        text-align: right;\n",
       "    }\n",
       "</style>\n",
       "<table border=\"1\" class=\"dataframe\">\n",
       "  <thead>\n",
       "    <tr style=\"text-align: right;\">\n",
       "      <th></th>\n",
       "      <th>Project</th>\n",
       "      <th>Tissue</th>\n",
       "      <th>Sex</th>\n",
       "      <th>Infection</th>\n",
       "      <th>Immune Compromise</th>\n",
       "      <th>Organism</th>\n",
       "      <th>Age</th>\n",
       "      <th>sample_name</th>\n",
       "      <th>uploader</th>\n",
       "      <th>upload_date</th>\n",
       "      <th>...</th>\n",
       "      <th>ercc_reads</th>\n",
       "      <th>subsampled_fraction</th>\n",
       "      <th>quality_control</th>\n",
       "      <th>compression_ratio</th>\n",
       "      <th>tissue_type</th>\n",
       "      <th>nucleotide_type</th>\n",
       "      <th>location</th>\n",
       "      <th>host_genome</th>\n",
       "      <th>notes</th>\n",
       "      <th>sample_diagnosis</th>\n",
       "    </tr>\n",
       "  </thead>\n",
       "  <tbody>\n",
       "    <tr>\n",
       "      <th>CHRF_RNA_0000_S97</th>\n",
       "      <td>CHRF</td>\n",
       "      <td>CSF</td>\n",
       "      <td>NaN</td>\n",
       "      <td>Water</td>\n",
       "      <td>NaN</td>\n",
       "      <td>NaN</td>\n",
       "      <td>PED</td>\n",
       "      <td>CHRF_RNA_0000_S97</td>\n",
       "      <td>NaN</td>\n",
       "      <td>3/25/18 17:51</td>\n",
       "      <td>...</td>\n",
       "      <td>130150782.0</td>\n",
       "      <td>1.000000</td>\n",
       "      <td>31.505</td>\n",
       "      <td>6.16</td>\n",
       "      <td>NaN</td>\n",
       "      <td>RNA</td>\n",
       "      <td>NaN</td>\n",
       "      <td>Human</td>\n",
       "      <td>- Notes: DeRisi_water\\n- mNGS result summary (...</td>\n",
       "      <td>NaN</td>\n",
       "    </tr>\n",
       "    <tr>\n",
       "      <th>CHRF_RNA_0001_S1</th>\n",
       "      <td>CHRF</td>\n",
       "      <td>CSF</td>\n",
       "      <td>NaN</td>\n",
       "      <td>1</td>\n",
       "      <td>NaN</td>\n",
       "      <td>Streptococcus pneumoniae</td>\n",
       "      <td>PED</td>\n",
       "      <td>CHRF_RNA_0001_S1</td>\n",
       "      <td>NaN</td>\n",
       "      <td>3/25/18 17:51</td>\n",
       "      <td>...</td>\n",
       "      <td>33395452.0</td>\n",
       "      <td>1.000000</td>\n",
       "      <td>21.781</td>\n",
       "      <td>2.33</td>\n",
       "      <td>NaN</td>\n",
       "      <td>RNA</td>\n",
       "      <td>NaN</td>\n",
       "      <td>Human</td>\n",
       "      <td>Parvovirus B19, Antigen for Strept. Pneumonia,...</td>\n",
       "      <td>Meningitis</td>\n",
       "    </tr>\n",
       "    <tr>\n",
       "      <th>CHRF_RNA_0002_S2</th>\n",
       "      <td>CHRF</td>\n",
       "      <td>CSF</td>\n",
       "      <td>NaN</td>\n",
       "      <td>1</td>\n",
       "      <td>NaN</td>\n",
       "      <td>Streptococcus pneumoniae</td>\n",
       "      <td>PED</td>\n",
       "      <td>CHRF_RNA_0002_S2</td>\n",
       "      <td>NaN</td>\n",
       "      <td>3/25/18 17:51</td>\n",
       "      <td>...</td>\n",
       "      <td>14875054.0</td>\n",
       "      <td>0.823954</td>\n",
       "      <td>35.690</td>\n",
       "      <td>1.47</td>\n",
       "      <td>NaN</td>\n",
       "      <td>RNA</td>\n",
       "      <td>NaN</td>\n",
       "      <td>Human</td>\n",
       "      <td>Streptococcus pneumoniae\\n- Serotype: 2\\n- CT ...</td>\n",
       "      <td>Meningitis</td>\n",
       "    </tr>\n",
       "    <tr>\n",
       "      <th>CHRF_RNA_0003_S3</th>\n",
       "      <td>CHRF</td>\n",
       "      <td>CSF</td>\n",
       "      <td>NaN</td>\n",
       "      <td>1</td>\n",
       "      <td>NaN</td>\n",
       "      <td>Streptococcus pneumoniae</td>\n",
       "      <td>PED</td>\n",
       "      <td>CHRF_RNA_0003_S3</td>\n",
       "      <td>NaN</td>\n",
       "      <td>3/25/18 17:51</td>\n",
       "      <td>...</td>\n",
       "      <td>17328160.0</td>\n",
       "      <td>1.000000</td>\n",
       "      <td>15.117</td>\n",
       "      <td>1.43</td>\n",
       "      <td>NaN</td>\n",
       "      <td>RNA</td>\n",
       "      <td>NaN</td>\n",
       "      <td>Human</td>\n",
       "      <td>low TTV\\n- Serotype: 19A\\n- CT value from qPCR...</td>\n",
       "      <td>Meningitis</td>\n",
       "    </tr>\n",
       "    <tr>\n",
       "      <th>CHRF_RNA_0004_S4</th>\n",
       "      <td>CHRF</td>\n",
       "      <td>CSF</td>\n",
       "      <td>NaN</td>\n",
       "      <td>1</td>\n",
       "      <td>NaN</td>\n",
       "      <td>Streptococcus pneumoniae</td>\n",
       "      <td>PED</td>\n",
       "      <td>CHRF_RNA_0004_S4</td>\n",
       "      <td>NaN</td>\n",
       "      <td>3/25/18 17:51</td>\n",
       "      <td>...</td>\n",
       "      <td>45038786.0</td>\n",
       "      <td>1.000000</td>\n",
       "      <td>38.742</td>\n",
       "      <td>2.70</td>\n",
       "      <td>NaN</td>\n",
       "      <td>RNA</td>\n",
       "      <td>NaN</td>\n",
       "      <td>Human</td>\n",
       "      <td>- Serotype: NTD\\n- CT value from qPCR: 35.51\\n...</td>\n",
       "      <td>Meningitis</td>\n",
       "    </tr>\n",
       "  </tbody>\n",
       "</table>\n",
       "<p>5 rows × 26 columns</p>\n",
       "</div>"
      ],
      "text/plain": [
       "                  Project Tissue  Sex Infection Immune Compromise  \\\n",
       "CHRF_RNA_0000_S97    CHRF    CSF  NaN     Water               NaN   \n",
       "CHRF_RNA_0001_S1     CHRF    CSF  NaN         1               NaN   \n",
       "CHRF_RNA_0002_S2     CHRF    CSF  NaN         1               NaN   \n",
       "CHRF_RNA_0003_S3     CHRF    CSF  NaN         1               NaN   \n",
       "CHRF_RNA_0004_S4     CHRF    CSF  NaN         1               NaN   \n",
       "\n",
       "                                   Organism  Age        sample_name uploader  \\\n",
       "CHRF_RNA_0000_S97                       NaN  PED  CHRF_RNA_0000_S97      NaN   \n",
       "CHRF_RNA_0001_S1   Streptococcus pneumoniae  PED   CHRF_RNA_0001_S1      NaN   \n",
       "CHRF_RNA_0002_S2   Streptococcus pneumoniae  PED   CHRF_RNA_0002_S2      NaN   \n",
       "CHRF_RNA_0003_S3   Streptococcus pneumoniae  PED   CHRF_RNA_0003_S3      NaN   \n",
       "CHRF_RNA_0004_S4   Streptococcus pneumoniae  PED   CHRF_RNA_0004_S4      NaN   \n",
       "\n",
       "                     upload_date        ...          ercc_reads  \\\n",
       "CHRF_RNA_0000_S97  3/25/18 17:51        ...         130150782.0   \n",
       "CHRF_RNA_0001_S1   3/25/18 17:51        ...          33395452.0   \n",
       "CHRF_RNA_0002_S2   3/25/18 17:51        ...          14875054.0   \n",
       "CHRF_RNA_0003_S3   3/25/18 17:51        ...          17328160.0   \n",
       "CHRF_RNA_0004_S4   3/25/18 17:51        ...          45038786.0   \n",
       "\n",
       "                  subsampled_fraction  quality_control  compression_ratio  \\\n",
       "CHRF_RNA_0000_S97            1.000000           31.505               6.16   \n",
       "CHRF_RNA_0001_S1             1.000000           21.781               2.33   \n",
       "CHRF_RNA_0002_S2             0.823954           35.690               1.47   \n",
       "CHRF_RNA_0003_S3             1.000000           15.117               1.43   \n",
       "CHRF_RNA_0004_S4             1.000000           38.742               2.70   \n",
       "\n",
       "                   tissue_type  nucleotide_type  location  host_genome  \\\n",
       "CHRF_RNA_0000_S97          NaN              RNA       NaN        Human   \n",
       "CHRF_RNA_0001_S1           NaN              RNA       NaN        Human   \n",
       "CHRF_RNA_0002_S2           NaN              RNA       NaN        Human   \n",
       "CHRF_RNA_0003_S3           NaN              RNA       NaN        Human   \n",
       "CHRF_RNA_0004_S4           NaN              RNA       NaN        Human   \n",
       "\n",
       "                                                               notes  \\\n",
       "CHRF_RNA_0000_S97  - Notes: DeRisi_water\\n- mNGS result summary (...   \n",
       "CHRF_RNA_0001_S1   Parvovirus B19, Antigen for Strept. Pneumonia,...   \n",
       "CHRF_RNA_0002_S2   Streptococcus pneumoniae\\n- Serotype: 2\\n- CT ...   \n",
       "CHRF_RNA_0003_S3   low TTV\\n- Serotype: 19A\\n- CT value from qPCR...   \n",
       "CHRF_RNA_0004_S4   - Serotype: NTD\\n- CT value from qPCR: 35.51\\n...   \n",
       "\n",
       "                   sample_diagnosis  \n",
       "CHRF_RNA_0000_S97               NaN  \n",
       "CHRF_RNA_0001_S1         Meningitis  \n",
       "CHRF_RNA_0002_S2         Meningitis  \n",
       "CHRF_RNA_0003_S3         Meningitis  \n",
       "CHRF_RNA_0004_S4         Meningitis  \n",
       "\n",
       "[5 rows x 26 columns]"
      ]
     },
     "execution_count": 8,
     "metadata": {},
     "output_type": "execute_result"
    }
   ],
   "source": [
    "clinical_df = pd.read_table(clinical_file, index_col=0)\n",
    "new_idx = [i.upper() for i in list(clinical_df.index)]  # ensure all sample IDs are upper-case\n",
    "clinical_df.index = new_idx\n",
    "clinical_df.head()"
   ]
  },
  {
   "cell_type": "code",
   "execution_count": 9,
   "metadata": {
    "scrolled": true
   },
   "outputs": [
    {
     "name": "stdout",
     "output_type": "stream",
     "text": [
      "ex: samples with metadata, but no sample in the genecounts matrix - verified all REPEATS, so OK\n",
      "278\n",
      "OPS_012_VAP_OPS_005REPEAT_TA_RNA_10700_P1040963_O2_S85_L001\n",
      "OPS_001_VAP_RNA_TA_9026_P1040178_S111_L004\n",
      "OPS_012_VAP_OPS_005REPEAT_TA_RNA_2125_P1037929_K8_S64_L001\n",
      "OPS_001_VAP_RNA_TA_8440_P1038420_S119_L004\n",
      "OPS_012_VAP_OPS_005REPEAT_TA_RNA_10634_P1040777_E4_S26_L001\n",
      "OPS_003_VAP_RNA_TA_10655_P1040794_S182_L003\n",
      "OPS_001_VAP_RNA_TA_8147_P1037252_S130_L003\n",
      "OPS_003_VAP_RNA_TA_7529_P1037426_S152_L003\n",
      "VAP_4_RNA_TA_006072_P1036760_S28\n",
      "OPS_001_VAP_RNA_TA_4345_P1038088_S136_L004\n",
      "OPS_012_VAP_OPS_005REPEAT_TA_RNA_6009_P1036761_A22_S11_L001\n",
      "OPS_012_VAP_OPS_005REPEAT_TA_RNA_4727_P1039515_C2_S13_L001\n",
      "OPS_012_VAP_OPS_005REPEAT_TA_RNA_9625_P1040062_O12_S90_L001\n",
      "OPS_001_VAP_RNA_TA_9211_P1040934_S115_L003\n",
      "OPS_001_VAP_RNA_TA_8238_P1037603_S129_L004\n",
      "OPS_001_VAP_RNA_TA_7192_P1036820_S137_L004\n",
      "CHRF_0111_S183_L003_RNA\n",
      "VAP6_RNA_TA_6284_P1038322_S130\n",
      "OPS_012_VAP_OPS_005REPEAT_TA_RNA_2417_P1042393_G8_S40_L001\n",
      "OPS_012_VAP_OPS_005REPEAT_TA_RNA_9639_P1042245_I14_S55_L001\n",
      "\n",
      "\n",
      "ex: samples present in RNA-seq gene counts, but no metadata available - verified mostly DNA or otherwise OK\n",
      "138\n",
      "MBAL-301-DNA-TA\n",
      "MBAL-330-DNA-TA\n",
      "MBAL-369-DNA-TA\n",
      "MBAL-316-DNA-TA\n",
      "OPS013_UGD-HIV-PNEU-20161102_MEERA-DNA_UG2985B_BAL_B11_S11\n",
      "MBAL-202-DNA-TA\n",
      "MBAL-298-DNA-TA\n",
      "MBAL-268-DNA-TA\n",
      "OPS013_UGD-HIV-PNEU-20161102_MEERA-DNA_UG3025B_BAL_B1_S7\n",
      "OPS013_UGD-HIV-PNEU-20161102_MEERA-DNA_UG3150B_BAL_F1_S20\n",
      "MBAL-321-DNA-TA\n",
      "MBAL-385-DNA-TA\n",
      "MBAL-367-DNA-TA\n",
      "OPS013_UGD-HIV-PNEU-20161102_MEERA-DNA_UG2962B_BAL_B4_S10\n",
      "MBAL-237-DNA-TA\n",
      "MBAL-311-DNA-TA\n",
      "OPS013_UGD-HIV-PNEU-20161102_MEERA-DNA_UG2832B_BAL_A8_S4\n",
      "MBAL-324-DNA-TA\n",
      "MBAL-323-DNA-TA\n",
      "OPS013_UGD-HIV-PNEU-20161102_MEERA-DNA_UG3419B_BAL_C10_S18\n"
     ]
    }
   ],
   "source": [
    "print(\"ex: samples with metadata, but no sample in the genecounts matrix - verified all REPEATS, so OK\")\n",
    "print(len(list(set(clinical_df.index) - set(rnaseq_df.columns))))\n",
    "print('\\n'.join(list(set(clinical_df.index) - set(rnaseq_df.columns))[0:20]))\n",
    "print(\"\\n\")\n",
    "print(\"ex: samples present in RNA-seq gene counts, but no metadata available - verified mostly DNA or otherwise OK\")\n",
    "print(len(list(set(rnaseq_df.columns) - set(clinical_df.index))))\n",
    "print('\\n'.join(list(set(rnaseq_df.columns) - set(clinical_df.index))[0:20]))"
   ]
  },
  {
   "cell_type": "code",
   "execution_count": 10,
   "metadata": {},
   "outputs": [
    {
     "name": "stdout",
     "output_type": "stream",
     "text": [
      "(1201, 26)\n",
      "(73387, 1201)\n"
     ]
    }
   ],
   "source": [
    "# filter metadata and genecounts to include only samples that are present in boths\n",
    "samples_present_in_metadata_and_genecounts = list(set(clinical_df.index).intersection(rnaseq_df.columns))\n",
    "clinical_df = clinical_df.loc[[i in samples_present_in_metadata_and_genecounts for i in clinical_df.index]]\n",
    "rnaseq_df = rnaseq_df[list(clinical_df.index)]  #samples_present_in_metadata_and_genecounts\n",
    "print(clinical_df.shape)\n",
    "print(rnaseq_df.shape)"
   ]
  },
  {
   "cell_type": "code",
   "execution_count": 11,
   "metadata": {},
   "outputs": [
    {
     "name": "stdout",
     "output_type": "stream",
     "text": [
      "CHRF     98\n",
      "MBAL     92\n",
      "PTBI     94\n",
      "UGD     218\n",
      "VAP     699\n",
      "dtype: int64\n"
     ]
    },
    {
     "data": {
      "image/png": "[encoded data removed]",
      "text/plain": [
       "<matplotlib.figure.Figure at 0x7f2d46318080>"
      ]
     },
     "metadata": {},
     "output_type": "display_data"
    }
   ],
   "source": [
    "from collections import Counter\n",
    "print(pd.Series(Counter(clinical_df['Project'])))\n",
    "pd.Series(Counter(clinical_df['Project'])).plot(kind = 'bar')\n",
    "plt.savefig('/data/katrina/AutoEncode/tybalt/PDFS/project_distribution.pdf')"
   ]
  },
  {
   "cell_type": "markdown",
   "metadata": {},
   "source": [
    "## Begin processing different data types\n",
    "\n",
    "### RNAseq\n",
    "\n",
    "Perform basic QC on the RNA-seq data - filtering out samples with very low total counts (likely little input RNA) and genes with low prevalence."
   ]
  },
  {
   "cell_type": "code",
   "execution_count": 12,
   "metadata": {},
   "outputs": [],
   "source": [
    "# remove ERCCss\n",
    "patternDel = \"ERCC\"\n",
    "filter = rnaseq_df.index.str.contains(patternDel)\n",
    "rnaseq_df = rnaseq_df[~filter] "
   ]
  },
  {
   "cell_type": "code",
   "execution_count": 13,
   "metadata": {},
   "outputs": [],
   "source": [
    "per_sample_counts = np.log10(rnaseq_df.sum() + 1)\n",
    "\n",
    "if(sum(per_sample_counts.index != clinical_df.index) > 0):\n",
    "    print(\"ERROR: There is something wrong with the order of metadata v. samples - colors will be wrong!\")"
   ]
  },
  {
   "cell_type": "code",
   "execution_count": 16,
   "metadata": {},
   "outputs": [
    {
     "data": {
      "text/plain": [
       "count    1201.000000\n",
       "mean        5.858998\n",
       "std         0.508019\n",
       "min         3.454424\n",
       "25%         5.597438\n",
       "50%         5.890278\n",
       "75%         6.210587\n",
       "max         7.088288\n",
       "dtype: float64"
      ]
     },
     "execution_count": 16,
     "metadata": {},
     "output_type": "execute_result"
    }
   ],
   "source": [
    "per_sample_counts.describe()['mean']"
   ]
  },
  {
   "cell_type": "code",
   "execution_count": 14,
   "metadata": {},
   "outputs": [
    {
     "data": {
      "image/png": "[encoded data removed]",
      "text/plain": [
       "<matplotlib.figure.Figure at 0x7fcf9e46b908>"
      ]
     },
     "metadata": {},
     "output_type": "display_data"
    }
   ],
   "source": [
    "plt.figure(figsize=(3,3))\n",
    "plt.hist(per_sample_counts, bins=50)  # sum per sample\n",
    "plt.title(\"Counts per Sample, without ERCC\")\n",
    "plt.xlabel(\"log10(Sum of Gene Counts)\")\n",
    "plt.ylabel(\"# of Samples\")\n",
    "plt.savefig('/data/katrina/AutoEncode/tybalt/PDFS/vae_genecounts_per_sample_noERCCs.pdf')\n",
    "plt.show()"
   ]
  },
  {
   "cell_type": "code",
   "execution_count": 15,
   "metadata": {},
   "outputs": [
    {
     "data": {
      "image/png": "[encoded data removed]",
      "text/plain": [
       "<matplotlib.figure.Figure at 0x7fcf9e62d668>"
      ]
     },
     "metadata": {},
     "output_type": "display_data"
    }
   ],
   "source": [
    "color_dict = dict(zip( list(set(clinical_df['Project'])) ,sns.color_palette(\"hls\", len(set(clinical_df['Project'])))))\n",
    "patches = [ mpatches.Patch(color=color_dict[i], label=i ) for i in color_dict.keys() ]\n",
    "\n",
    "plt.figure(figsize = (12, 3))\n",
    "plt.scatter([i for i in range(len(per_sample_counts))], per_sample_counts,\n",
    "            color=[color_dict[i] for i in clinical_df['Project']] , alpha = .3)\n",
    "plt.legend(handles = patches)\n",
    "plt.ylim(0,8)\n",
    "plt.title(\"Sum of Gene Counts per Sample, by project\")\n",
    "plt.ylabel(\"log10(Sum of Gene Counts)\")\n",
    "plt.xlabel(\"Sample\")\n",
    "plt.axhline(y=per_sample_counts.describe()['mean'] - 2*per_sample_counts.describe()['std'])\n",
    "plt.axhline(y=per_sample_counts.describe()['mean'] + 2*per_sample_counts.describe()['std'])\n",
    "plt.savefig('/data/katrina/AutoEncode/tybalt/PDFS/genecounts_per_sample_by_project.pdf')\n",
    "plt.show()"
   ]
  },
  {
   "cell_type": "code",
   "execution_count": 16,
   "metadata": {},
   "outputs": [
    {
     "name": "stdout",
     "output_type": "stream",
     "text": [
      "(73295, 1201)\n",
      "(73295, 1143)\n"
     ]
    }
   ],
   "source": [
    "# Remove SAMPLES with < 2 std of the mean total counts\n",
    "print(rnaseq_df.shape)\n",
    "threshold = per_sample_counts.describe()['mean'] - 2*per_sample_counts.describe()['std']\n",
    "samples_to_keep = list(per_sample_counts[per_sample_counts > threshold].index)\n",
    "rnaseq_df = rnaseq_df[samples_to_keep]\n",
    "print(rnaseq_df.shape)"
   ]
  },
  {
   "cell_type": "code",
   "execution_count": 17,
   "metadata": {},
   "outputs": [
    {
     "name": "stdout",
     "output_type": "stream",
     "text": [
      "(1143, 26)\n"
     ]
    }
   ],
   "source": [
    "clinical_df = clinical_df.loc[rnaseq_df.columns]\n",
    "print(clinical_df.shape)"
   ]
  },
  {
   "cell_type": "code",
   "execution_count": 18,
   "metadata": {},
   "outputs": [
    {
     "name": "stdout",
     "output_type": "stream",
     "text": [
      "CHRF     70\n",
      "MBAL     91\n",
      "PTBI     81\n",
      "UGD     213\n",
      "VAP     688\n",
      "dtype: int64\n"
     ]
    },
    {
     "data": {
      "image/png": "[encoded data removed]",
      "text/plain": [
       "<matplotlib.figure.Figure at 0x7fcf9e625518>"
      ]
     },
     "metadata": {},
     "output_type": "display_data"
    }
   ],
   "source": [
    "print(pd.Series(Counter(clinical_df['Project'])))\n",
    "pd.Series(Counter(clinical_df['Project'])).plot(kind='bar')\n",
    "plt.savefig('/data/katrina/AutoEncode/tybalt/PDFS/project_distribution_afterfiltering.pdf')"
   ]
  },
  {
   "cell_type": "code",
   "execution_count": 19,
   "metadata": {},
   "outputs": [
    {
     "data": {
      "image/png": "[encoded data removed]",
      "text/plain": [
       "<matplotlib.figure.Figure at 0x7fa2ca711b00>"
      ]
     },
     "metadata": {},
     "output_type": "display_data"
    }
   ],
   "source": [
    "per_sample_counts = np.log10(rnaseq_df.sum() + 1)\n",
    "\n",
    "plt.figure(figsize = (12, 3))\n",
    "plt.scatter([i for i in range(len(per_sample_counts))], per_sample_counts,\n",
    "            color=[color_dict[i] for i in clinical_df['Project']] , alpha = .3)\n",
    "plt.legend(handles = patches)\n",
    "plt.ylim(0,8)\n",
    "plt.title(\"Sum of Gene Counts per Sample, by project (post-filter)\")\n",
    "plt.ylabel(\"log10(Sum of Gene Counts)\")\n",
    "plt.xlabel(\"Sample\")\n",
    "plt.axhline(y=threshold)\n",
    "plt.show()"
   ]
  },
  {
   "cell_type": "code",
   "execution_count": 20,
   "metadata": {},
   "outputs": [
    {
     "data": {
      "image/png": "[encoded data removed]",
      "text/plain": [
       "<matplotlib.figure.Figure at 0x7fa2c8499940>"
      ]
     },
     "metadata": {},
     "output_type": "display_data"
    }
   ],
   "source": [
    "per_gene_counts = np.log10(rnaseq_df + 1).sum(axis=1)\n",
    "plt.figure(figsize=(3,3))\n",
    "plt.hist(per_gene_counts, bins=50)  # sum per sample\n",
    "plt.title(\"Counts per Gene\")\n",
    "plt.xlabel(\"Sum of log10(Gene Counts)\")\n",
    "plt.ylabel(\"# of Genes\")\n",
    "plt.savefig('/data/katrina/AutoEncode/tybalt/PDFS/counts_per_gene_filtered.pdf')\n",
    "plt.show()"
   ]
  },
  {
   "cell_type": "code",
   "execution_count": 21,
   "metadata": {},
   "outputs": [
    {
     "data": {
      "image/png": "[encoded data removed]",
      "text/plain": [
       "<matplotlib.figure.Figure at 0x7fa2c84be668>"
      ]
     },
     "metadata": {},
     "output_type": "display_data"
    }
   ],
   "source": [
    "per_gene_prevalence = (rnaseq_df > 0).sum(axis=1)/(rnaseq_df.shape)[1]\n",
    "prevalence_threshold = per_gene_prevalence.describe()['25%']\n",
    "plt.figure(figsize=(3,3))\n",
    "plt.hist(per_gene_prevalence, bins=50)  # sum per sample\n",
    "plt.title(\"Prevalence per Gene\")\n",
    "plt.xlabel(\"# of Samples in which gene is expressed\")\n",
    "plt.ylabel(\"# of Genes\")\n",
    "plt.axvline(x=prevalence_threshold)\n",
    "plt.savefig('/data/katrina/AutoEncode/tybalt/PDFS/prevalence_per_gene_filtered.pdf')\n",
    "plt.show()"
   ]
  },
  {
   "cell_type": "code",
   "execution_count": 22,
   "metadata": {},
   "outputs": [
    {
     "data": {
      "text/plain": [
       "count    73295.000000\n",
       "mean         0.329174\n",
       "std          0.307121\n",
       "min          0.000000\n",
       "25%          0.092738\n",
       "50%          0.228346\n",
       "75%          0.498688\n",
       "max          1.000000\n",
       "dtype: float64"
      ]
     },
     "execution_count": 22,
     "metadata": {},
     "output_type": "execute_result"
    }
   ],
   "source": [
    "per_gene_prevalence.describe()"
   ]
  },
  {
   "cell_type": "code",
   "execution_count": 23,
   "metadata": {},
   "outputs": [
    {
     "name": "stdout",
     "output_type": "stream",
     "text": [
      "(73295, 1143)\n",
      "(54922, 1143)\n"
     ]
    }
   ],
   "source": [
    "print(rnaseq_df.shape)\n",
    "genes_to_keep = list(per_gene_prevalence[per_gene_prevalence > prevalence_threshold].index)\n",
    "rnaseq_df2 = rnaseq_df.loc[genes_to_keep]\n",
    "print(rnaseq_df2.shape)"
   ]
  },
  {
   "cell_type": "code",
   "execution_count": 24,
   "metadata": {},
   "outputs": [],
   "source": [
    "# Process RNAseq file\n",
    "#rnaseq_df.index = rnaseq_df.index.map(lambda x: x.split('|')[0])\n",
    "#rnaseq_df.columns = rnaseq_df.columns.str.slice(start=0, stop=15)\n",
    "\n",
    "# Gene is listed twice in RNAseq data, drop both occurrences\n",
    "#rnaseq_df.drop('SLC35E2', axis=0, inplace=True)\n",
    "rnaseq_df2 = np.log10(rnaseq_df2.T + 1)\n",
    "\n",
    "# Determine most variably expressed genes and subset\n",
    "num_mad_genes = 5000\n",
    "mad_genes = rnaseq_df2.mad(axis=0).sort_values(ascending=False)\n",
    "top_mad_genes = mad_genes.iloc[0:num_mad_genes, ].index\n",
    "rnaseq_subset_df = rnaseq_df2.loc[:, top_mad_genes]"
   ]
  },
  {
   "cell_type": "code",
   "execution_count": 25,
   "metadata": {},
   "outputs": [
    {
     "data": {
      "text/plain": [
       "11244                 1.085564\n",
       "1868215               1.084482\n",
       "ENSG00000229807.9     1.015299\n",
       "586                   1.001982\n",
       "Uncategorized         0.971028\n",
       "12059                 0.956411\n",
       "12058                 0.946220\n",
       "1903414               0.943805\n",
       "ENSG00000067048.16    0.941545\n",
       "ENSG00000202198.1     0.909840\n",
       "ENSG00000236138.4     0.901340\n",
       "ENSG00000169894.17    0.900117\n",
       "ENSG00000115414.18    0.884630\n",
       "ENSG00000280156.1     0.880575\n",
       "Bacteria              0.876172\n",
       "ENSG00000281344.1     0.872132\n",
       "ENSG00000169429.10    0.867955\n",
       "ENSG00000251562.7     0.865711\n",
       "ENSG00000173369.15    0.853635\n",
       "ENSG00000244734.3     0.849216\n",
       "dtype: float64"
      ]
     },
     "execution_count": 25,
     "metadata": {},
     "output_type": "execute_result"
    }
   ],
   "source": [
    "mad_genes.head(20) # verify 1. these are gene names, 2. relative functional relevance via ToppGene"
   ]
  },
  {
   "cell_type": "code",
   "execution_count": 33,
   "metadata": {},
   "outputs": [
    {
     "data": {
      "text/plain": [
       "(array([  22.,   12.,   48.,  137.,  185.,  168.,  103.,   59.,   76.,\n",
       "          86.,   61.,   41.,   39.,   51.,   18.,   21.,   10.,    3.,\n",
       "           1.,    2.]),\n",
       " array([ 0.00411772,  0.14010955,  0.27610138,  0.41209321,  0.54808504,\n",
       "         0.68407687,  0.82006871,  0.95606054,  1.09205237,  1.2280442 ,\n",
       "         1.36403603,  1.50002786,  1.63601969,  1.77201152,  1.90800335,\n",
       "         2.04399518,  2.17998701,  2.31597885,  2.45197068,  2.58796251,\n",
       "         2.72395434]),\n",
       " <a list of 20 Patch objects>)"
      ]
     },
     "execution_count": 33,
     "metadata": {},
     "output_type": "execute_result"
    },
    {
     "data": {
      "image/png": "[encoded data removed]",
      "text/plain": [
       "<matplotlib.figure.Figure at 0x7fa2ca793d30>"
      ]
     },
     "metadata": {},
     "output_type": "display_data"
    }
   ],
   "source": [
    "pgp = (rnaseq_subset_df).sum(axis=1)/(rnaseq_subset_df.shape)[1]\n",
    "plt.hist(pgp, bins=20)"
   ]
  },
  {
   "cell_type": "code",
   "execution_count": 26,
   "metadata": {},
   "outputs": [],
   "source": [
    "rnaseq_subset_df.fillna(0, inplace=True)"
   ]
  },
  {
   "cell_type": "code",
   "execution_count": 27,
   "metadata": {},
   "outputs": [],
   "source": [
    "# Scale RNAseq data using z-scores\n",
    "rnaseq_scaled_df = preprocessing.StandardScaler().fit_transform(rnaseq_subset_df)\n",
    "rnaseq_scaled_df = pd.DataFrame(rnaseq_scaled_df,\n",
    "                                columns=rnaseq_subset_df.columns,\n",
    "                                index=rnaseq_subset_df.index)\n",
    "rnaseq_scaled_df.to_csv(rna_out_file, sep='\\t', compression='gzip')\n",
    "\n",
    "# Scale RNAseq data using zero-one normalization\n",
    "rnaseq_scaled_zeroone_df = preprocessing.MinMaxScaler().fit_transform(rnaseq_subset_df)\n",
    "rnaseq_scaled_zeroone_df = pd.DataFrame(rnaseq_scaled_zeroone_df,\n",
    "                                        columns=rnaseq_subset_df.columns,\n",
    "                                        index=rnaseq_subset_df.index)\n",
    "rnaseq_scaled_zeroone_df.to_csv(rna_out_zeroone_file, sep='\\t', compression='gzip')"
   ]
  },
  {
   "cell_type": "markdown",
   "metadata": {},
   "source": [
    "### Clinical Data\n",
    "\n",
    "The clinical data consists of hundreds of parameters collected for the TCGA samples. Some columns are redundant, while others contain high amounts of missing data. Select and rename only a couple columns of interest."
   ]
  },
  {
   "cell_type": "code",
   "execution_count": 28,
   "metadata": {},
   "outputs": [
    {
     "data": {
      "text/plain": [
       "{'CHRF', 'MBAL', 'PTBI', 'UGD', 'VAP'}"
      ]
     },
     "execution_count": 28,
     "metadata": {},
     "output_type": "execute_result"
    }
   ],
   "source": [
    "set(clinical_df['Project'])"
   ]
  },
  {
   "cell_type": "code",
   "execution_count": 29,
   "metadata": {},
   "outputs": [],
   "source": [
    "# clinical data was modified above to include only samples present in the gene expression data\n",
    "clinical_df.to_csv(clinical_processed_out_file, sep='\\t')"
   ]
  },
  {
   "cell_type": "code",
   "execution_count": 30,
   "metadata": {},
   "outputs": [
    {
     "name": "stdout",
     "output_type": "stream",
     "text": [
      "1143\n",
      "686\n"
     ]
    }
   ],
   "source": [
    "print(len(['VAP' in i for i in list(rnaseq_scaled_df.index)]))\n",
    "print(sum(['VAP' in i for i in list(rnaseq_scaled_df.index)]))"
   ]
  }
 ],
 "metadata": {
  "kernelspec": {
   "display_name": "Python [default]",
   "language": "python",
   "name": "python3"
  },
  "language_info": {
   "codemirror_mode": {
    "name": "ipython",
    "version": 3
   },
   "file_extension": ".py",
   "mimetype": "text/x-python",
   "name": "python",
   "nbconvert_exporter": "python",
   "pygments_lexer": "ipython3",
   "version": "3.5.5"
  }
 },
 "nbformat": 4,
 "nbformat_minor": 1
}
